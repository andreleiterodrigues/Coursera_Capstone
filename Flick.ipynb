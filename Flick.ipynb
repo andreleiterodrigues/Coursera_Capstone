{
 "cells": [
  {
   "cell_type": "code",
   "execution_count": 1,
   "id": "3eb95ff7",
   "metadata": {},
   "outputs": [],
   "source": [
    "import xml.etree.ElementTree as ET\n",
    "import requests"
   ]
  },
  {
   "cell_type": "code",
   "execution_count": 2,
   "id": "8a989363",
   "metadata": {},
   "outputs": [],
   "source": [
    "# nome dos ficheiros a criar\n",
    "\n",
    "f = open('flickr.csv', 'w', encoding=\"utf-8\")\n",
    "g = open('smallboxes.csv', 'w', encoding=\"utf-8\")"
   ]
  },
  {
   "cell_type": "code",
   "execution_count": 3,
   "id": "0522d2ef",
   "metadata": {},
   "outputs": [],
   "source": [
    "#create the cursor\n",
    "#cur = conn.cursor\n",
    "url = 'https://api.flickr.com/services/rest/?method=flickr.photos.search&api_key=XXXXXXXXXXXXXXXXXXX'"
   ]
  },
  {
   "cell_type": "code",
   "execution_count": 4,
   "id": "56178946",
   "metadata": {},
   "outputs": [],
   "source": [
    "##Coordenadas do rectangulo que abrange a area de estudo, graus decimais WGS84 \n",
    "bboxlist = [[-9.229836,38.690188,-9.086333,38.803988]]\n",
    "#initialize the smallbox list\n",
    "smallboxes = []"
   ]
  },
  {
   "cell_type": "code",
   "execution_count": 5,
   "id": "9289227d",
   "metadata": {},
   "outputs": [],
   "source": [
    "#current box check for the total number of photos\n",
    "def check_current_box(curbox):\n",
    "    stringBox = str(curbox).strip(\"[]\")\n",
    "    args = { 'min_taken_date' : '2016-01-01', # data de inicio de recolha dos dados\n",
    "             'max_taken_date' : '2021-09-29', # data de fim de recolha de dados\n",
    "             'bbox' : stringBox,\n",
    "             'extras' : 'geo, url_m, tags, views, date_taken, date_upload, media, owner_name'}\n",
    "    box = requests.get(url, params = args)\n",
    "    #need to parse element 'photos' in order to get\n",
    "    #this will need to be debugged\n",
    "    checkBox = ET.fromstring(box.content)\n",
    "    total = int(checkBox[0].attrib['total'])\n",
    "    nopages = int(checkBox[0].attrib['pages'])\n",
    "    return {\"total\": total, \"pages\": nopages}"
   ]
  },
  {
   "cell_type": "code",
   "execution_count": 6,
   "id": "0f18a07d",
   "metadata": {},
   "outputs": [
    {
     "name": "stdout",
     "output_type": "stream",
     "text": [
