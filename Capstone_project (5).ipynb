{
 "cells": [
  {
   "cell_type": "markdown",
   "metadata": {},
   "source": [
    "# Spatial Analysis of racial and income inequality in São Paulo"
   ]
  },
  {
   "cell_type": "code",
   "execution_count": null,
   "metadata": {},
   "outputs": [],
   "source": []
  },
  {
   "cell_type": "markdown",
   "metadata": {},
   "source": [
    "Notebook for the Capstone Project IBM Data Science course.\\\n",
    "By André Leite Rodrigues"
   ]
  },
  {
   "cell_type": "markdown",
   "metadata": {},
   "source": [
    "\n"
   ]
  },
  {
   "cell_type": "markdown",
   "metadata": {},
   "source": [
    "## 1. Introduction"
   ]
  },
  {
   "cell_type": "markdown",
   "metadata": {},
   "source": [
    "Brazil has the second highest concentration of income in the world, says UN report [1]. In Brazil, the richest 1% concentrates 28.3% of the country's total income. That is, almost a third of the income is in the hands of the wealthiest. The richest 10% in Brazil, on the other hand, account for 41.9% of the total income.\\\n",
    "\\\n",
    "This inequality of income reflects in the occupation of urban spaces. In the city of São Paulo it's possible see big mansions in the best places of the city (in terms of infrastructure) in contrast with big favelas in the poorest places.\\\n",
    "\\\n",
    "But in addition to income inequality, Brazil still faces a problem of structural racism. Dimensions of our history and culture that have allowed privileges associated with “whiteness” and disadvantages associated with “color” to endure and adapt over time.[2] Brazil was the last country in the Americas to abolish slavery. Without compensation or preparation to insert these ex-slaves into society and without treating racism as a problem, more than 130 years after the abolition the Brazilian inequality is colored: the majority of the poor population is black in contrast to the rich population where the majority is white ."
   ]
  },
  {
   "cell_type": "markdown",
   "metadata": {},
   "source": [
    "### 1.1\t Objective"
   ]
  },
  {
   "cell_type": "markdown",
   "metadata": {},
   "source": [
    "Use the techniques learned during the 9 modules of the Data Science course offered by IBM on the Coursera platform to analyze the census data from São Paulo in order to understand whether race, income and infrastructure have a correlation and whether it is possible to identify groups of these variables in the map of São Paulo."
   ]
  },
  {
   "cell_type": "markdown",
   "metadata": {},
   "source": [
    "## 2.\tData acquisition and source"
   ]
  },
  {
   "cell_type": "markdown",
   "metadata": {},
   "source": [
    "First, the census data from the Brazilian Institute of Geography and Statistics (IBGE) will be analyzed [3]. The IBGE promotes the national census every 10 years, but due to COVID-19 this year's census is delayed. Therefore, in this study I will use the data from the 2010 census. The census data are available for everyone to access on the Internet at www.ibge.gov.br in the downloads section> Census> 2010 population census> Universe results> Aggregated by census sectors . You can download all research documentation as well.\\\n",
    "\n",
    "The files used for this analysis will be:\n",
    "\n",
    "•\tDomicílioRenda_SP1.csv: file containing the average nominal income of the census sector. From this table, the following variables will be used:\\\n",
    "o\tCod_setor:  census sector id;\\\n",
    "o\tV002: Total nominal monthly income of private households.\n",
    "\n",
    "•\tPessoa03_UF.csv: file containing the number of resident people and the declared race. From this table the following variables will be used:\\\n",
    "o\tCod_setor: census sector id;\\\n",
    "o\tV001: Total resident people;\\\n",
    "o\tV003: Resident people and color or race - black;\\\n",
    "o\tV005: Resident people and color or race - brown;\n",
    "\n",
    "The geographical unit worked on in this study is the census sector. The census sector is the territorial unit established for the purpose of cadastral control, formed by a continuous area, located in a single urban or rural framework, with the size and number of households that allow for the survey by a census taker. IBGE provides the geographical limits of the census sector in .kmz and .shp formats. They are spatial vector formats in the shape of polygons. For this study I will use only the centroid of these areas as a geographical reference, transforming the polygons into points and converting them to the.json format. The figure below illustrates the division of São Paulo into census sectors."
   ]
  },
  {
   "cell_type": "markdown",
   "metadata": {},
   "source": [
    "![SETOR](https://static.wixstatic.com/media/8ff60f_3d95f176c01b42cc91ca334d34a4239b~mv2.jpg)"
   ]
  },
  {
   "cell_type": "markdown",
   "metadata": {},
   "source": [
    "The city of São Paulo has 18363 census tracts, each sector has an average of 300 households.\n",
    "\n",
    "To understand the distribution of Health, Education and Culture equipment, forecast data from São Paulo will be used, available at http://geosampa.prefeitura.sp.gov.br/.\n",
    "\n",
    "To access the data just enter the website and go to \"downloads\"> \"equipment\" and choose as bases. All variables already have a mark to which census sector they belong to.Finally, the last database will be built by Foursquare's API venues. It is mandatory and I will extract information from two diferente districts for compare.\n"
   ]
  },
  {
   "cell_type": "markdown",
   "metadata": {},
   "source": [
    "## 3. Methodology"
   ]
  },
  {
   "cell_type": "markdown",
   "metadata": {},
   "source": [
    "Fist, install and import librarys"
   ]
  },
  {
   "cell_type": "code",
   "execution_count": 18,
   "metadata": {},
   "outputs": [],
   "source": [
    "!pip -q install folium\n",
    "!pip -q install geopy"
   ]
  },
  {
   "cell_type": "code",
   "execution_count": 19,
   "metadata": {},
   "outputs": [],
   "source": [
    "import numpy as np\n",
    "import pandas as pd\n",
    "import json\n",
    "import geopy\n",
    "import requests\n",
    "from pandas.io.json import json_normalize\n",
    "import matplotlib.cm as cm\n",
    "import matplotlib.colors as colors\n",
    "from sklearn.cluster import KMeans\n",
    "import folium"
   ]
  },
  {
   "cell_type": "markdown",
   "metadata": {},
   "source": [
    "### 3.1 Space census sector data cleaning and structuring"
   ]
  },
  {
   "cell_type": "markdown",
   "metadata": {},
   "source": [
    "The first data treated is the census sectors. Firstly, this data is made available in the shapefile (.shp) format, so I started its treatment in a specific tool for spatial data, ArcGIS. There are other tools available for download that can provide the treatment of this data, but as I have the ArcGIS license I preferred to work with this tool using the python language and its arcpy library.\n",
    "\n",
    "After downloading from the IBGE website, some treatments are required to use the data. IBGE uses the SIRGAS 2000 cartographic reference system, but most open maps work with WGS84. Cartographic projections are systems of geographic coordinates, consisting of parallel meridians (imaginary semicircle drawn from one pole of the Earth to another) (imaginary lines parallel to the Equator), on which the spherical surface of the Earth can be represented.\n",
    "The first step is to project SIRGAS to WGS84. This conversion is necessary so that the sector data are in the same coordinate system as the maps."
   ]
  },
  {
   "cell_type": "code",
   "execution_count": null,
   "metadata": {},
   "outputs": [],
   "source": [
    "# Import arcpy module\n",
    "import arcpy\n",
    "\n",
    "# Local variables:\n",
    "v33SEE250GC_SIR = \"33SEE250GC_SIR\"\n",
    "c33SEE250GC_SIR_Select1 = \"C:\\\\Users\\\\N5755650\\\\Documents\\\\ArcGIS\\\\Default.gdb\\\\c33SEE250GC_SIR_Select1\"\n",
    "c33SEE250GC_SIR_Select1_Proj = \"C:\\\\Users\\\\N5755650\\\\Documents\\\\ArcGIS\\\\Default.gdb\\\\c33SEE250GC_SIR_Select1_Proj\"\n",
    "\n",
    "# Process: Select\n",
    "arcpy.Select_analysis(v33SEE250GC_SIR, c33SEE250GC_SIR_Select1, \"\\\"CD_GEOCODM\\\" = '3550308'\")\n",
    "\n",
    "# Process: Project\n",
    "arcpy.Project_management(c33SEE250GC_SIR_Select1, c33SEE250GC_SIR_Select1_Proj, \"GEOGCS['GCS_WGS_1984',DATUM['D_WGS_1984',SPHEROID['WGS_1984',6378137.0,298.257223563]],PRIMEM['Greenwich',0.0],UNIT['Degree',0.0174532925199433]]\", \"SIRGAS_2000_To_WGS_1984_1\", \"GEOGCS['GCS_SIRGAS_2000',DATUM['D_SIRGAS_2000',SPHEROID['GRS_1980',6378137.0,298.257222101]],PRIMEM['Greenwich',0.0],UNIT['Degree',0.0174532925199433]]\", \"NO_PRESERVE_SHAPE\", \"\", \"NO_VERTICAL\")"
   ]
  },
  {
   "cell_type": "markdown",
   "metadata": {},
   "source": [
    "In this script I selected only the city of São Paulo (3550308), area of ​​interest for the study. Then I transformed the shape from polygons to points and exported it to the json format."
   ]
  },
  {
   "cell_type": "code",
   "execution_count": null,
   "metadata": {},
   "outputs": [],
   "source": [
    "# Local variables:\n",
    "c33SEE250GC_SIR_Select1_Proj = \"c33SEE250GC_SIR_Select1_Proj\"\n",
    "setor_point = \"C:\\\\Users\\\\N5755650\\\\Documents\\\\ArcGIS\\\\Default.gdb\\\\setor_point\"\n",
    "setor_json_json = \"C:\\\\Users\\\\N5755650\\\\Desktop\\\\IBM\\\\Capstone\\\\Setor_censitario\\\\setor_json.json\"\n",
    "\n",
    "# Process: Feature To Point\n",
    "arcpy.FeatureToPoint_management(c33SEE250GC_SIR_Select1_Proj, setor_point, \"CENTROID\")\n",
    "\n",
    "# Process: Features To JSON\n",
    "arcpy.FeaturesToJSON_conversion(setor_point, setor_json_json, \"NOT_FORMATTED\", \"NO_Z_VALUES\", \"NO_M_VALUES\", \"GEOJSON\")"
   ]
  },
  {
   "cell_type": "markdown",
   "metadata": {},
   "source": [
    "Next step is upload json file para o notebook"
   ]
  },
  {
   "cell_type": "code",
   "execution_count": 4,
   "metadata": {},
   "outputs": [],
   "source": [
    "with open('setor_json.json') as json_data:\n",
    "    setor_point = json.load(json_data)"
   ]
  },
  {
   "cell_type": "markdown",
   "metadata": {},
   "source": [
    "The next task is transforming this data of nested Python dictionaries into a pandas dataframe. So let's start by creating an empty dataframe. Then loop through the data and fill the dataframe one row at a time."
   ]
  },
  {
   "cell_type": "code",
   "execution_count": 5,
   "metadata": {},
   "outputs": [],
   "source": [
    "setor_data = setor_point['features']\n",
    "\n",
    "# define the dataframe columns\n",
    "column_names = ['CD_SETOR', 'CD_DIST', 'NM_DIST', 'LAT', 'LONG'] \n",
    "\n",
    "# instantiate the dataframe\n",
    "setores = pd.DataFrame(columns=column_names)"
   ]
  },
  {
   "cell_type": "code",
   "execution_count": 6,
   "metadata": {},
   "outputs": [
    {
     "data": {
      "text/plain": [
       "{'type': 'Feature',\n",
       " 'id': 1,\n",
       " 'geometry': {'type': 'Point',\n",
       "  'coordinates': [-46.518793322999954, -23.580867744999978]},\n",
       " 'properties': {'OBJECTID': 1,\n",
       "  'CD_GEOCODI': '355030804000079',\n",
       "  'CD_GEOCODD': '355030804',\n",
       "  'NM_DISTRIT': 'ARICANDUVA',\n",
       "  'LAT': -23.580867744892075,\n",
       "  'LONG': -46.51879332282634,\n",
       "  'ORIG_FID': 1}}"
      ]
     },
     "execution_count": 6,
     "metadata": {},
     "output_type": "execute_result"
    }
   ],
   "source": [
    "setor_data[0]"
   ]
  },
  {
   "cell_type": "code",
   "execution_count": 7,
   "metadata": {},
   "outputs": [],
   "source": [
    "for data in setor_data:\n",
    "    cod_setor = data['properties']['CD_GEOCODI']\n",
    "    cod_dist = data['properties']['CD_GEOCODD']\n",
    "    NM_DIST = data['properties']['NM_DISTRIT']\n",
    "    \n",
    "    latlon = data['geometry']['coordinates']\n",
    "    lat = latlon[1]\n",
    "    long = latlon[0]\n",
    "    \n",
    "    setores = setores.append({'CD_SETOR': cod_setor,\n",
    "                                          'CD_DIST': cod_dist,\n",
    "                                          'NM_DIST': NM_DIST,\n",
    "                                          'LAT': lat,\n",
    "                                          'LONG': long}, ignore_index=True)"
   ]
  },
  {
   "cell_type": "code",
   "execution_count": 78,
   "metadata": {},
   "outputs": [
    {
     "data": {
      "text/html": [
       "<div>\n",
       "<style scoped>\n",
       "    .dataframe tbody tr th:only-of-type {\n",
       "        vertical-align: middle;\n",
       "    }\n",
       "\n",
       "    .dataframe tbody tr th {\n",
       "        vertical-align: top;\n",
       "    }\n",
       "\n",
       "    .dataframe thead th {\n",
       "        text-align: right;\n",
       "    }\n",
       "</style>\n",
       "<table border=\"1\" class=\"dataframe\">\n",
       "  <thead>\n",
       "    <tr style=\"text-align: right;\">\n",
       "      <th></th>\n",
       "      <th>CD_SETOR</th>\n",
       "      <th>CD_DIST</th>\n",
       "      <th>NM_DIST</th>\n",
       "      <th>LAT</th>\n",
       "      <th>LONG</th>\n",
       "    </tr>\n",
       "  </thead>\n",
       "  <tbody>\n",
       "    <tr>\n",
       "      <th>0</th>\n",
       "      <td>355030804000079</td>\n",
       "      <td>355030804</td>\n",
       "      <td>ARICANDUVA</td>\n",
       "      <td>-23.580868</td>\n",
       "      <td>-46.518793</td>\n",
       "    </tr>\n",
       "    <tr>\n",
       "      <th>1</th>\n",
       "      <td>355030804000080</td>\n",
       "      <td>355030804</td>\n",
       "      <td>ARICANDUVA</td>\n",
       "      <td>-23.580699</td>\n",
       "      <td>-46.520071</td>\n",
       "    </tr>\n",
       "    <tr>\n",
       "      <th>2</th>\n",
       "      <td>355030804000081</td>\n",
       "      <td>355030804</td>\n",
       "      <td>ARICANDUVA</td>\n",
       "      <td>-23.581415</td>\n",
       "      <td>-46.521093</td>\n",
       "    </tr>\n",
       "    <tr>\n",
       "      <th>3</th>\n",
       "      <td>355030804000082</td>\n",
       "      <td>355030804</td>\n",
       "      <td>ARICANDUVA</td>\n",
       "      <td>-23.580942</td>\n",
       "      <td>-46.522501</td>\n",
       "    </tr>\n",
       "    <tr>\n",
       "      <th>4</th>\n",
       "      <td>355030804000083</td>\n",
       "      <td>355030804</td>\n",
       "      <td>ARICANDUVA</td>\n",
       "      <td>-23.582057</td>\n",
       "      <td>-46.525141</td>\n",
       "    </tr>\n",
       "  </tbody>\n",
       "</table>\n",
       "</div>"
      ],
      "text/plain": [
       "          CD_SETOR    CD_DIST     NM_DIST        LAT       LONG\n",
       "0  355030804000079  355030804  ARICANDUVA -23.580868 -46.518793\n",
       "1  355030804000080  355030804  ARICANDUVA -23.580699 -46.520071\n",
       "2  355030804000081  355030804  ARICANDUVA -23.581415 -46.521093\n",
       "3  355030804000082  355030804  ARICANDUVA -23.580942 -46.522501\n",
       "4  355030804000083  355030804  ARICANDUVA -23.582057 -46.525141"
      ]
     },
     "execution_count": 78,
     "metadata": {},
     "output_type": "execute_result"
    }
   ],
   "source": [
    "setores.head(5)"
   ]
  },
  {
   "cell_type": "markdown",
   "metadata": {},
   "source": [
    "And to finish this step, a map was created to see if the data are consistent."
   ]
  },
  {
   "cell_type": "code",
   "execution_count": null,
   "metadata": {},
   "outputs": [],
   "source": [
    "# create map of São Paulo using latitude and longitude values\n",
    "map_sp = folium.Map(location=[-23.547152, -46.634934], zoom_start=11)\n",
    "\n",
    "# add markers to map\n",
    "for lat, long, NM_DIST, CD_SETOR in zip(setores['LAT'], setores['LONG'], setores['NM_DIST'], setores['CD_SETOR']):\n",
    "    label = '{}, {}'.format(CD_SETOR, NM_DIST)\n",
    "    label = folium.Popup(label, parse_html=True)\n",
    "    folium.CircleMarker(\n",
    "        [lat, long],\n",
    "        radius=5,\n",
    "        popup=label,\n",
    "        color='blue',\n",
    "        fill=True,\n",
    "        fill_color='#3186cc',\n",
    "        fill_opacity=0.7,\n",
    "        parse_html=False).add_to(map_sp)  \n",
    "    "
   ]
  },
  {
   "cell_type": "markdown",
   "metadata": {},
   "source": [
    "### 3.2 Extracting and preparing FourSquare data – Points of Interest (POI)."
   ]
  },
  {
   "cell_type": "markdown",
   "metadata": {},
   "source": [
    "As previously described, São Paulo has more than 18,000 census sectors, which would be too much to get all information via the FourSquare API. For specific analysis of points of interest using this API, only 2 districts of the city will be analyzed: Moema and Vila Andrade.\n",
    "\n",
    "The first step is to register on the FourSquare developer portal, and create a CLIENT ID and CLIENT SECRET for our application. With that we can start the data extraction process."
   ]
  },
  {
   "cell_type": "code",
   "execution_count": 84,
   "metadata": {},
   "outputs": [],
   "source": [
    "CLIENT_ID = '2XD1F5NZ5MNIPPVM5FD4CZVRXLBMHIZ524T5PKE4DMXJD5WX' # your Foursquare ID\n",
    "CLIENT_SECRET = 'LR45O2LHZDOZMJIKBT0VMBND1JN5CVETUII2WK0OWLWN0APN' # your Foursquare Secret\n",
    "VERSION = '20180605' # Foursquare API version"
   ]
  },
  {
   "cell_type": "code",
   "execution_count": 290,
   "metadata": {},
   "outputs": [
    {
     "data": {
      "text/html": [
       "<div>\n",
       "<style scoped>\n",
       "    .dataframe tbody tr th:only-of-type {\n",
       "        vertical-align: middle;\n",
       "    }\n",
       "\n",
       "    .dataframe tbody tr th {\n",
       "        vertical-align: top;\n",
       "    }\n",
       "\n",
       "    .dataframe thead th {\n",
       "        text-align: right;\n",
       "    }\n",
       "</style>\n",
       "<table border=\"1\" class=\"dataframe\">\n",
       "  <thead>\n",
       "    <tr style=\"text-align: right;\">\n",
       "      <th></th>\n",
       "      <th>CD_SETOR</th>\n",
       "      <th>CD_DIST</th>\n",
       "      <th>NM_DIST</th>\n",
       "      <th>LAT</th>\n",
       "      <th>LONG</th>\n",
       "    </tr>\n",
       "  </thead>\n",
       "  <tbody>\n",
       "    <tr>\n",
       "      <th>0</th>\n",
       "      <td>355030832000144</td>\n",
       "      <td>355030832</td>\n",
       "      <td>MOEMA</td>\n",
       "      <td>-23.605718</td>\n",
       "      <td>-46.663424</td>\n",
       "    </tr>\n",
       "    <tr>\n",
       "      <th>1</th>\n",
       "      <td>355030832000145</td>\n",
       "      <td>355030832</td>\n",
       "      <td>MOEMA</td>\n",
       "      <td>-23.605008</td>\n",
       "      <td>-46.661929</td>\n",
       "    </tr>\n",
       "    <tr>\n",
       "      <th>2</th>\n",
       "      <td>355030832000146</td>\n",
       "      <td>355030832</td>\n",
       "      <td>MOEMA</td>\n",
       "      <td>-23.613246</td>\n",
       "      <td>-46.662828</td>\n",
       "    </tr>\n",
       "    <tr>\n",
       "      <th>3</th>\n",
       "      <td>355030832000147</td>\n",
       "      <td>355030832</td>\n",
       "      <td>MOEMA</td>\n",
       "      <td>-23.573885</td>\n",
       "      <td>-46.655216</td>\n",
       "    </tr>\n",
       "    <tr>\n",
       "      <th>4</th>\n",
       "      <td>355030832000148</td>\n",
       "      <td>355030832</td>\n",
       "      <td>MOEMA</td>\n",
       "      <td>-23.606396</td>\n",
       "      <td>-46.664017</td>\n",
       "    </tr>\n",
       "  </tbody>\n",
       "</table>\n",
       "</div>"
      ],
      "text/plain": [
       "          CD_SETOR    CD_DIST NM_DIST        LAT       LONG\n",
       "0  355030832000144  355030832   MOEMA -23.605718 -46.663424\n",
       "1  355030832000145  355030832   MOEMA -23.605008 -46.661929\n",
       "2  355030832000146  355030832   MOEMA -23.613246 -46.662828\n",
       "3  355030832000147  355030832   MOEMA -23.573885 -46.655216\n",
       "4  355030832000148  355030832   MOEMA -23.606396 -46.664017"
      ]
     },
     "execution_count": 290,
     "metadata": {},
     "output_type": "execute_result"
    }
   ],
   "source": [
    "moema = setores[setores['CD_DIST'] == '355030832'].reset_index(drop=True)\n",
    "moema.head()"
   ]
  },
  {
   "cell_type": "code",
   "execution_count": 307,
   "metadata": {},
   "outputs": [
    {
     "data": {
      "text/html": [
       "<div>\n",
       "<style scoped>\n",
       "    .dataframe tbody tr th:only-of-type {\n",
       "        vertical-align: middle;\n",
       "    }\n",
       "\n",
       "    .dataframe tbody tr th {\n",
       "        vertical-align: top;\n",
       "    }\n",
       "\n",
       "    .dataframe thead th {\n",
       "        text-align: right;\n",
       "    }\n",
       "</style>\n",
       "<table border=\"1\" class=\"dataframe\">\n",
       "  <thead>\n",
       "    <tr style=\"text-align: right;\">\n",
       "      <th></th>\n",
       "      <th>CD_SETOR</th>\n",
       "      <th>CD_DIST</th>\n",
       "      <th>NM_DIST</th>\n",
       "      <th>LAT</th>\n",
       "      <th>LONG</th>\n",
       "    </tr>\n",
       "  </thead>\n",
       "  <tbody>\n",
       "    <tr>\n",
       "      <th>0</th>\n",
       "      <td>355030883000073</td>\n",
       "      <td>355030883</td>\n",
       "      <td>VILA ANDRADE</td>\n",
       "      <td>-23.619246</td>\n",
       "      <td>-46.723707</td>\n",
       "    </tr>\n",
       "    <tr>\n",
       "      <th>1</th>\n",
       "      <td>355030883000074</td>\n",
       "      <td>355030883</td>\n",
       "      <td>VILA ANDRADE</td>\n",
       "      <td>-23.620158</td>\n",
       "      <td>-46.724846</td>\n",
       "    </tr>\n",
       "    <tr>\n",
       "      <th>2</th>\n",
       "      <td>355030883000075</td>\n",
       "      <td>355030883</td>\n",
       "      <td>VILA ANDRADE</td>\n",
       "      <td>-23.618117</td>\n",
       "      <td>-46.707971</td>\n",
       "    </tr>\n",
       "    <tr>\n",
       "      <th>3</th>\n",
       "      <td>355030883000076</td>\n",
       "      <td>355030883</td>\n",
       "      <td>VILA ANDRADE</td>\n",
       "      <td>-23.618224</td>\n",
       "      <td>-46.725569</td>\n",
       "    </tr>\n",
       "    <tr>\n",
       "      <th>4</th>\n",
       "      <td>355030883000077</td>\n",
       "      <td>355030883</td>\n",
       "      <td>VILA ANDRADE</td>\n",
       "      <td>-23.616790</td>\n",
       "      <td>-46.743777</td>\n",
       "    </tr>\n",
       "  </tbody>\n",
       "</table>\n",
       "</div>"
      ],
      "text/plain": [
       "          CD_SETOR    CD_DIST       NM_DIST        LAT       LONG\n",
       "0  355030883000073  355030883  VILA ANDRADE -23.619246 -46.723707\n",
       "1  355030883000074  355030883  VILA ANDRADE -23.620158 -46.724846\n",
       "2  355030883000075  355030883  VILA ANDRADE -23.618117 -46.707971\n",
       "3  355030883000076  355030883  VILA ANDRADE -23.618224 -46.725569\n",
       "4  355030883000077  355030883  VILA ANDRADE -23.616790 -46.743777"
      ]
     },
     "execution_count": 307,
     "metadata": {},
     "output_type": "execute_result"
    }
   ],
   "source": [
    "vila_andrade = setores[setores['CD_DIST'] == '355030883'].reset_index(drop=True)\n",
    "vila_andrade.head()"
   ]
  },
  {
   "cell_type": "markdown",
   "metadata": {},
   "source": [
    "After that, a process was made to consult each of the id codes of the census sectors and search for the first 10 venues within a radius of 500 meters, creating a table containing with the CD_SETOR, the Venue and its category (in addition to the respective latitudes and longitudes)."
   ]
  },
  {
   "cell_type": "code",
   "execution_count": 164,
   "metadata": {},
   "outputs": [],
   "source": [
    "LIMIT=10\n",
    "radius=500"
   ]
  },
  {
   "cell_type": "code",
   "execution_count": 300,
   "metadata": {},
   "outputs": [],
   "source": [
    "def getNearbyVenues(names, latitudes, longitudes, radius=500):\n",
    "    \n",
    "    venues_list=[]\n",
    "    for name, lat, lng in zip(names, latitudes, longitudes):\n",
    "        print(name)\n",
    "            \n",
    "        # create the API request URL\n",
    "        url = 'https://api.foursquare.com/v2/venues/explore?&client_id={}&client_secret={}&v={}&ll={},{}&radius={}&limit={}'.format(\n",
    "            CLIENT_ID, \n",
    "            CLIENT_SECRET, \n",
    "            VERSION, \n",
    "            lat, \n",
    "            lng, \n",
    "            radius, \n",
    "            LIMIT)       \n",
    "        \n",
    "        # make the GET request\n",
    "        results = requests.get(url).json()['response']['groups'][0]['items']\n",
    "        \n",
    "                             \n",
    "        # return only relevant information for each nearby venue\n",
    "        venues_list.append([(\n",
    "            name, \n",
    "            lat, \n",
    "            lng, \n",
    "            v['venue']['name'], \n",
    "            v['venue']['location']['lat'], \n",
    "            v['venue']['location']['lng'],  \n",
    "            v['venue']['categories'][0]['name']) for v in results])\n",
    "\n",
    "    nearby_venues = pd.DataFrame([item for venue_list in venues_list for item in venue_list])\n",
    "    nearby_venues.columns = ['CD_SETOR', \n",
    "                  'Latitude', \n",
    "                  'Longitude', \n",
    "                  'Venue', \n",
    "                  'Venue Latitude', \n",
    "                  'Venue Longitude', \n",
    "                  'Venue Category']\n",
    "    \n",
    "    return(nearby_venues)\n"
   ]
  },
  {
   "cell_type": "code",
   "execution_count": 301,
   "metadata": {},
   "outputs": [
    {
     "name": "stdout",
     "output_type": "stream",
     "text": [
      "355030832000144\n",
      "355030832000145\n",
      "355030832000146\n",
      "355030832000147\n",
      "355030832000148\n",
      "355030832000149\n",
      "355030832000150\n",
      "355030832000151\n",
      "355030832000152\n",
      "355030832000153\n",
      "355030832000154\n",
      "355030832000155\n",
      "355030832000156\n",
      "355030832000157\n",
      "355030832000158\n",
      "355030832000001\n",
      "355030832000002\n",
      "355030832000003\n",
      "355030832000004\n",
      "355030832000005\n",
      "355030832000006\n",
      "355030832000007\n",
      "355030832000008\n",
      "355030832000009\n",
      "355030832000010\n",
      "355030832000011\n",
      "355030832000012\n",
      "355030832000013\n",
      "355030832000014\n",
      "355030832000015\n",
      "355030832000016\n",
      "355030832000017\n",
      "355030832000018\n",
      "355030832000019\n",
      "355030832000020\n",
      "355030832000021\n",
      "355030832000022\n",
      "355030832000023\n",
      "355030832000024\n",
      "355030832000025\n",
      "355030832000026\n",
      "355030832000027\n",
      "355030832000028\n",
      "355030832000029\n",
      "355030832000030\n",
      "355030832000031\n",
      "355030832000032\n",
      "355030832000033\n",
      "355030832000034\n",
      "355030832000035\n",
      "355030832000036\n",
      "355030832000037\n",
      "355030832000038\n",
      "355030832000039\n",
      "355030832000040\n",
      "355030832000041\n",
      "355030832000042\n",
      "355030832000043\n",
      "355030832000044\n",
      "355030832000045\n",
      "355030832000046\n",
      "355030832000047\n",
      "355030832000048\n",
      "355030832000049\n",
      "355030832000050\n",
      "355030832000051\n",
      "355030832000052\n",
      "355030832000053\n",
      "355030832000054\n",
      "355030832000055\n",
      "355030832000056\n",
      "355030832000057\n",
      "355030832000058\n",
      "355030832000059\n",
      "355030832000060\n",
      "355030832000061\n",
      "355030832000062\n",
      "355030832000063\n",
      "355030832000064\n",
      "355030832000065\n",
      "355030832000066\n",
      "355030832000067\n",
      "355030832000068\n",
      "355030832000069\n",
      "355030832000070\n",
      "355030832000071\n",
      "355030832000072\n",
      "355030832000073\n",
      "355030832000074\n",
      "355030832000075\n",
      "355030832000076\n",
      "355030832000077\n",
      "355030832000078\n",
      "355030832000079\n",
      "355030832000080\n",
      "355030832000081\n",
      "355030832000082\n",
      "355030832000083\n",
      "355030832000084\n",
      "355030832000085\n",
      "355030832000086\n",
      "355030832000087\n",
      "355030832000088\n",
      "355030832000089\n",
      "355030832000090\n",
      "355030832000091\n",
      "355030832000092\n",
      "355030832000093\n",
      "355030832000094\n",
      "355030832000095\n",
      "355030832000096\n",
      "355030832000097\n",
      "355030832000098\n",
      "355030832000099\n",
      "355030832000100\n",
      "355030832000101\n",
      "355030832000102\n",
      "355030832000103\n",
      "355030832000104\n",
      "355030832000105\n",
      "355030832000106\n",
      "355030832000107\n",
      "355030832000108\n",
      "355030832000109\n",
      "355030832000110\n",
      "355030832000111\n",
      "355030832000112\n",
      "355030832000113\n",
      "355030832000114\n",
      "355030832000115\n",
      "355030832000116\n",
      "355030832000117\n",
      "355030832000118\n",
      "355030832000119\n",
      "355030832000120\n",
      "355030832000121\n",
      "355030832000122\n",
      "355030832000123\n",
      "355030832000124\n",
      "355030832000125\n",
      "355030832000126\n",
      "355030832000127\n",
      "355030832000128\n",
      "355030832000129\n",
      "355030832000130\n",
      "355030832000131\n",
      "355030832000132\n",
      "355030832000133\n",
      "355030832000134\n",
      "355030832000135\n",
      "355030832000136\n",
      "355030832000137\n",
      "355030832000138\n",
      "355030832000139\n",
      "355030832000140\n",
      "355030832000141\n",
      "355030832000142\n",
      "355030832000143\n",
      "355030832000159\n",
      "355030832000160\n",
      "355030832000161\n",
      "355030832000162\n",
      "355030832000163\n",
      "355030832000164\n",
      "355030832000165\n",
      "355030832000166\n",
      "355030832000167\n",
      "355030832000168\n",
      "355030832000169\n",
      "355030832000170\n",
      "355030832000171\n",
      "355030832000172\n",
      "355030832000173\n",
      "355030832000174\n",
      "355030832000175\n",
      "355030832000176\n",
      "355030832000177\n"
     ]
    }
   ],
   "source": [
    "moema_venues = getNearbyVenues(names=moema['CD_SETOR'], latitudes=setores['LAT'], longitudes=setores['LONG'])"
   ]
  },
  {
   "cell_type": "code",
   "execution_count": 304,
   "metadata": {},
   "outputs": [
    {
     "data": {
      "text/html": [
       "<div>\n",
       "<style scoped>\n",
       "    .dataframe tbody tr th:only-of-type {\n",
       "        vertical-align: middle;\n",
       "    }\n",
       "\n",
       "    .dataframe tbody tr th {\n",
       "        vertical-align: top;\n",
       "    }\n",
       "\n",
       "    .dataframe thead th {\n",
       "        text-align: right;\n",
       "    }\n",
       "</style>\n",
       "<table border=\"1\" class=\"dataframe\">\n",
       "  <thead>\n",
       "    <tr style=\"text-align: right;\">\n",
       "      <th></th>\n",
       "      <th>CD_SETOR</th>\n",
       "      <th>Latitude</th>\n",
       "      <th>Longitude</th>\n",
       "      <th>Venue</th>\n",
       "      <th>Venue Latitude</th>\n",
       "      <th>Venue Longitude</th>\n",
       "      <th>Venue Category</th>\n",
       "    </tr>\n",
       "  </thead>\n",
       "  <tbody>\n",
       "    <tr>\n",
       "      <th>0</th>\n",
       "      <td>355030832000144</td>\n",
       "      <td>-23.580868</td>\n",
       "      <td>-46.518793</td>\n",
       "      <td>Pastelaria Ki Delícia</td>\n",
       "      <td>-23.578314</td>\n",
       "      <td>-46.517249</td>\n",
       "      <td>Pastelaria</td>\n",
       "    </tr>\n",
       "    <tr>\n",
       "      <th>1</th>\n",
       "      <td>355030832000144</td>\n",
       "      <td>-23.580868</td>\n",
       "      <td>-46.518793</td>\n",
       "      <td>Robruel Fitness</td>\n",
       "      <td>-23.582432</td>\n",
       "      <td>-46.518864</td>\n",
       "      <td>Gym</td>\n",
       "    </tr>\n",
       "    <tr>\n",
       "      <th>2</th>\n",
       "      <td>355030832000144</td>\n",
       "      <td>-23.580868</td>\n",
       "      <td>-46.518793</td>\n",
       "      <td>Boutique do Pão</td>\n",
       "      <td>-23.582946</td>\n",
       "      <td>-46.517506</td>\n",
       "      <td>Bakery</td>\n",
       "    </tr>\n",
       "    <tr>\n",
       "      <th>3</th>\n",
       "      <td>355030832000144</td>\n",
       "      <td>-23.580868</td>\n",
       "      <td>-46.518793</td>\n",
       "      <td>Drogaria São Paulo</td>\n",
       "      <td>-23.577447</td>\n",
       "      <td>-46.516724</td>\n",
       "      <td>Pharmacy</td>\n",
       "    </tr>\n",
       "    <tr>\n",
       "      <th>4</th>\n",
       "      <td>355030832000144</td>\n",
       "      <td>-23.580868</td>\n",
       "      <td>-46.518793</td>\n",
       "      <td>Cia Mega Fitness</td>\n",
       "      <td>-23.576740</td>\n",
       "      <td>-46.517256</td>\n",
       "      <td>Gymnastics Gym</td>\n",
       "    </tr>\n",
       "  </tbody>\n",
       "</table>\n",
       "</div>"
      ],
      "text/plain": [
       "          CD_SETOR   Latitude  Longitude                  Venue  \\\n",
       "0  355030832000144 -23.580868 -46.518793  Pastelaria Ki Delícia   \n",
       "1  355030832000144 -23.580868 -46.518793        Robruel Fitness   \n",
       "2  355030832000144 -23.580868 -46.518793        Boutique do Pão   \n",
       "3  355030832000144 -23.580868 -46.518793     Drogaria São Paulo   \n",
       "4  355030832000144 -23.580868 -46.518793       Cia Mega Fitness   \n",
       "\n",
       "   Venue Latitude  Venue Longitude  Venue Category  \n",
       "0      -23.578314       -46.517249      Pastelaria  \n",
       "1      -23.582432       -46.518864             Gym  \n",
       "2      -23.582946       -46.517506          Bakery  \n",
       "3      -23.577447       -46.516724        Pharmacy  \n",
       "4      -23.576740       -46.517256  Gymnastics Gym  "
      ]
     },
     "execution_count": 304,
     "metadata": {},
     "output_type": "execute_result"
    }
   ],
   "source": [
    "moema_venues.head()"
   ]
  },
  {
   "cell_type": "markdown",
   "metadata": {},
   "source": [
    "The same procedure was carried out for the Vila Andrade district."
   ]
  },
  {
   "cell_type": "code",
   "execution_count": 308,
   "metadata": {},
   "outputs": [
    {
     "name": "stdout",
     "output_type": "stream",
     "text": [
      "355030883000073\n",
      "355030883000074\n",
      "355030883000075\n",
      "355030883000076\n",
      "355030883000077\n",
      "355030883000078\n",
      "355030883000079\n",
      "355030883000080\n",
      "355030883000081\n",
      "355030883000082\n",
      "355030883000083\n",
      "355030883000084\n",
      "355030883000085\n",
      "355030883000086\n",
      "355030883000185\n",
      "355030883000186\n",
      "355030883000187\n",
      "355030883000188\n",
      "355030883000189\n",
      "355030883000190\n",
      "355030883000191\n",
      "355030883000192\n",
      "355030883000193\n",
      "355030883000194\n",
      "355030883000195\n",
      "355030883000196\n",
      "355030883000197\n",
      "355030883000198\n",
      "355030883000001\n",
      "355030883000002\n",
      "355030883000003\n",
      "355030883000004\n",
      "355030883000005\n",
      "355030883000006\n",
      "355030883000007\n",
      "355030883000008\n",
      "355030883000009\n",
      "355030883000010\n",
      "355030883000011\n",
      "355030883000012\n",
      "355030883000013\n",
      "355030883000014\n",
      "355030883000015\n",
      "355030883000016\n",
      "355030883000017\n",
      "355030883000018\n",
      "355030883000019\n",
      "355030883000020\n",
      "355030883000021\n",
      "355030883000022\n",
      "355030883000023\n",
      "355030883000024\n",
      "355030883000025\n",
      "355030883000026\n",
      "355030883000027\n",
      "355030883000028\n",
      "355030883000029\n",
      "355030883000030\n",
      "355030883000031\n",
      "355030883000032\n",
      "355030883000033\n",
      "355030883000034\n",
      "355030883000035\n",
      "355030883000036\n",
      "355030883000037\n",
      "355030883000038\n",
      "355030883000039\n",
      "355030883000040\n",
      "355030883000041\n",
      "355030883000042\n",
      "355030883000043\n",
      "355030883000044\n",
      "355030883000045\n",
      "355030883000046\n",
      "355030883000047\n",
      "355030883000048\n",
      "355030883000049\n",
      "355030883000050\n",
      "355030883000051\n",
      "355030883000052\n",
      "355030883000053\n",
      "355030883000054\n",
      "355030883000055\n",
      "355030883000056\n",
      "355030883000057\n",
      "355030883000058\n",
      "355030883000059\n",
      "355030883000060\n",
      "355030883000061\n",
      "355030883000062\n",
      "355030883000063\n",
      "355030883000064\n",
      "355030883000065\n",
      "355030883000066\n",
      "355030883000067\n",
      "355030883000068\n",
      "355030883000069\n",
      "355030883000070\n",
      "355030883000071\n",
      "355030883000072\n",
      "355030883000087\n",
      "355030883000088\n",
      "355030883000089\n",
      "355030883000090\n",
      "355030883000091\n",
      "355030883000092\n",
      "355030883000093\n",
      "355030883000094\n",
      "355030883000095\n",
      "355030883000096\n",
      "355030883000097\n",
      "355030883000098\n",
      "355030883000099\n",
      "355030883000100\n",
      "355030883000101\n",
      "355030883000102\n",
      "355030883000103\n",
      "355030883000104\n",
      "355030883000105\n",
      "355030883000106\n",
      "355030883000107\n",
      "355030883000108\n",
      "355030883000109\n",
      "355030883000110\n",
      "355030883000111\n",
      "355030883000112\n",
      "355030883000113\n",
      "355030883000114\n",
      "355030883000115\n",
      "355030883000116\n",
      "355030883000117\n",
      "355030883000118\n",
      "355030883000119\n",
      "355030883000120\n",
      "355030883000121\n",
      "355030883000122\n",
      "355030883000123\n",
      "355030883000124\n",
      "355030883000125\n",
      "355030883000126\n",
      "355030883000127\n",
      "355030883000128\n",
      "355030883000129\n",
      "355030883000130\n",
      "355030883000131\n",
      "355030883000132\n",
      "355030883000133\n",
      "355030883000134\n",
      "355030883000135\n",
      "355030883000136\n",
      "355030883000137\n",
      "355030883000138\n",
      "355030883000139\n",
      "355030883000140\n",
      "355030883000141\n",
      "355030883000142\n",
      "355030883000143\n",
      "355030883000144\n",
      "355030883000145\n",
      "355030883000146\n",
      "355030883000147\n",
      "355030883000148\n",
      "355030883000149\n",
      "355030883000150\n",
      "355030883000151\n",
      "355030883000152\n",
      "355030883000153\n",
      "355030883000154\n",
      "355030883000155\n",
      "355030883000156\n",
      "355030883000157\n",
      "355030883000158\n",
      "355030883000159\n",
      "355030883000160\n",
      "355030883000161\n",
      "355030883000162\n",
      "355030883000163\n",
      "355030883000164\n",
      "355030883000165\n",
      "355030883000166\n",
      "355030883000167\n",
      "355030883000168\n",
      "355030883000169\n",
      "355030883000170\n",
      "355030883000171\n",
      "355030883000172\n",
      "355030883000173\n",
      "355030883000174\n",
      "355030883000175\n",
      "355030883000176\n",
      "355030883000177\n",
      "355030883000178\n",
      "355030883000179\n",
      "355030883000180\n",
      "355030883000181\n",
      "355030883000182\n",
      "355030883000183\n",
      "355030883000184\n",
      "355030883000199\n",
      "355030883000200\n",
      "355030883000201\n",
      "355030883000202\n",
      "355030883000203\n",
      "355030883000204\n",
      "355030883000205\n",
      "355030883000206\n",
      "355030883000207\n",
      "355030883000208\n",
      "355030883000209\n",
      "355030883000210\n",
      "355030883000211\n",
      "355030883000212\n",
      "355030883000213\n",
      "355030883000214\n",
      "355030883000215\n",
      "355030883000216\n",
      "355030883000217\n",
      "355030883000218\n",
      "355030883000219\n",
      "355030883000220\n",
      "355030883000221\n",
      "355030883000222\n",
      "355030883000223\n"
     ]
    }
   ],
   "source": [
    "vila_andrade = getNearbyVenues(names=vila_andrade['CD_SETOR'], latitudes=setores['LAT'], longitudes=setores['LONG'])"
   ]
  },
  {
   "cell_type": "code",
   "execution_count": 309,
   "metadata": {},
   "outputs": [
    {
     "data": {
      "text/html": [
       "<div>\n",
       "<style scoped>\n",
       "    .dataframe tbody tr th:only-of-type {\n",
       "        vertical-align: middle;\n",
       "    }\n",
       "\n",
       "    .dataframe tbody tr th {\n",
       "        vertical-align: top;\n",
       "    }\n",
       "\n",
       "    .dataframe thead th {\n",
       "        text-align: right;\n",
       "    }\n",
       "</style>\n",
       "<table border=\"1\" class=\"dataframe\">\n",
       "  <thead>\n",
       "    <tr style=\"text-align: right;\">\n",
       "      <th></th>\n",
       "      <th>CD_SETOR</th>\n",
       "      <th>Latitude</th>\n",
       "      <th>Longitude</th>\n",
       "      <th>Venue</th>\n",
       "      <th>Venue Latitude</th>\n",
       "      <th>Venue Longitude</th>\n",
       "      <th>Venue Category</th>\n",
       "    </tr>\n",
       "  </thead>\n",
       "  <tbody>\n",
       "    <tr>\n",
       "      <th>0</th>\n",
       "      <td>355030883000073</td>\n",
       "      <td>-23.580868</td>\n",
       "      <td>-46.518793</td>\n",
       "      <td>Pastelaria Ki Delícia</td>\n",
       "      <td>-23.578314</td>\n",
       "      <td>-46.517249</td>\n",
       "      <td>Pastelaria</td>\n",
       "    </tr>\n",
       "    <tr>\n",
       "      <th>1</th>\n",
       "      <td>355030883000073</td>\n",
       "      <td>-23.580868</td>\n",
       "      <td>-46.518793</td>\n",
       "      <td>Robruel Fitness</td>\n",
       "      <td>-23.582432</td>\n",
       "      <td>-46.518864</td>\n",
       "      <td>Gym</td>\n",
       "    </tr>\n",
       "    <tr>\n",
       "      <th>2</th>\n",
       "      <td>355030883000073</td>\n",
       "      <td>-23.580868</td>\n",
       "      <td>-46.518793</td>\n",
       "      <td>Boutique do Pão</td>\n",
       "      <td>-23.582946</td>\n",
       "      <td>-46.517506</td>\n",
       "      <td>Bakery</td>\n",
       "    </tr>\n",
       "    <tr>\n",
       "      <th>3</th>\n",
       "      <td>355030883000073</td>\n",
       "      <td>-23.580868</td>\n",
       "      <td>-46.518793</td>\n",
       "      <td>Drogaria São Paulo</td>\n",
       "      <td>-23.577447</td>\n",
       "      <td>-46.516724</td>\n",
       "      <td>Pharmacy</td>\n",
       "    </tr>\n",
       "    <tr>\n",
       "      <th>4</th>\n",
       "      <td>355030883000073</td>\n",
       "      <td>-23.580868</td>\n",
       "      <td>-46.518793</td>\n",
       "      <td>Cia Mega Fitness</td>\n",
       "      <td>-23.576740</td>\n",
       "      <td>-46.517256</td>\n",
       "      <td>Gymnastics Gym</td>\n",
       "    </tr>\n",
       "  </tbody>\n",
       "</table>\n",
       "</div>"
      ],
      "text/plain": [
       "          CD_SETOR   Latitude  Longitude                  Venue  \\\n",
       "0  355030883000073 -23.580868 -46.518793  Pastelaria Ki Delícia   \n",
       "1  355030883000073 -23.580868 -46.518793        Robruel Fitness   \n",
       "2  355030883000073 -23.580868 -46.518793        Boutique do Pão   \n",
       "3  355030883000073 -23.580868 -46.518793     Drogaria São Paulo   \n",
       "4  355030883000073 -23.580868 -46.518793       Cia Mega Fitness   \n",
       "\n",
       "   Venue Latitude  Venue Longitude  Venue Category  \n",
       "0      -23.578314       -46.517249      Pastelaria  \n",
       "1      -23.582432       -46.518864             Gym  \n",
       "2      -23.582946       -46.517506          Bakery  \n",
       "3      -23.577447       -46.516724        Pharmacy  \n",
       "4      -23.576740       -46.517256  Gymnastics Gym  "
      ]
     },
     "execution_count": 309,
     "metadata": {},
     "output_type": "execute_result"
    }
   ],
   "source": [
    "vila_andrade.head()"
   ]
  },
  {
   "cell_type": "code",
   "execution_count": 310,
   "metadata": {},
   "outputs": [
    {
     "data": {
      "text/plain": [
       "(2122, 7)"
      ]
     },
     "execution_count": 310,
     "metadata": {},
     "output_type": "execute_result"
    }
   ],
   "source": [
    "vila_andrade.shape"
   ]
  },
  {
   "cell_type": "markdown",
   "metadata": {},
   "source": [
    "Finally, the data was exported to csv files."
   ]
  },
  {
   "cell_type": "code",
   "execution_count": 312,
   "metadata": {},
   "outputs": [],
   "source": [
    "moema_venue.to_csv(r'C:\\Users\\N5755650\\Desktop\\IBM\\Capstone\\moema.csv')"
   ]
  },
  {
   "cell_type": "code",
   "execution_count": 313,
   "metadata": {},
   "outputs": [],
   "source": [
    "vila_andrade.to_csv(r'C:\\Users\\N5755650\\Desktop\\IBM\\Capstone\\vl_andrade.csv')"
   ]
  },
  {
   "cell_type": "markdown",
   "metadata": {},
   "source": [
    "### 3.3. Creating SQL DataBase in IBM Db2 on Cloud"
   ]
  },
  {
   "cell_type": "markdown",
   "metadata": {},
   "source": [
    "A cloud database is a database service built and accessed through a cloud platform. It serves many of the same functions as traditional databases with the added flexibility of cloud computing.\n",
    "\n",
    "To create this database I navigate to IBM Cloud and select the Db2 on Cloud service. Type a service instance name, choose the region to deploy to, as well as an org and space for the service, then click create. You should be able to see details related to connection configuration when you open the web console for the Db2 on Cloud service. The connection details include the following: a host name, which is a unique name or label assigned to any device that is connected to a specific computer network. A port number, which is the database port. The database name, which is the database name. A user ID, which is the username you'll use to connect. Password, is the password you'll use to connect."
   ]
  },
  {
   "cell_type": "markdown",
   "metadata": {},
   "source": [
    "#### 3.3.1. Loading Tables "
   ]
  },
  {
   "cell_type": "markdown",
   "metadata": {},
   "source": [
    "The follow tables was load in Db2:\n",
    "•\tPessoa03_SP1.csv as POPULATION: this table contain the data about color, race and gender from IBGE CENSUS;\n",
    "•\tDomicílioRenda_SP1.csv as INCOME: this table contain the data about income from IBGE CENSUS;\n",
    "•\tGEOINFO_CT_CULTURA_2018_Variáveis.csv as CULTURA: Information from São Paulo city about culture equipaments like librarys, theaters;\n",
    "•\tGEOINFO_CT_EDUCACAO_2018_Variáveis.csv as EDUCATION: Information from São Paulo city about schools and students;\n",
    "•\tGEOINFO_CT_SAUDE_2018_Variáveis.csv as HEALTH: Information from São Paulo city about clinics, First Aid centers, Hospitals and beds;\n",
    "•\tSetores_censo_2010 as SETORES: Information about sector ID and district id.\n",
    "\n",
    "To upload tables, it’s just open IBM Db2 console and click in Load Data, choose the file, elect a load target, create new table, verify the fields and upload\n"
   ]
  },
  {
   "cell_type": "markdown",
   "metadata": {},
   "source": [
    "#### 3.3.2. Prepare table Summary sector "
   ]
  },
  {
   "cell_type": "markdown",
   "metadata": {},
   "source": [
    "Import and load the SQL extension. "
   ]
  },
  {
   "cell_type": "code",
   "execution_count": 1,
   "metadata": {},
   "outputs": [],
   "source": [
    "%load_ext sql\n",
    "import ibm_db\n",
    "import pandas\n",
    "import ibm_db_dbi"
   ]
  },
  {
   "cell_type": "markdown",
   "metadata": {},
   "source": [
    "Create a database connection with my credentials and conect with my database."
   ]
  },
  {
   "cell_type": "code",
   "execution_count": 2,
   "metadata": {},
   "outputs": [],
   "source": [
    "#Replace the placeholder values with the actuals for your Db2 Service Credentials\n",
    "dsn_driver = \"{BLUDB}\"\n",
    "dsn_database = \"BLUDB\"            # e.g. \"BLUDB\"\n",
    "dsn_hostname = \"dashdb-txn-sbox-yp-dal09-08.services.dal.bluemix.net\"            # e.g.: \"dashdb-txn-sbox-yp-dal09-04.services.dal.bluemix.net\"\n",
    "dsn_port = \"50000\"                    # e.g. \"50000\" \n",
    "dsn_protocol = \"TCPIP\"            # i.e. \"TCPIP\"\n",
    "dsn_uid = \"lqx82186\"                 # e.g. \"abc12345\"\n",
    "dsn_pwd = \"q23px8b3cn8n-lfk\"                 # e.g. \"7dBZ3wWt9XN6$o0J\""
   ]
  },
  {
   "cell_type": "code",
   "execution_count": 3,
   "metadata": {},
   "outputs": [
    {
     "name": "stdout",
     "output_type": "stream",
     "text": [
      "Connected to database:  BLUDB as user:  lqx82186 on host:  dashdb-txn-sbox-yp-dal09-08.services.dal.bluemix.net\n"
     ]
    }
   ],
   "source": [
    "#Create database connection\n",
    "#DO NOT MODIFY THIS CELL. Just RUN it with Shift + Enter\n",
    "dsn = (\n",
    "    \"DRIVER={0};\"\n",
    "    \"DATABASE={1};\"\n",
    "    \"HOSTNAME={2};\"\n",
    "    \"PORT={3};\"\n",
    "    \"PROTOCOL={4};\"\n",
    "    \"UID={5};\"\n",
    "    \"PWD={6};\").format(dsn_driver, dsn_database, dsn_hostname, dsn_port, dsn_protocol, dsn_uid, dsn_pwd)\n",
    "\n",
    "try:\n",
    "    conn = ibm_db.connect(dsn, \"\", \"\")\n",
    "    print (\"Connected to database: \", dsn_database, \"as user: \", dsn_uid, \"on host: \", dsn_hostname)\n",
    "\n",
    "except:\n",
    "    print (\"Unable to connect: \", ibm_db.conn_errormsg() )"
   ]
  },
  {
   "cell_type": "code",
   "execution_count": 4,
   "metadata": {},
   "outputs": [
    {
     "data": {
      "text/plain": [
       "'Connected: lqx82186@BLUDB'"
      ]
     },
     "execution_count": 4,
     "metadata": {},
     "output_type": "execute_result"
    }
   ],
   "source": [
    "%sql ibm_db_sa://lqx82186:q23px8b3cn8n-lfk@dashdb-txn-sbox-yp-dal09-08.services.dal.bluemix.net:50000/BLUDB"
   ]
  },
  {
   "cell_type": "markdown",
   "metadata": {},
   "source": [
    "Using SQL query, I group by sector ID, count the number of equipaments per sector and sum the number of students in EDUCATION table. I Do the same metodology for HEALTH but sum the number of hospital beds e for CULTURE I just count the number of equipaments."
   ]
  },
  {
   "cell_type": "code",
   "execution_count": 5,
   "metadata": {},
   "outputs": [
    {
     "name": "stdout",
     "output_type": "stream",
     "text": [
      " * ibm_db_sa://lqx82186:***@dashdb-txn-sbox-yp-dal09-08.services.dal.bluemix.net:50000/BLUDB\n",
      "Done.\n"
     ]
    },
    {
     "data": {
      "text/html": [
       "<table>\n",
       "    <tr>\n",
       "        <th>id</th>\n",
       "        <th>coord_e</th>\n",
       "        <th>coord_n</th>\n",
       "        <th>setcens</th>\n",
       "        <th>areap</th>\n",
       "        <th>coddist</th>\n",
       "        <th>distrito</th>\n",
       "        <th>codsubpref</th>\n",
       "        <th>subpref</th>\n",
       "        <th>regiao5</th>\n",
       "        <th>regiao8</th>\n",
       "        <th>nomesc</th>\n",
       "        <th>endesc</th>\n",
       "        <th>numesc</th>\n",
       "        <th>complend</th>\n",
       "        <th>endereco_a</th>\n",
       "        <th>baiesc</th>\n",
       "        <th>cep</th>\n",
       "        <th>fone1</th>\n",
       "        <th>fone2</th>\n",
       "        <th>email</th>\n",
       "        <th>ed_diretor</th>\n",
       "        <th>diretoria</th>\n",
       "        <th>dre</th>\n",
       "        <th>ed_zona</th>\n",
       "        <th>zona</th>\n",
       "        <th>codesc</th>\n",
       "        <th>codescmec</th>\n",
       "        <th>ed_depadm</th>\n",
       "        <th>depadm</th>\n",
       "        <th>ed_tipo</th>\n",
       "        <th>tipo</th>\n",
       "        <th>ed_categ</th>\n",
       "        <th>categ</th>\n",
       "        <th>alcreche</th>\n",
       "        <th>alpre</th>\n",
       "        <th>alee</th>\n",
       "        <th>al9ini</th>\n",
       "        <th>al9fin</th>\n",
       "        <th>alem</th>\n",
       "        <th>alprof</th>\n",
       "        <th>aleja1a4</th>\n",
       "        <th>aleja5a8</th>\n",
       "        <th>alejaem</th>\n",
       "        <th>al_total</th>\n",
       "        <th>clcreche</th>\n",
       "        <th>clpre</th>\n",
       "        <th>cl9ini</th>\n",
       "        <th>cl9fin</th>\n",
       "        <th>clem</th>\n",
       "    </tr>\n",
       "    <tr>\n",
       "        <td>1</td>\n",
       "        <td>315396.89</td>\n",
       "        <td>7406487.32</td>\n",
       "        <td>355030803000111</td>\n",
       "        <td>3550308005307</td>\n",
       "        <td>3</td>\n",
       "        <td>ANHANGUERA</td>\n",
       "        <td>1</td>\n",
       "        <td>PERUS</td>\n",
       "        <td>Norte</td>\n",
       "        <td>Norte 2</td>\n",
       "        <td>EMEF MARILI DIAS PROFA</td>\n",
       "        <td>RUA ANTONIO CONSELHEIRO</td>\n",
       "        <td>1</td>\n",
       "        <td>RUA</td>\n",
       "        <td>RUA ANTONIO CONSELHEIRO 1</td>\n",
       "        <td>VILA DOS PALMARES</td>\n",
       "        <td>5273140</td>\n",
       "        <td>39163375</td>\n",
       "        <td>39163376</td>\n",
       "        <td>EMEFMARILIDIAS@PREFEITURA.SP.GOV.BR</td>\n",
       "        <td>10101</td>\n",
       "        <td>NORTE 1</td>\n",
       "        <td>PIRITUBA</td>\n",
       "        <td>1</td>\n",
       "        <td>URBANA</td>\n",
       "        <td>355185</td>\n",
       "        <td>35355185</td>\n",
       "        <td>2</td>\n",
       "        <td>MUNICIPAL</td>\n",
       "        <td>310</td>\n",
       "        <td>EMEF</td>\n",
       "        <td>1</td>\n",
       "        <td>ESCOLAS AUTONOMAS</td>\n",
       "        <td>0</td>\n",
       "        <td>0</td>\n",
       "        <td>0</td>\n",
       "        <td>496</td>\n",
       "        <td>449</td>\n",
       "        <td>0</td>\n",
       "        <td>0</td>\n",
       "        <td>0</td>\n",
       "        <td>0</td>\n",
       "        <td>0</td>\n",
       "        <td>945</td>\n",
       "        <td>0</td>\n",
       "        <td>0</td>\n",
       "        <td>17</td>\n",
       "        <td>15</td>\n",
       "        <td>0</td>\n",
       "    </tr>\n",
       "    <tr>\n",
       "        <td>2</td>\n",
       "        <td>315463.46</td>\n",
       "        <td>7406948.59</td>\n",
       "        <td>355030803000121</td>\n",
       "        <td>3550308005307</td>\n",
       "        <td>3</td>\n",
       "        <td>ANHANGUERA</td>\n",
       "        <td>1</td>\n",
       "        <td>PERUS</td>\n",
       "        <td>Norte</td>\n",
       "        <td>Norte 2</td>\n",
       "        <td>CR P CONV FAMILIA JUDA</td>\n",
       "        <td>PIRAPORA</td>\n",
       "        <td>101</td>\n",
       "        <td>ESTRADA</td>\n",
       "        <td>ESTRADA PIRAPORA 101</td>\n",
       "        <td>JARDIM JARAGUA</td>\n",
       "        <td>5275010</td>\n",
       "        <td>39112876</td>\n",
       "        <td>965342165</td>\n",
       "        <td>CEIFAMJUDA@GMAIL.COM</td>\n",
       "        <td>10101</td>\n",
       "        <td>NORTE 1</td>\n",
       "        <td>PIRITUBA</td>\n",
       "        <td>1</td>\n",
       "        <td>URBANA</td>\n",
       "        <td>579324</td>\n",
       "        <td>35579324</td>\n",
       "        <td>3</td>\n",
       "        <td>PRIVADA</td>\n",
       "        <td>308</td>\n",
       "        <td>CR.P.CONV</td>\n",
       "        <td>1</td>\n",
       "        <td>ESCOLAS AUTONOMAS</td>\n",
       "        <td>165</td>\n",
       "        <td>0</td>\n",
       "        <td>0</td>\n",
       "        <td>0</td>\n",
       "        <td>0</td>\n",
       "        <td>0</td>\n",
       "        <td>0</td>\n",
       "        <td>0</td>\n",
       "        <td>0</td>\n",
       "        <td>0</td>\n",
       "        <td>165</td>\n",
       "        <td>12</td>\n",
       "        <td>0</td>\n",
       "        <td>0</td>\n",
       "        <td>0</td>\n",
       "        <td>0</td>\n",
       "    </tr>\n",
       "    <tr>\n",
       "        <td>3</td>\n",
       "        <td>315875.17</td>\n",
       "        <td>7390513.93</td>\n",
       "        <td>355030865000080</td>\n",
       "        <td>3550308005240</td>\n",
       "        <td>65</td>\n",
       "        <td>RAPOSO TAVARES</td>\n",
       "        <td>10</td>\n",
       "        <td>BUTANTA</td>\n",
       "        <td>Oeste</td>\n",
       "        <td>Oeste</td>\n",
       "        <td>CEI DIRET CIDADE DE GENEBRA</td>\n",
       "        <td>CACHOEIRA PORAQUE</td>\n",
       "        <td>100</td>\n",
       "        <td>RUA</td>\n",
       "        <td>RUA CACHOEIRA PORAQUE 100</td>\n",
       "        <td>CONJUNTO PROMORAR RAPOSO TAVARES</td>\n",
       "        <td>5574450</td>\n",
       "        <td>37811290</td>\n",
       "        <td>None</td>\n",
       "        <td>None</td>\n",
       "        <td>10312</td>\n",
       "        <td>CENTRO OESTE</td>\n",
       "        <td>BUTANTA</td>\n",
       "        <td>1</td>\n",
       "        <td>URBANA</td>\n",
       "        <td>279262</td>\n",
       "        <td>35279262</td>\n",
       "        <td>2</td>\n",
       "        <td>MUNICIPAL</td>\n",
       "        <td>303</td>\n",
       "        <td>CEI DIRET</td>\n",
       "        <td>1</td>\n",
       "        <td>ESCOLAS AUTONOMAS</td>\n",
       "        <td>153</td>\n",
       "        <td>0</td>\n",
       "        <td>0</td>\n",
       "        <td>0</td>\n",
       "        <td>0</td>\n",
       "        <td>0</td>\n",
       "        <td>0</td>\n",
       "        <td>0</td>\n",
       "        <td>0</td>\n",
       "        <td>0</td>\n",
       "        <td>153</td>\n",
       "        <td>15</td>\n",
       "        <td>0</td>\n",
       "        <td>0</td>\n",
       "        <td>0</td>\n",
       "        <td>0</td>\n",
       "    </tr>\n",
       "    <tr>\n",
       "        <td>4</td>\n",
       "        <td>315920.08</td>\n",
       "        <td>7406712.74</td>\n",
       "        <td>355030803000055</td>\n",
       "        <td>3550308005307</td>\n",
       "        <td>3</td>\n",
       "        <td>ANHANGUERA</td>\n",
       "        <td>1</td>\n",
       "        <td>PERUS</td>\n",
       "        <td>Norte</td>\n",
       "        <td>Norte 2</td>\n",
       "        <td>CR P CONV REGINA SIMOES</td>\n",
       "        <td>DALVA DE OLIVEIRA</td>\n",
       "        <td>84</td>\n",
       "        <td>RUA</td>\n",
       "        <td>RUA DALVA DE OLIVEIRA 84</td>\n",
       "        <td>RESIDENCIAL SOL NASCENTE</td>\n",
       "        <td>5282010</td>\n",
       "        <td>None</td>\n",
       "        <td>None</td>\n",
       "        <td>None</td>\n",
       "        <td>10101</td>\n",
       "        <td>NORTE 1</td>\n",
       "        <td>PIRITUBA</td>\n",
       "        <td>1</td>\n",
       "        <td>URBANA</td>\n",
       "        <td>198171</td>\n",
       "        <td>35198171</td>\n",
       "        <td>3</td>\n",
       "        <td>PRIVADA</td>\n",
       "        <td>308</td>\n",
       "        <td>CR.P.CONV</td>\n",
       "        <td>1</td>\n",
       "        <td>ESCOLAS AUTONOMAS</td>\n",
       "        <td>100</td>\n",
       "        <td>0</td>\n",
       "        <td>0</td>\n",
       "        <td>0</td>\n",
       "        <td>0</td>\n",
       "        <td>0</td>\n",
       "        <td>0</td>\n",
       "        <td>0</td>\n",
       "        <td>0</td>\n",
       "        <td>0</td>\n",
       "        <td>100</td>\n",
       "        <td>8</td>\n",
       "        <td>0</td>\n",
       "        <td>0</td>\n",
       "        <td>0</td>\n",
       "        <td>0</td>\n",
       "    </tr>\n",
       "    <tr>\n",
       "        <td>5</td>\n",
       "        <td>315948.31</td>\n",
       "        <td>7389966.69</td>\n",
       "        <td>355030865000213</td>\n",
       "        <td>3550308005240</td>\n",
       "        <td>65</td>\n",
       "        <td>RAPOSO TAVARES</td>\n",
       "        <td>10</td>\n",
       "        <td>BUTANTA</td>\n",
       "        <td>Oeste</td>\n",
       "        <td>Oeste</td>\n",
       "        <td>EMEF VILA MUNCK</td>\n",
       "        <td>JOAQUIM GUIMARAES</td>\n",
       "        <td>None</td>\n",
       "        <td>RUA</td>\n",
       "        <td>RUA JOAQUIM GUIMARAES</td>\n",
       "        <td>BUTANTA</td>\n",
       "        <td>5574010</td>\n",
       "        <td>37823682</td>\n",
       "        <td>None</td>\n",
       "        <td>EMEFVMUNCK@PREFEITURA.SP.GOV.BR</td>\n",
       "        <td>10312</td>\n",
       "        <td>CENTRO OESTE</td>\n",
       "        <td>BUTANTA</td>\n",
       "        <td>1</td>\n",
       "        <td>URBANA</td>\n",
       "        <td>428851</td>\n",
       "        <td>35428851</td>\n",
       "        <td>2</td>\n",
       "        <td>MUNICIPAL</td>\n",
       "        <td>310</td>\n",
       "        <td>EMEF</td>\n",
       "        <td>1</td>\n",
       "        <td>ESCOLAS AUTONOMAS</td>\n",
       "        <td>0</td>\n",
       "        <td>0</td>\n",
       "        <td>0</td>\n",
       "        <td>334</td>\n",
       "        <td>200</td>\n",
       "        <td>0</td>\n",
       "        <td>0</td>\n",
       "        <td>0</td>\n",
       "        <td>0</td>\n",
       "        <td>0</td>\n",
       "        <td>534</td>\n",
       "        <td>0</td>\n",
       "        <td>0</td>\n",
       "        <td>14</td>\n",
       "        <td>8</td>\n",
       "        <td>0</td>\n",
       "    </tr>\n",
       "</table>"
      ],
      "text/plain": [
       "[(1, Decimal('315396.89'), Decimal('7406487.32'), 355030803000111, 3550308005307, 3, 'ANHANGUERA', 1, 'PERUS', 'Norte', 'Norte 2', 'EMEF MARILI DIAS PROFA', 'RUA ANTONIO CONSELHEIRO', 1, 'RUA', 'RUA ANTONIO CONSELHEIRO 1', 'VILA DOS PALMARES', 5273140, 39163375, 39163376, 'EMEFMARILIDIAS@PREFEITURA.SP.GOV.BR', 10101, 'NORTE 1', 'PIRITUBA', 1, 'URBANA', 355185, 35355185, 2, 'MUNICIPAL', 310, 'EMEF', 1, 'ESCOLAS AUTONOMAS', 0, 0, 0, 496, 449, 0, 0, 0, 0, 0, 945, 0, 0, 17, 15, 0),\n",
       " (2, Decimal('315463.46'), Decimal('7406948.59'), 355030803000121, 3550308005307, 3, 'ANHANGUERA', 1, 'PERUS', 'Norte', 'Norte 2', 'CR P CONV FAMILIA JUDA', 'PIRAPORA', 101, 'ESTRADA', 'ESTRADA PIRAPORA 101', 'JARDIM JARAGUA', 5275010, 39112876, 965342165, 'CEIFAMJUDA@GMAIL.COM', 10101, 'NORTE 1', 'PIRITUBA', 1, 'URBANA', 579324, 35579324, 3, 'PRIVADA', 308, 'CR.P.CONV', 1, 'ESCOLAS AUTONOMAS', 165, 0, 0, 0, 0, 0, 0, 0, 0, 0, 165, 12, 0, 0, 0, 0),\n",
       " (3, Decimal('315875.17'), Decimal('7390513.93'), 355030865000080, 3550308005240, 65, 'RAPOSO TAVARES', 10, 'BUTANTA', 'Oeste', 'Oeste', 'CEI DIRET CIDADE DE GENEBRA', 'CACHOEIRA PORAQUE', 100, 'RUA', 'RUA CACHOEIRA PORAQUE 100', 'CONJUNTO PROMORAR RAPOSO TAVARES', 5574450, 37811290, None, None, 10312, 'CENTRO OESTE', 'BUTANTA', 1, 'URBANA', 279262, 35279262, 2, 'MUNICIPAL', 303, 'CEI DIRET', 1, 'ESCOLAS AUTONOMAS', 153, 0, 0, 0, 0, 0, 0, 0, 0, 0, 153, 15, 0, 0, 0, 0),\n",
       " (4, Decimal('315920.08'), Decimal('7406712.74'), 355030803000055, 3550308005307, 3, 'ANHANGUERA', 1, 'PERUS', 'Norte', 'Norte 2', 'CR P CONV REGINA SIMOES', 'DALVA DE OLIVEIRA', 84, 'RUA', 'RUA DALVA DE OLIVEIRA 84', 'RESIDENCIAL SOL NASCENTE', 5282010, None, None, None, 10101, 'NORTE 1', 'PIRITUBA', 1, 'URBANA', 198171, 35198171, 3, 'PRIVADA', 308, 'CR.P.CONV', 1, 'ESCOLAS AUTONOMAS', 100, 0, 0, 0, 0, 0, 0, 0, 0, 0, 100, 8, 0, 0, 0, 0),\n",
       " (5, Decimal('315948.31'), Decimal('7389966.69'), 355030865000213, 3550308005240, 65, 'RAPOSO TAVARES', 10, 'BUTANTA', 'Oeste', 'Oeste', 'EMEF VILA MUNCK', 'JOAQUIM GUIMARAES', None, 'RUA', 'RUA JOAQUIM GUIMARAES', 'BUTANTA', 5574010, 37823682, None, 'EMEFVMUNCK@PREFEITURA.SP.GOV.BR', 10312, 'CENTRO OESTE', 'BUTANTA', 1, 'URBANA', 428851, 35428851, 2, 'MUNICIPAL', 310, 'EMEF', 1, 'ESCOLAS AUTONOMAS', 0, 0, 0, 334, 200, 0, 0, 0, 0, 0, 534, 0, 0, 14, 8, 0)]"
      ]
     },
     "execution_count": 5,
     "metadata": {},
     "output_type": "execute_result"
    }
   ],
   "source": [
    "%sql select * from EDUCATION limit 5"
   ]
  },
  {
   "cell_type": "code",
   "execution_count": 5,
   "metadata": {},
   "outputs": [
    {
     "name": "stdout",
     "output_type": "stream",
     "text": [
      " * ibm_db_sa://lqx82186:***@dashdb-txn-sbox-yp-dal09-08.services.dal.bluemix.net:50000/BLUDB\n",
      "Done.\n"
     ]
    },
    {
     "data": {
      "text/html": [
       "<table>\n",
       "    <tr>\n",
       "        <th>setcens</th>\n",
       "        <th>al_total</th>\n",
       "    </tr>\n",
       "    <tr>\n",
       "        <td>355030803000111</td>\n",
       "        <td>945</td>\n",
       "    </tr>\n",
       "    <tr>\n",
       "        <td>355030803000121</td>\n",
       "        <td>165</td>\n",
       "    </tr>\n",
       "    <tr>\n",
       "        <td>355030865000080</td>\n",
       "        <td>153</td>\n",
       "    </tr>\n",
       "    <tr>\n",
       "        <td>355030803000055</td>\n",
       "        <td>100</td>\n",
       "    </tr>\n",
       "    <tr>\n",
       "        <td>355030865000213</td>\n",
       "        <td>534</td>\n",
       "    </tr>\n",
       "</table>"
      ],
      "text/plain": [
       "[(355030803000111, 945),\n",
       " (355030803000121, 165),\n",
       " (355030865000080, 153),\n",
       " (355030803000055, 100),\n",
       " (355030865000213, 534)]"
      ]
     },
     "execution_count": 5,
     "metadata": {},
     "output_type": "execute_result"
    }
   ],
   "source": [
    "%sql select setcens, al_total  from EDUCATION limit 5"
   ]
  },
  {
   "cell_type": "code",
   "execution_count": 6,
   "metadata": {},
   "outputs": [
    {
     "name": "stdout",
     "output_type": "stream",
     "text": [
      " * ibm_db_sa://lqx82186:***@dashdb-txn-sbox-yp-dal09-08.services.dal.bluemix.net:50000/BLUDB\n",
      "Done.\n"
     ]
    },
    {
     "data": {
      "text/html": [
       "<table>\n",
       "    <tr>\n",
       "        <th>setcens</th>\n",
       "        <th>tt_schools</th>\n",
       "        <th>tt_students</th>\n",
       "    </tr>\n",
       "    <tr>\n",
       "        <td>355030801000000</td>\n",
       "        <td>2</td>\n",
       "        <td>354</td>\n",
       "    </tr>\n",
       "    <tr>\n",
       "        <td>355030801000003</td>\n",
       "        <td>2</td>\n",
       "        <td>536</td>\n",
       "    </tr>\n",
       "    <tr>\n",
       "        <td>355030801000005</td>\n",
       "        <td>1</td>\n",
       "        <td>6</td>\n",
       "    </tr>\n",
       "    <tr>\n",
       "        <td>355030801000012</td>\n",
       "        <td>1</td>\n",
       "        <td>273</td>\n",
       "    </tr>\n",
       "    <tr>\n",
       "        <td>355030801000014</td>\n",
       "        <td>1</td>\n",
       "        <td>228</td>\n",
       "    </tr>\n",
       "</table>"
      ],
      "text/plain": [
       "[(355030801000000, Decimal('2'), 354),\n",
       " (355030801000003, Decimal('2'), 536),\n",
       " (355030801000005, Decimal('1'), 6),\n",
       " (355030801000012, Decimal('1'), 273),\n",
       " (355030801000014, Decimal('1'), 228)]"
      ]
     },
     "execution_count": 6,
     "metadata": {},
     "output_type": "execute_result"
    }
   ],
   "source": [
    "%sql select setcens, count(id) as tt_schools, sum(al_total) as tt_students from EDUCATION group by setcens limit 5"
   ]
  },
  {
   "cell_type": "code",
   "execution_count": 5,
   "metadata": {},
   "outputs": [],
   "source": [
    "pconn = ibm_db_dbi.Connection(conn)"
   ]
  },
  {
   "cell_type": "code",
   "execution_count": 15,
   "metadata": {},
   "outputs": [
    {
     "data": {
      "text/html": [
       "<div>\n",
       "<style scoped>\n",
       "    .dataframe tbody tr th:only-of-type {\n",
       "        vertical-align: middle;\n",
       "    }\n",
       "\n",
       "    .dataframe tbody tr th {\n",
       "        vertical-align: top;\n",
       "    }\n",
       "\n",
       "    .dataframe thead th {\n",
       "        text-align: right;\n",
       "    }\n",
       "</style>\n",
       "<table border=\"1\" class=\"dataframe\">\n",
       "  <thead>\n",
       "    <tr style=\"text-align: right;\">\n",
       "      <th></th>\n",
       "      <th>SETCENS</th>\n",
       "      <th>TT_SCHOOLS</th>\n",
       "      <th>TT_STUDENTS</th>\n",
       "    </tr>\n",
       "  </thead>\n",
       "  <tbody>\n",
       "    <tr>\n",
       "      <th>0</th>\n",
       "      <td>355030801000000</td>\n",
       "      <td>2.0</td>\n",
       "      <td>354</td>\n",
       "    </tr>\n",
       "    <tr>\n",
       "      <th>1</th>\n",
       "      <td>355030801000003</td>\n",
       "      <td>2.0</td>\n",
       "      <td>536</td>\n",
       "    </tr>\n",
       "    <tr>\n",
       "      <th>2</th>\n",
       "      <td>355030801000005</td>\n",
       "      <td>1.0</td>\n",
       "      <td>6</td>\n",
       "    </tr>\n",
       "    <tr>\n",
       "      <th>3</th>\n",
       "      <td>355030801000012</td>\n",
       "      <td>1.0</td>\n",
       "      <td>273</td>\n",
       "    </tr>\n",
       "    <tr>\n",
       "      <th>4</th>\n",
       "      <td>355030801000014</td>\n",
       "      <td>1.0</td>\n",
       "      <td>228</td>\n",
       "    </tr>\n",
       "    <tr>\n",
       "      <th>5</th>\n",
       "      <td>355030801000015</td>\n",
       "      <td>1.0</td>\n",
       "      <td>252</td>\n",
       "    </tr>\n",
       "    <tr>\n",
       "      <th>6</th>\n",
       "      <td>355030801000018</td>\n",
       "      <td>1.0</td>\n",
       "      <td>58</td>\n",
       "    </tr>\n",
       "    <tr>\n",
       "      <th>7</th>\n",
       "      <td>355030801000019</td>\n",
       "      <td>1.0</td>\n",
       "      <td>143</td>\n",
       "    </tr>\n",
       "    <tr>\n",
       "      <th>8</th>\n",
       "      <td>355030801000021</td>\n",
       "      <td>1.0</td>\n",
       "      <td>54</td>\n",
       "    </tr>\n",
       "    <tr>\n",
       "      <th>9</th>\n",
       "      <td>355030801000023</td>\n",
       "      <td>1.0</td>\n",
       "      <td>253</td>\n",
       "    </tr>\n",
       "  </tbody>\n",
       "</table>\n",
       "</div>"
      ],
      "text/plain": [
       "           SETCENS  TT_SCHOOLS  TT_STUDENTS\n",
       "0  355030801000000         2.0          354\n",
       "1  355030801000003         2.0          536\n",
       "2  355030801000005         1.0            6\n",
       "3  355030801000012         1.0          273\n",
       "4  355030801000014         1.0          228\n",
       "5  355030801000015         1.0          252\n",
       "6  355030801000018         1.0           58\n",
       "7  355030801000019         1.0          143\n",
       "8  355030801000021         1.0           54\n",
       "9  355030801000023         1.0          253"
      ]
     },
     "execution_count": 15,
     "metadata": {},
     "output_type": "execute_result"
    }
   ],
   "source": [
    "#query statement to retrieve all rows in INSTRUCTOR table\n",
    "selectQuery = \"select setcens, count(id) as tt_schools, sum(al_total) as tt_students from EDUCATION group by setcens\"\n",
    "\n",
    "#retrieve the query results into a pandas dataframe\n",
    "SETORES_EDUC = pandas.read_sql(selectQuery, pconn)\n",
    "\n",
    "SETORES_EDUC.head(10)"
   ]
  },
  {
   "cell_type": "code",
   "execution_count": 39,
   "metadata": {},
   "outputs": [],
   "source": [
    "SETORES_EDUC.to_csv(r'setores_educ.csv')"
   ]
  },
  {
   "cell_type": "code",
   "execution_count": 40,
   "metadata": {},
   "outputs": [
    {
     "name": "stdout",
     "output_type": "stream",
     "text": [
      " * ibm_db_sa://lqx82186:***@dashdb-txn-sbox-yp-dal09-08.services.dal.bluemix.net:50000/BLUDB\n",
      "Done.\n"
     ]
    },
    {
     "data": {
      "text/html": [
       "<table>\n",
       "    <tr>\n",
       "        <th>id</th>\n",
       "        <th>coord_e</th>\n",
       "        <th>coord_n</th>\n",
       "        <th>setcens</th>\n",
       "        <th>areap</th>\n",
       "        <th>coddist</th>\n",
       "        <th>distrito</th>\n",
       "        <th>codsubpref</th>\n",
       "        <th>subpref</th>\n",
       "        <th>regiao5</th>\n",
       "        <th>regiao8</th>\n",
       "        <th>nome</th>\n",
       "        <th>espaco</th>\n",
       "        <th>endereco</th>\n",
       "        <th>telefone</th>\n",
       "        <th>bairro</th>\n",
       "        <th>cep</th>\n",
       "        <th>ct_tipo</th>\n",
       "        <th>ct_depadm</th>\n",
       "        <th>inauguracao</th>\n",
       "        <th>assentos</th>\n",
       "        <th>acessibilidade</th>\n",
       "        <th>estacionamento</th>\n",
       "    </tr>\n",
       "    <tr>\n",
       "        <td>1</td>\n",
       "        <td>331655.08</td>\n",
       "        <td>7395177.62</td>\n",
       "        <td>355030826000098</td>\n",
       "        <td>3550308005012</td>\n",
       "        <td>26</td>\n",
       "        <td>CONSOLACAO</td>\n",
       "        <td>9</td>\n",
       "        <td>SE</td>\n",
       "        <td>Centro</td>\n",
       "        <td>Centro</td>\n",
       "        <td>Monteiro Lobato (Inclui �nibus Biblioteca)</td>\n",
       "        <td>Biblioteca</td>\n",
       "        <td>R Gal Jardim, 485</td>\n",
       "        <td>3256-4122</td>\n",
       "        <td>V. Buarque</td>\n",
       "        <td>01223-01</td>\n",
       "        <td>1</td>\n",
       "        <td>1</td>\n",
       "        <td>4/14/1936</td>\n",
       "        <td>None</td>\n",
       "        <td>Atende �s normas</td>\n",
       "        <td>Sim</td>\n",
       "    </tr>\n",
       "    <tr>\n",
       "        <td>2</td>\n",
       "        <td>358921.74</td>\n",
       "        <td>7402841.68</td>\n",
       "        <td>355030844000190</td>\n",
       "        <td>3550308005247</td>\n",
       "        <td>44</td>\n",
       "        <td>JARDIM HELENA</td>\n",
       "        <td>23</td>\n",
       "        <td>SAO MIGUEL</td>\n",
       "        <td>Leste</td>\n",
       "        <td>Leste 2</td>\n",
       "        <td>CEU Tr�s Pontes</td>\n",
       "        <td>CEU</td>\n",
       "        <td>R Capach�s, s/n</td>\n",
       "        <td>3397-6410</td>\n",
       "        <td>Jardim C�lia</td>\n",
       "        <td>08191-330</td>\n",
       "        <td>2</td>\n",
       "        <td>1</td>\n",
       "        <td>None</td>\n",
       "        <td>None</td>\n",
       "        <td>Sem informa�</td>\n",
       "        <td>Sem informa�</td>\n",
       "    </tr>\n",
       "    <tr>\n",
       "        <td>3</td>\n",
       "        <td>358093.23</td>\n",
       "        <td>7398974.85</td>\n",
       "        <td>355030836000285</td>\n",
       "        <td>3550308005254</td>\n",
       "        <td>36</td>\n",
       "        <td>ITAIM PAULISTA</td>\n",
       "        <td>24</td>\n",
       "        <td>ITAIM PAULISTA</td>\n",
       "        <td>Leste</td>\n",
       "        <td>Leste 2</td>\n",
       "        <td>Paulo Leminski - CEU Parque Veredas</td>\n",
       "        <td>CEU</td>\n",
       "        <td>R Daniel Pedro Muller, s/n- Camargo Velho</td>\n",
       "        <td>65636249</td>\n",
       "        <td>Camargo Velho</td>\n",
       "        <td>None</td>\n",
       "        <td>2</td>\n",
       "        <td>1</td>\n",
       "        <td>9/15/2003</td>\n",
       "        <td>None</td>\n",
       "        <td>Sem informa�</td>\n",
       "        <td>Sem informa�</td>\n",
       "    </tr>\n",
       "    <tr>\n",
       "        <td>4</td>\n",
       "        <td>357327.02</td>\n",
       "        <td>7400633.28</td>\n",
       "        <td>355030836000105</td>\n",
       "        <td>3550308005249</td>\n",
       "        <td>36</td>\n",
       "        <td>ITAIM PAULISTA</td>\n",
       "        <td>24</td>\n",
       "        <td>ITAIM PAULISTA</td>\n",
       "        <td>Leste</td>\n",
       "        <td>Leste 2</td>\n",
       "        <td>Ponto de Leitura Severino do Ramo</td>\n",
       "        <td>Biblioteca - Extens</td>\n",
       "        <td>R Bar�o de Alagoas, 340</td>\n",
       "        <td>2936-2742</td>\n",
       "        <td>Itaim Paulista</td>\n",
       "        <td>None</td>\n",
       "        <td>2</td>\n",
       "        <td>1</td>\n",
       "        <td>7/1/2011</td>\n",
       "        <td>80</td>\n",
       "        <td>N�o atende �s normas</td>\n",
       "        <td>Sem informa�</td>\n",
       "    </tr>\n",
       "    <tr>\n",
       "        <td>5</td>\n",
       "        <td>357248.70</td>\n",
       "        <td>7389261.40</td>\n",
       "        <td>355030825000286</td>\n",
       "        <td>3550308005272</td>\n",
       "        <td>25</td>\n",
       "        <td>CIDADE TIRADENTES</td>\n",
       "        <td>31</td>\n",
       "        <td>CIDADE TIRADENTES</td>\n",
       "        <td>Leste</td>\n",
       "        <td>Leste 2</td>\n",
       "        <td>Ponto de Leitura Andr� Vital</td>\n",
       "        <td>Biblioteca- Extens</td>\n",
       "        <td>Av dos Metal�rgicos, 2255</td>\n",
       "        <td>2282-2562</td>\n",
       "        <td>Cidade Tiradentes</td>\n",
       "        <td>08470-000</td>\n",
       "        <td>2</td>\n",
       "        <td>1</td>\n",
       "        <td>7/17/2006</td>\n",
       "        <td>None</td>\n",
       "        <td>Sem informa�</td>\n",
       "        <td>Sem informa�</td>\n",
       "    </tr>\n",
       "</table>"
      ],
      "text/plain": [
       "[(1, Decimal('331655.08'), Decimal('7395177.62'), 355030826000098, 3550308005012, 26, 'CONSOLACAO', 9, 'SE', 'Centro', 'Centro', 'Monteiro Lobato (Inclui �nibus Biblioteca)', 'Biblioteca', 'R Gal Jardim, 485', '3256-4122', 'V. Buarque', '01223-01', 1, 1, '4/14/1936', None, 'Atende �s normas', 'Sim'),\n",
       " (2, Decimal('358921.74'), Decimal('7402841.68'), 355030844000190, 3550308005247, 44, 'JARDIM HELENA', 23, 'SAO MIGUEL', 'Leste', 'Leste 2', 'CEU Tr�s Pontes', 'CEU', 'R Capach�s, s/n', '3397-6410', 'Jardim C�lia', '08191-330', 2, 1, None, None, 'Sem informa�', 'Sem informa�'),\n",
       " (3, Decimal('358093.23'), Decimal('7398974.85'), 355030836000285, 3550308005254, 36, 'ITAIM PAULISTA', 24, 'ITAIM PAULISTA', 'Leste', 'Leste 2', 'Paulo Leminski - CEU Parque Veredas', 'CEU', 'R Daniel Pedro Muller, s/n- Camargo Velho', '65636249', 'Camargo Velho', None, 2, 1, '9/15/2003', None, 'Sem informa�', 'Sem informa�'),\n",
       " (4, Decimal('357327.02'), Decimal('7400633.28'), 355030836000105, 3550308005249, 36, 'ITAIM PAULISTA', 24, 'ITAIM PAULISTA', 'Leste', 'Leste 2', 'Ponto de Leitura Severino do Ramo', 'Biblioteca - Extens', 'R Bar�o de Alagoas, 340', '2936-2742', 'Itaim Paulista', None, 2, 1, '7/1/2011', 80, 'N�o atende �s normas', 'Sem informa�'),\n",
       " (5, Decimal('357248.70'), Decimal('7389261.40'), 355030825000286, 3550308005272, 25, 'CIDADE TIRADENTES', 31, 'CIDADE TIRADENTES', 'Leste', 'Leste 2', 'Ponto de Leitura Andr� Vital', 'Biblioteca- Extens', 'Av dos Metal�rgicos, 2255', '2282-2562', 'Cidade Tiradentes', '08470-000', 2, 1, '7/17/2006', None, 'Sem informa�', 'Sem informa�')]"
      ]
     },
     "execution_count": 40,
     "metadata": {},
     "output_type": "execute_result"
    }
   ],
   "source": [
    "%sql select * from CULTURE limit 5"
   ]
  },
  {
   "cell_type": "code",
   "execution_count": 41,
   "metadata": {},
   "outputs": [
    {
     "name": "stdout",
     "output_type": "stream",
     "text": [
      " * ibm_db_sa://lqx82186:***@dashdb-txn-sbox-yp-dal09-08.services.dal.bluemix.net:50000/BLUDB\n",
      "Done.\n"
     ]
    },
    {
     "data": {
      "text/html": [
       "<table>\n",
       "    <tr>\n",
       "        <th>setcens</th>\n",
       "        <th>tt_culture_equp</th>\n",
       "    </tr>\n",
       "    <tr>\n",
       "        <td>355030801000118</td>\n",
       "        <td>2</td>\n",
       "    </tr>\n",
       "    <tr>\n",
       "        <td>355030802000010</td>\n",
       "        <td>1</td>\n",
       "    </tr>\n",
       "    <tr>\n",
       "        <td>355030802000029</td>\n",
       "        <td>1</td>\n",
       "    </tr>\n",
       "    <tr>\n",
       "        <td>355030802000037</td>\n",
       "        <td>1</td>\n",
       "    </tr>\n",
       "    <tr>\n",
       "        <td>355030802000039</td>\n",
       "        <td>1</td>\n",
       "    </tr>\n",
       "</table>"
      ],
      "text/plain": [
       "[(355030801000118, Decimal('2')),\n",
       " (355030802000010, Decimal('1')),\n",
       " (355030802000029, Decimal('1')),\n",
       " (355030802000037, Decimal('1')),\n",
       " (355030802000039, Decimal('1'))]"
      ]
     },
     "execution_count": 41,
     "metadata": {},
     "output_type": "execute_result"
    }
   ],
   "source": [
    "%sql select setcens, count(id) as tt_culture_equp from CULTURE group by setcens limit 5"
   ]
  },
  {
   "cell_type": "code",
   "execution_count": 45,
   "metadata": {},
   "outputs": [
    {
     "data": {
      "text/html": [
       "<div>\n",
       "<style scoped>\n",
       "    .dataframe tbody tr th:only-of-type {\n",
       "        vertical-align: middle;\n",
       "    }\n",
       "\n",
       "    .dataframe tbody tr th {\n",
       "        vertical-align: top;\n",
       "    }\n",
       "\n",
       "    .dataframe thead th {\n",
       "        text-align: right;\n",
       "    }\n",
       "</style>\n",
       "<table border=\"1\" class=\"dataframe\">\n",
       "  <thead>\n",
       "    <tr style=\"text-align: right;\">\n",
       "      <th></th>\n",
       "      <th>SETCENS</th>\n",
       "      <th>TT_CULTURE_EQUP</th>\n",
       "    </tr>\n",
       "  </thead>\n",
       "  <tbody>\n",
       "    <tr>\n",
       "      <th>0</th>\n",
       "      <td>3.550308e+14</td>\n",
       "      <td>2.0</td>\n",
       "    </tr>\n",
       "    <tr>\n",
       "      <th>1</th>\n",
       "      <td>3.550308e+14</td>\n",
       "      <td>1.0</td>\n",
       "    </tr>\n",
       "    <tr>\n",
       "      <th>2</th>\n",
       "      <td>3.550308e+14</td>\n",
       "      <td>1.0</td>\n",
       "    </tr>\n",
       "    <tr>\n",
       "      <th>3</th>\n",
       "      <td>3.550308e+14</td>\n",
       "      <td>1.0</td>\n",
       "    </tr>\n",
       "    <tr>\n",
       "      <th>4</th>\n",
       "      <td>3.550308e+14</td>\n",
       "      <td>1.0</td>\n",
       "    </tr>\n",
       "    <tr>\n",
       "      <th>5</th>\n",
       "      <td>3.550308e+14</td>\n",
       "      <td>1.0</td>\n",
       "    </tr>\n",
       "    <tr>\n",
       "      <th>6</th>\n",
       "      <td>3.550308e+14</td>\n",
       "      <td>9.0</td>\n",
       "    </tr>\n",
       "    <tr>\n",
       "      <th>7</th>\n",
       "      <td>3.550308e+14</td>\n",
       "      <td>1.0</td>\n",
       "    </tr>\n",
       "    <tr>\n",
       "      <th>8</th>\n",
       "      <td>3.550308e+14</td>\n",
       "      <td>1.0</td>\n",
       "    </tr>\n",
       "    <tr>\n",
       "      <th>9</th>\n",
       "      <td>3.550308e+14</td>\n",
       "      <td>2.0</td>\n",
       "    </tr>\n",
       "  </tbody>\n",
       "</table>\n",
       "</div>"
      ],
      "text/plain": [
       "        SETCENS  TT_CULTURE_EQUP\n",
       "0  3.550308e+14              2.0\n",
       "1  3.550308e+14              1.0\n",
       "2  3.550308e+14              1.0\n",
       "3  3.550308e+14              1.0\n",
       "4  3.550308e+14              1.0\n",
       "5  3.550308e+14              1.0\n",
       "6  3.550308e+14              9.0\n",
       "7  3.550308e+14              1.0\n",
       "8  3.550308e+14              1.0\n",
       "9  3.550308e+14              2.0"
      ]
     },
     "execution_count": 45,
     "metadata": {},
     "output_type": "execute_result"
    }
   ],
   "source": [
    "#query statement to retrieve all rows in INSTRUCTOR table\n",
    "selectQuery2 = \"select setcens, count(id) as tt_culture_equp from CULTURE group by setcens\"\n",
    "\n",
    "#retrieve the query results into a pandas dataframe\n",
    "SETORES_CULT = pandas.read_sql(selectQuery2, pconn)\n",
    "\n",
    "SETORES_CULT.head(10)"
   ]
  },
  {
   "cell_type": "code",
   "execution_count": 46,
   "metadata": {},
   "outputs": [],
   "source": [
    "SETORES_CULT.to_csv(r'setores_cult.csv')"
   ]
  },
  {
   "cell_type": "code",
   "execution_count": 47,
   "metadata": {},
   "outputs": [
    {
     "name": "stdout",
     "output_type": "stream",
     "text": [
      " * ibm_db_sa://lqx82186:***@dashdb-txn-sbox-yp-dal09-08.services.dal.bluemix.net:50000/BLUDB\n",
      "Done.\n"
     ]
    },
    {
     "data": {
      "text/html": [
       "<table>\n",
       "    <tr>\n",
       "        <th>id</th>\n",
       "        <th>coord_e</th>\n",
       "        <th>coord_n</th>\n",
       "        <th>setcens</th>\n",
       "        <th>areap</th>\n",
       "        <th>coddist</th>\n",
       "        <th>distrito</th>\n",
       "        <th>codsubpref</th>\n",
       "        <th>subpref</th>\n",
       "        <th>regiao5</th>\n",
       "        <th>regiao8</th>\n",
       "        <th>estabelecimento</th>\n",
       "        <th>endereco</th>\n",
       "        <th>bairro</th>\n",
       "        <th>telefone</th>\n",
       "        <th>cep</th>\n",
       "        <th>cnes</th>\n",
       "        <th>sa_depadm</th>\n",
       "        <th>depadm</th>\n",
       "        <th>sa_tipo</th>\n",
       "        <th>tipo</th>\n",
       "        <th>sa_classe</th>\n",
       "        <th>classe</th>\n",
       "        <th>leitos</th>\n",
       "    </tr>\n",
       "    <tr>\n",
       "        <td>1</td>\n",
       "        <td>319108.42</td>\n",
       "        <td>7380764.47</td>\n",
       "        <td>355030819000016</td>\n",
       "        <td>3550308005232</td>\n",
       "        <td>19</td>\n",
       "        <td>CAPAO REDONDO</td>\n",
       "        <td>17</td>\n",
       "        <td>CAMPO LIMPO</td>\n",
       "        <td>Sul</td>\n",
       "        <td>Sul 2</td>\n",
       "        <td>CAPAO REDONDO - AMA ESPECIALIDADES</td>\n",
       "        <td>AV COMEN SANT&#x27;ANNA, 774</td>\n",
       "        <td>JD. BOA ESPERANCA</td>\n",
       "        <td>58729902</td>\n",
       "        <td>5866000</td>\n",
       "        <td>6194974</td>\n",
       "        <td>1</td>\n",
       "        <td>Municipal</td>\n",
       "        <td>49</td>\n",
       "        <td>AMA ESPECIALIDADES</td>\n",
       "        <td>1</td>\n",
       "        <td>AMBULATORIOS ESPECIALIZADOS</td>\n",
       "        <td>None</td>\n",
       "    </tr>\n",
       "    <tr>\n",
       "        <td>2</td>\n",
       "        <td>331055.43</td>\n",
       "        <td>7400384.23</td>\n",
       "        <td>355030821000001</td>\n",
       "        <td>3550308005062</td>\n",
       "        <td>21</td>\n",
       "        <td>CASA VERDE</td>\n",
       "        <td>4</td>\n",
       "        <td>CASA VERDE-CACHOEIRINHA</td>\n",
       "        <td>Norte</td>\n",
       "        <td>Norte 2</td>\n",
       "        <td>PQ PERUCHE-AMA ESPECIALIDADES</td>\n",
       "        <td>R JOSE RANGEL DE CAMARGO, 500</td>\n",
       "        <td>PQ PERUCHE</td>\n",
       "        <td>38589865</td>\n",
       "        <td>2538010</td>\n",
       "        <td>6148336</td>\n",
       "        <td>1</td>\n",
       "        <td>Municipal</td>\n",
       "        <td>49</td>\n",
       "        <td>AMA ESPECIALIDADES</td>\n",
       "        <td>1</td>\n",
       "        <td>AMBULATORIOS ESPECIALIZADOS</td>\n",
       "        <td>None</td>\n",
       "    </tr>\n",
       "    <tr>\n",
       "        <td>3</td>\n",
       "        <td>330196.17</td>\n",
       "        <td>7380955.02</td>\n",
       "        <td>355030822000066</td>\n",
       "        <td>3550308005164</td>\n",
       "        <td>22</td>\n",
       "        <td>CIDADE ADEMAR</td>\n",
       "        <td>16</td>\n",
       "        <td>CIDADE ADEMAR</td>\n",
       "        <td>Sul</td>\n",
       "        <td>Sul 2</td>\n",
       "        <td>V CONSTANCIA -AMA ESPECIALIDADES</td>\n",
       "        <td>R HERMENEGILDO MARTINI, SN</td>\n",
       "        <td>V CONSTANCIA</td>\n",
       "        <td>55626944</td>\n",
       "        <td>4438280</td>\n",
       "        <td>6415415</td>\n",
       "        <td>1</td>\n",
       "        <td>Municipal</td>\n",
       "        <td>49</td>\n",
       "        <td>AMA ESPECIALIDADES</td>\n",
       "        <td>1</td>\n",
       "        <td>AMBULATORIOS ESPECIALIZADOS</td>\n",
       "        <td>None</td>\n",
       "    </tr>\n",
       "    <tr>\n",
       "        <td>4</td>\n",
       "        <td>326183.88</td>\n",
       "        <td>7373067.87</td>\n",
       "        <td>355030823000196</td>\n",
       "        <td>3550308005287</td>\n",
       "        <td>23</td>\n",
       "        <td>CIDADE DUTRA</td>\n",
       "        <td>19</td>\n",
       "        <td>CAPELA DO SOCORRO</td>\n",
       "        <td>Sul</td>\n",
       "        <td>Sul 2</td>\n",
       "        <td>JD ICARAI I (QUINTANA) -AMA ESPECIALIDADES</td>\n",
       "        <td>R S ROQUE DO PARAGUACU, 190</td>\n",
       "        <td>V QUINTANA</td>\n",
       "        <td>59280272</td>\n",
       "        <td>4837150</td>\n",
       "        <td>6360890</td>\n",
       "        <td>1</td>\n",
       "        <td>Municipal</td>\n",
       "        <td>49</td>\n",
       "        <td>AMA ESPECIALIDADES</td>\n",
       "        <td>1</td>\n",
       "        <td>AMBULATORIOS ESPECIALIZADOS</td>\n",
       "        <td>None</td>\n",
       "    </tr>\n",
       "    <tr>\n",
       "        <td>5</td>\n",
       "        <td>351434.05</td>\n",
       "        <td>7396009.19</td>\n",
       "        <td>355030837000019</td>\n",
       "        <td>3550308005202</td>\n",
       "        <td>37</td>\n",
       "        <td>ITAQUERA</td>\n",
       "        <td>27</td>\n",
       "        <td>ITAQUERA</td>\n",
       "        <td>Leste</td>\n",
       "        <td>Leste 2</td>\n",
       "        <td>ITAQUERA-AMA ESPECIALIDADES</td>\n",
       "        <td>R AMERICO SALVADOR NOVELLI, 265</td>\n",
       "        <td>ITAQUERA</td>\n",
       "        <td>20712422</td>\n",
       "        <td>8210090</td>\n",
       "        <td>6394558</td>\n",
       "        <td>1</td>\n",
       "        <td>Municipal</td>\n",
       "        <td>49</td>\n",
       "        <td>AMA ESPECIALIDADES</td>\n",
       "        <td>1</td>\n",
       "        <td>AMBULATORIOS ESPECIALIZADOS</td>\n",
       "        <td>None</td>\n",
       "    </tr>\n",
       "</table>"
      ],
      "text/plain": [
       "[(1, Decimal('319108.42'), Decimal('7380764.47'), 355030819000016, 3550308005232, 19, 'CAPAO REDONDO', 17, 'CAMPO LIMPO', 'Sul', 'Sul 2', 'CAPAO REDONDO - AMA ESPECIALIDADES', \"AV COMEN SANT'ANNA, 774\", 'JD. BOA ESPERANCA', '58729902', '5866000', 6194974, 1, 'Municipal', '49', 'AMA ESPECIALIDADES', 1, 'AMBULATORIOS ESPECIALIZADOS', None),\n",
       " (2, Decimal('331055.43'), Decimal('7400384.23'), 355030821000001, 3550308005062, 21, 'CASA VERDE', 4, 'CASA VERDE-CACHOEIRINHA', 'Norte', 'Norte 2', 'PQ PERUCHE-AMA ESPECIALIDADES', 'R JOSE RANGEL DE CAMARGO, 500', 'PQ PERUCHE', '38589865', '2538010', 6148336, 1, 'Municipal', '49', 'AMA ESPECIALIDADES', 1, 'AMBULATORIOS ESPECIALIZADOS', None),\n",
       " (3, Decimal('330196.17'), Decimal('7380955.02'), 355030822000066, 3550308005164, 22, 'CIDADE ADEMAR', 16, 'CIDADE ADEMAR', 'Sul', 'Sul 2', 'V CONSTANCIA -AMA ESPECIALIDADES', 'R HERMENEGILDO MARTINI, SN', 'V CONSTANCIA', '55626944', '4438280', 6415415, 1, 'Municipal', '49', 'AMA ESPECIALIDADES', 1, 'AMBULATORIOS ESPECIALIZADOS', None),\n",
       " (4, Decimal('326183.88'), Decimal('7373067.87'), 355030823000196, 3550308005287, 23, 'CIDADE DUTRA', 19, 'CAPELA DO SOCORRO', 'Sul', 'Sul 2', 'JD ICARAI I (QUINTANA) -AMA ESPECIALIDADES', 'R S ROQUE DO PARAGUACU, 190', 'V QUINTANA', '59280272', '4837150', 6360890, 1, 'Municipal', '49', 'AMA ESPECIALIDADES', 1, 'AMBULATORIOS ESPECIALIZADOS', None),\n",
       " (5, Decimal('351434.05'), Decimal('7396009.19'), 355030837000019, 3550308005202, 37, 'ITAQUERA', 27, 'ITAQUERA', 'Leste', 'Leste 2', 'ITAQUERA-AMA ESPECIALIDADES', 'R AMERICO SALVADOR NOVELLI, 265', 'ITAQUERA', '20712422', '8210090', 6394558, 1, 'Municipal', '49', 'AMA ESPECIALIDADES', 1, 'AMBULATORIOS ESPECIALIZADOS', None)]"
      ]
     },
     "execution_count": 47,
     "metadata": {},
     "output_type": "execute_result"
    }
   ],
   "source": [
    "%sql select * from HEALTH limit 5"
   ]
  },
  {
   "cell_type": "code",
   "execution_count": 48,
   "metadata": {},
   "outputs": [
    {
     "name": "stdout",
     "output_type": "stream",
     "text": [
      " * ibm_db_sa://lqx82186:***@dashdb-txn-sbox-yp-dal09-08.services.dal.bluemix.net:50000/BLUDB\n",
      "Done.\n"
     ]
    },
    {
     "data": {
      "text/html": [
       "<table>\n",
       "    <tr>\n",
       "        <th>setcens</th>\n",
       "        <th>2</th>\n",
       "        <th>tt_health_equp</th>\n",
       "    </tr>\n",
       "    <tr>\n",
       "        <td>3550308005006</td>\n",
       "        <td>1</td>\n",
       "        <td>348.000</td>\n",
       "    </tr>\n",
       "    <tr>\n",
       "        <td>355030801000007</td>\n",
       "        <td>3</td>\n",
       "        <td>6.000</td>\n",
       "    </tr>\n",
       "    <tr>\n",
       "        <td>355030801000090</td>\n",
       "        <td>1</td>\n",
       "        <td>None</td>\n",
       "    </tr>\n",
       "    <tr>\n",
       "        <td>355030801000122</td>\n",
       "        <td>1</td>\n",
       "        <td>None</td>\n",
       "    </tr>\n",
       "    <tr>\n",
       "        <td>355030802000002</td>\n",
       "        <td>1</td>\n",
       "        <td>None</td>\n",
       "    </tr>\n",
       "</table>"
      ],
      "text/plain": [
       "[(3550308005006, Decimal('1'), Decimal('348.000')),\n",
       " (355030801000007, Decimal('3'), Decimal('6.000')),\n",
       " (355030801000090, Decimal('1'), None),\n",
       " (355030801000122, Decimal('1'), None),\n",
       " (355030802000002, Decimal('1'), None)]"
      ]
     },
     "execution_count": 48,
     "metadata": {},
     "output_type": "execute_result"
    }
   ],
   "source": [
    "%sql select setcens, count(id), sum(leitos) as tt_health_equp from HEALTH group by setcens limit 5"
   ]
  },
  {
   "cell_type": "code",
   "execution_count": 80,
   "metadata": {},
   "outputs": [
    {
     "data": {
      "text/html": [
       "<div>\n",
       "<style scoped>\n",
       "    .dataframe tbody tr th:only-of-type {\n",
       "        vertical-align: middle;\n",
       "    }\n",
       "\n",
       "    .dataframe tbody tr th {\n",
       "        vertical-align: top;\n",
       "    }\n",
       "\n",
       "    .dataframe thead th {\n",
       "        text-align: right;\n",
       "    }\n",
       "</style>\n",
       "<table border=\"1\" class=\"dataframe\">\n",
       "  <thead>\n",
       "    <tr style=\"text-align: right;\">\n",
       "      <th></th>\n",
       "      <th>SETCENS</th>\n",
       "      <th>TT_HEALTH_EQUIP</th>\n",
       "      <th>TT_LEITOS</th>\n",
       "    </tr>\n",
       "  </thead>\n",
       "  <tbody>\n",
       "    <tr>\n",
       "      <th>0</th>\n",
       "      <td>3550308005006</td>\n",
       "      <td>1.0</td>\n",
       "      <td>348.0</td>\n",
       "    </tr>\n",
       "    <tr>\n",
       "      <th>1</th>\n",
       "      <td>355030801000007</td>\n",
       "      <td>3.0</td>\n",
       "      <td>6.0</td>\n",
       "    </tr>\n",
       "    <tr>\n",
       "      <th>2</th>\n",
       "      <td>355030801000090</td>\n",
       "      <td>1.0</td>\n",
       "      <td>NaN</td>\n",
       "    </tr>\n",
       "    <tr>\n",
       "      <th>3</th>\n",
       "      <td>355030801000122</td>\n",
       "      <td>1.0</td>\n",
       "      <td>NaN</td>\n",
       "    </tr>\n",
       "    <tr>\n",
       "      <th>4</th>\n",
       "      <td>355030802000002</td>\n",
       "      <td>1.0</td>\n",
       "      <td>NaN</td>\n",
       "    </tr>\n",
       "    <tr>\n",
       "      <th>5</th>\n",
       "      <td>355030802000062</td>\n",
       "      <td>4.0</td>\n",
       "      <td>6.0</td>\n",
       "    </tr>\n",
       "    <tr>\n",
       "      <th>6</th>\n",
       "      <td>355030803000007</td>\n",
       "      <td>1.0</td>\n",
       "      <td>NaN</td>\n",
       "    </tr>\n",
       "    <tr>\n",
       "      <th>7</th>\n",
       "      <td>355030803000014</td>\n",
       "      <td>1.0</td>\n",
       "      <td>NaN</td>\n",
       "    </tr>\n",
       "    <tr>\n",
       "      <th>8</th>\n",
       "      <td>355030803000094</td>\n",
       "      <td>1.0</td>\n",
       "      <td>NaN</td>\n",
       "    </tr>\n",
       "    <tr>\n",
       "      <th>9</th>\n",
       "      <td>355030803000105</td>\n",
       "      <td>1.0</td>\n",
       "      <td>NaN</td>\n",
       "    </tr>\n",
       "  </tbody>\n",
       "</table>\n",
       "</div>"
      ],
      "text/plain": [
       "           SETCENS  TT_HEALTH_EQUIP  TT_LEITOS\n",
       "0    3550308005006              1.0      348.0\n",
       "1  355030801000007              3.0        6.0\n",
       "2  355030801000090              1.0        NaN\n",
       "3  355030801000122              1.0        NaN\n",
       "4  355030802000002              1.0        NaN\n",
       "5  355030802000062              4.0        6.0\n",
       "6  355030803000007              1.0        NaN\n",
       "7  355030803000014              1.0        NaN\n",
       "8  355030803000094              1.0        NaN\n",
       "9  355030803000105              1.0        NaN"
      ]
     },
     "execution_count": 80,
     "metadata": {},
     "output_type": "execute_result"
    }
   ],
   "source": [
    "#query statement to retrieve all rows in INSTRUCTOR table\n",
    "selectQuery3 = \"select setcens, count(id) tt_health_equip, sum(leitos) as tt_leitos from HEALTH group by setcens\"\n",
    "\n",
    "#retrieve the query results into a pandas dataframe\n",
    "SETORES_SAUDE = pandas.read_sql(selectQuery3, pconn)\n",
    "\n",
    "SETORES_SAUDE.head(10)"
   ]
  },
  {
   "cell_type": "markdown",
   "metadata": {},
   "source": [
    "This results in 3 new tables, who I export to csv and upload in Db2 as SETOR_CULT, SETOR_EDUC and SETOR_HEALTH."
   ]
  },
  {
   "cell_type": "code",
   "execution_count": 81,
   "metadata": {},
   "outputs": [],
   "source": [
    "SETORES_SAUDE.to_csv(r'setores_saude.csv')"
   ]
  },
  {
   "cell_type": "markdown",
   "metadata": {},
   "source": [
    "The sector id is may key between this tables. Using the follow script I created the summary_sector table and use pandas.read_sql to create a pandas table"
   ]
  },
  {
   "cell_type": "code",
   "execution_count": 6,
   "metadata": {},
   "outputs": [
    {
     "data": {
      "text/html": [
       "<div>\n",
       "<style scoped>\n",
       "    .dataframe tbody tr th:only-of-type {\n",
       "        vertical-align: middle;\n",
       "    }\n",
       "\n",
       "    .dataframe tbody tr th {\n",
       "        vertical-align: top;\n",
       "    }\n",
       "\n",
       "    .dataframe thead th {\n",
       "        text-align: right;\n",
       "    }\n",
       "</style>\n",
       "<table border=\"1\" class=\"dataframe\">\n",
       "  <thead>\n",
       "    <tr style=\"text-align: right;\">\n",
       "      <th></th>\n",
       "      <th>CD_SETOR</th>\n",
       "      <th>CD_DIST</th>\n",
       "      <th>NM_DIST</th>\n",
       "      <th>POP_TT</th>\n",
       "      <th>POP_WHITE</th>\n",
       "      <th>PERC_WHITE</th>\n",
       "      <th>POP_BLACK</th>\n",
       "      <th>PERC_BLACK</th>\n",
       "      <th>POP_OTHER</th>\n",
       "      <th>PERC_OTHER</th>\n",
       "      <th>...</th>\n",
       "      <th>PERC_MAN</th>\n",
       "      <th>WOMAN</th>\n",
       "      <th>PERC_WOMAN</th>\n",
       "      <th>TT_SCHOOLS</th>\n",
       "      <th>TT_STUDENTS</th>\n",
       "      <th>TT_CULTURE_EQUP</th>\n",
       "      <th>TT_HEALTH_EQUIP</th>\n",
       "      <th>TT_LEITOS</th>\n",
       "      <th>LAT</th>\n",
       "      <th>LONG</th>\n",
       "    </tr>\n",
       "  </thead>\n",
       "  <tbody>\n",
       "    <tr>\n",
       "      <th>0</th>\n",
       "      <td>355030802000076</td>\n",
       "      <td>355030802</td>\n",
       "      <td>ALTO DE PINHEIROS</td>\n",
       "      <td>548</td>\n",
       "      <td>497</td>\n",
       "      <td>0.906934</td>\n",
       "      <td>27</td>\n",
       "      <td>0.049270</td>\n",
       "      <td>24</td>\n",
       "      <td>0.043796</td>\n",
       "      <td>...</td>\n",
       "      <td>0.481752</td>\n",
       "      <td>284</td>\n",
       "      <td>0.518248</td>\n",
       "      <td>1.0</td>\n",
       "      <td>64.0</td>\n",
       "      <td>NaN</td>\n",
       "      <td>NaN</td>\n",
       "      <td>NaN</td>\n",
       "      <td>-23.53822883899994</td>\n",
       "      <td>-46.71332882699994</td>\n",
       "    </tr>\n",
       "    <tr>\n",
       "      <th>1</th>\n",
       "      <td>355030801000001</td>\n",
       "      <td>355030801</td>\n",
       "      <td>3GUA RASA</td>\n",
       "      <td>806</td>\n",
       "      <td>661</td>\n",
       "      <td>0.820099</td>\n",
       "      <td>142</td>\n",
       "      <td>0.176179</td>\n",
       "      <td>3</td>\n",
       "      <td>0.003722</td>\n",
       "      <td>...</td>\n",
       "      <td>0.465261</td>\n",
       "      <td>431</td>\n",
       "      <td>0.534739</td>\n",
       "      <td>NaN</td>\n",
       "      <td>NaN</td>\n",
       "      <td>NaN</td>\n",
       "      <td>NaN</td>\n",
       "      <td>NaN</td>\n",
       "      <td>-23.567837779999934</td>\n",
       "      <td>-46.570826168999986</td>\n",
       "    </tr>\n",
       "    <tr>\n",
       "      <th>2</th>\n",
       "      <td>355030801000002</td>\n",
       "      <td>355030801</td>\n",
       "      <td>3GUA RASA</td>\n",
       "      <td>913</td>\n",
       "      <td>730</td>\n",
       "      <td>0.799562</td>\n",
       "      <td>179</td>\n",
       "      <td>0.196057</td>\n",
       "      <td>4</td>\n",
       "      <td>0.004381</td>\n",
       "      <td>...</td>\n",
       "      <td>0.451260</td>\n",
       "      <td>501</td>\n",
       "      <td>0.548740</td>\n",
       "      <td>NaN</td>\n",
       "      <td>NaN</td>\n",
       "      <td>NaN</td>\n",
       "      <td>NaN</td>\n",
       "      <td>NaN</td>\n",
       "      <td>-23.566559651999967</td>\n",
       "      <td>-46.56823083399996</td>\n",
       "    </tr>\n",
       "    <tr>\n",
       "      <th>3</th>\n",
       "      <td>355030801000003</td>\n",
       "      <td>355030801</td>\n",
       "      <td>3GUA RASA</td>\n",
       "      <td>625</td>\n",
       "      <td>521</td>\n",
       "      <td>0.833600</td>\n",
       "      <td>96</td>\n",
       "      <td>0.153600</td>\n",
       "      <td>8</td>\n",
       "      <td>0.012800</td>\n",
       "      <td>...</td>\n",
       "      <td>0.476800</td>\n",
       "      <td>327</td>\n",
       "      <td>0.523200</td>\n",
       "      <td>2.0</td>\n",
       "      <td>536.0</td>\n",
       "      <td>NaN</td>\n",
       "      <td>NaN</td>\n",
       "      <td>NaN</td>\n",
       "      <td>-23.56859691899996</td>\n",
       "      <td>-46.56752940999996</td>\n",
       "    </tr>\n",
       "    <tr>\n",
       "      <th>4</th>\n",
       "      <td>355030801000004</td>\n",
       "      <td>355030801</td>\n",
       "      <td>3GUA RASA</td>\n",
       "      <td>572</td>\n",
       "      <td>430</td>\n",
       "      <td>0.751748</td>\n",
       "      <td>134</td>\n",
       "      <td>0.234266</td>\n",
       "      <td>8</td>\n",
       "      <td>0.013986</td>\n",
       "      <td>...</td>\n",
       "      <td>0.482517</td>\n",
       "      <td>296</td>\n",
       "      <td>0.517483</td>\n",
       "      <td>NaN</td>\n",
       "      <td>NaN</td>\n",
       "      <td>NaN</td>\n",
       "      <td>NaN</td>\n",
       "      <td>NaN</td>\n",
       "      <td>-23.570316633999937</td>\n",
       "      <td>-46.56888325999995</td>\n",
       "    </tr>\n",
       "  </tbody>\n",
       "</table>\n",
       "<p>5 rows × 23 columns</p>\n",
       "</div>"
      ],
      "text/plain": [
       "          CD_SETOR    CD_DIST            NM_DIST  POP_TT  POP_WHITE  \\\n",
       "0  355030802000076  355030802  ALTO DE PINHEIROS     548        497   \n",
       "1  355030801000001  355030801          3GUA RASA     806        661   \n",
       "2  355030801000002  355030801          3GUA RASA     913        730   \n",
       "3  355030801000003  355030801          3GUA RASA     625        521   \n",
       "4  355030801000004  355030801          3GUA RASA     572        430   \n",
       "\n",
       "   PERC_WHITE  POP_BLACK  PERC_BLACK  POP_OTHER  PERC_OTHER  ...  PERC_MAN  \\\n",
       "0    0.906934         27    0.049270         24    0.043796  ...  0.481752   \n",
       "1    0.820099        142    0.176179          3    0.003722  ...  0.465261   \n",
       "2    0.799562        179    0.196057          4    0.004381  ...  0.451260   \n",
       "3    0.833600         96    0.153600          8    0.012800  ...  0.476800   \n",
       "4    0.751748        134    0.234266          8    0.013986  ...  0.482517   \n",
       "\n",
       "   WOMAN  PERC_WOMAN  TT_SCHOOLS  TT_STUDENTS  TT_CULTURE_EQUP  \\\n",
       "0    284    0.518248         1.0         64.0              NaN   \n",
       "1    431    0.534739         NaN          NaN              NaN   \n",
       "2    501    0.548740         NaN          NaN              NaN   \n",
       "3    327    0.523200         2.0        536.0              NaN   \n",
       "4    296    0.517483         NaN          NaN              NaN   \n",
       "\n",
       "   TT_HEALTH_EQUIP  TT_LEITOS                  LAT                 LONG  \n",
       "0              NaN        NaN   -23.53822883899994   -46.71332882699994  \n",
       "1              NaN        NaN  -23.567837779999934  -46.570826168999986  \n",
       "2              NaN        NaN  -23.566559651999967   -46.56823083399996  \n",
       "3              NaN        NaN   -23.56859691899996   -46.56752940999996  \n",
       "4              NaN        NaN  -23.570316633999937   -46.56888325999995  \n",
       "\n",
       "[5 rows x 23 columns]"
      ]
     },
     "execution_count": 6,
     "metadata": {},
     "output_type": "execute_result"
    }
   ],
   "source": [
    "#query statement to retrieve all rows in INSTRUCTOR table\n",
    "selectSummary_sector = \"SELECT Setores.CD_SETOR, Setores.CD_DIST, Setores.NM_DIST, POPULATION.V001 AS Pop_TT, POPULATION.V002 AS Pop_white, DOUBLE(POPULATION.V002)/DOUBLE(POPULATION.V001) AS PERC_WHITE, POPULATION.V003+POPULATION.V005 AS Pop_black, DOUBLE(POPULATION.V003+POPULATION.V005)/DOUBLE(POPULATION.V001) AS PERC_BLACK, POPULATION.V004+POPULATION.V006 AS POP_other, DOUBLE(POPULATION.V004+POPULATION.V006)/DOUBLE(POPULATION.V001) AS PERC_OTHER, INCOME.V002 AS TT_INCOME, DOUBLE(INCOME.V002)/DOUBLE(POPULATION.V001) AS INCOME_PER_CAPTA, POPULATION.VMAN AS MAN, DOUBLE(POPULATION.VMAN)/DOUBLE(POPULATION.V001) AS PERC_MAN, POPULATION.VWOMAN AS WOMAN, DOUBLE(POPULATION.VWOMAN)/DOUBLE(POPULATION.V001) AS PERC_WOMAN, SETOR_EDUC.TT_SCHOOLS, SETOR_EDUC.TT_STUDENTS, SETOR_CULT.TT_CULTURE_EQUP, SETOR_HEALTH.TT_HEALTH_EQUIP, SETOR_HEALTH.TT_LEITOS, Setores.LAT, Setores.LONG FROM ((((Setores LEFT JOIN POPULATION ON Setores.CD_SETOR = POPULATION.Cod_setor) LEFT JOIN INCOME ON Setores.CD_SETOR = INCOME.Cod_setor) LEFT JOIN SETOR_EDUC ON Setores.CD_SETOR = SETOR_EDUC.SETCENS) LEFT JOIN SETOR_CULT ON Setores.CD_SETOR = SETOR_CULT.SETCENS) LEFT JOIN SETOR_HEALTH ON Setores.CD_SETOR = SETOR_HEALTH.SETCENS WHERE (((POPULATION.V001) Is Not Null));\"\n",
    "\n",
    "Summary_sector = pandas.read_sql(selectSummary_sector, pconn)\n",
    "\n",
    "Summary_sector.head(5)"
   ]
  },
  {
   "cell_type": "code",
   "execution_count": 28,
   "metadata": {},
   "outputs": [
    {
     "data": {
      "text/plain": [
       "(18363, 17)"
      ]
     },
     "execution_count": 28,
     "metadata": {},
     "output_type": "execute_result"
    }
   ],
   "source": [
    "Summary_sector.shape"
   ]
  },
  {
   "cell_type": "code",
   "execution_count": 29,
   "metadata": {},
   "outputs": [],
   "source": [
    "Summary_sector.to_csv(r'summary_sector.csv')"
   ]
  },
  {
   "cell_type": "markdown",
   "metadata": {},
   "source": [
    "### 3.4. Exploratory Data Analysis"
   ]
  },
  {
   "cell_type": "code",
   "execution_count": 9,
   "metadata": {},
   "outputs": [],
   "source": [
    "import pandas as pd\n",
    "import numpy as np\n",
    "#! pip install seaborn\n",
    "import matplotlib.pyplot as plt\n",
    "import seaborn as sns\n",
    "#%matplotlib inline\n",
    "from scipy import stats"
   ]
  },
  {
   "cell_type": "markdown",
   "metadata": {},
   "source": [
    "For a first view of the Summary_sector table I use the .describe () function so I can evaluate the count, average, standard deviation, minimum, maximum and quartiles for each variable."
   ]
  },
  {
   "cell_type": "code",
   "execution_count": 17,
   "metadata": {},
   "outputs": [
    {
     "data": {
      "text/html": [
       "<div>\n",
       "<style scoped>\n",
       "    .dataframe tbody tr th:only-of-type {\n",
       "        vertical-align: middle;\n",
       "    }\n",
       "\n",
       "    .dataframe tbody tr th {\n",
       "        vertical-align: top;\n",
       "    }\n",
       "\n",
       "    .dataframe thead th {\n",
       "        text-align: right;\n",
       "    }\n",
       "</style>\n",
       "<table border=\"1\" class=\"dataframe\">\n",
       "  <thead>\n",
       "    <tr style=\"text-align: right;\">\n",
       "      <th></th>\n",
       "      <th>POP_TT</th>\n",
       "      <th>POP_WHITE</th>\n",
       "      <th>PERC_WHITE</th>\n",
       "      <th>POP_BLACK</th>\n",
       "      <th>PERC_BLACK</th>\n",
       "      <th>POP_OTHER</th>\n",
       "      <th>PERC_OTHER</th>\n",
       "      <th>TT_INCOME</th>\n",
       "      <th>INCOME_PER_CAPTA</th>\n",
       "      <th>MAN</th>\n",
       "      <th>PERC_MAN</th>\n",
       "      <th>WOMAN</th>\n",
       "      <th>PERC_WOMAN</th>\n",
       "      <th>TT_SCHOOLS</th>\n",
       "      <th>TT_STUDENTS</th>\n",
       "      <th>TT_CULTURE_EQUP</th>\n",
       "      <th>TT_HEALTH_EQUIP</th>\n",
       "      <th>TT_LEITOS</th>\n",
       "    </tr>\n",
       "  </thead>\n",
       "  <tbody>\n",
       "    <tr>\n",
       "      <th>count</th>\n",
       "      <td>18363.000000</td>\n",
       "      <td>18363.000000</td>\n",
       "      <td>18363.000000</td>\n",
       "      <td>18363.000000</td>\n",
       "      <td>18363.000000</td>\n",
       "      <td>18363.000000</td>\n",
       "      <td>18363.000000</td>\n",
       "      <td>1.836300e+04</td>\n",
       "      <td>18363.000000</td>\n",
       "      <td>18363.000000</td>\n",
       "      <td>18363.000000</td>\n",
       "      <td>18363.000000</td>\n",
       "      <td>18363.000000</td>\n",
       "      <td>4727.000000</td>\n",
       "      <td>4727.000000</td>\n",
       "      <td>721.000000</td>\n",
       "      <td>855.000000</td>\n",
       "      <td>235.000000</td>\n",
       "    </tr>\n",
       "    <tr>\n",
       "      <th>mean</th>\n",
       "      <td>612.835757</td>\n",
       "      <td>371.526820</td>\n",
       "      <td>0.619319</td>\n",
       "      <td>226.937701</td>\n",
       "      <td>0.346997</td>\n",
       "      <td>14.113108</td>\n",
       "      <td>0.025114</td>\n",
       "      <td>6.878029e+05</td>\n",
       "      <td>1249.694221</td>\n",
       "      <td>289.927735</td>\n",
       "      <td>0.468316</td>\n",
       "      <td>322.672276</td>\n",
       "      <td>0.523177</td>\n",
       "      <td>1.462238</td>\n",
       "      <td>572.380791</td>\n",
       "      <td>2.327323</td>\n",
       "      <td>1.297076</td>\n",
       "      <td>111.744681</td>\n",
       "    </tr>\n",
       "    <tr>\n",
       "      <th>std</th>\n",
       "      <td>314.424174</td>\n",
       "      <td>191.798473</td>\n",
       "      <td>0.195682</td>\n",
       "      <td>206.294280</td>\n",
       "      <td>0.203736</td>\n",
       "      <td>24.081993</td>\n",
       "      <td>0.041362</td>\n",
       "      <td>7.187901e+05</td>\n",
       "      <td>1349.390121</td>\n",
       "      <td>153.588338</td>\n",
       "      <td>0.054736</td>\n",
       "      <td>163.043408</td>\n",
       "      <td>0.058847</td>\n",
       "      <td>0.846567</td>\n",
       "      <td>965.872058</td>\n",
       "      <td>2.544807</td>\n",
       "      <td>0.757896</td>\n",
       "      <td>147.784069</td>\n",
       "    </tr>\n",
       "    <tr>\n",
       "      <th>min</th>\n",
       "      <td>1.000000</td>\n",
       "      <td>0.000000</td>\n",
       "      <td>0.000000</td>\n",
       "      <td>0.000000</td>\n",
       "      <td>0.000000</td>\n",
       "      <td>0.000000</td>\n",
       "      <td>0.000000</td>\n",
       "      <td>0.000000e+00</td>\n",
       "      <td>0.000000</td>\n",
       "      <td>0.000000</td>\n",
       "      <td>0.000000</td>\n",
       "      <td>0.000000</td>\n",
       "      <td>0.000000</td>\n",
       "      <td>1.000000</td>\n",
       "      <td>2.000000</td>\n",
       "      <td>1.000000</td>\n",
       "      <td>1.000000</td>\n",
       "      <td>1.000000</td>\n",
       "    </tr>\n",
       "    <tr>\n",
       "      <th>25%</th>\n",
       "      <td>408.000000</td>\n",
       "      <td>243.000000</td>\n",
       "      <td>0.463293</td>\n",
       "      <td>69.000000</td>\n",
       "      <td>0.160052</td>\n",
       "      <td>2.000000</td>\n",
       "      <td>0.003610</td>\n",
       "      <td>2.789845e+05</td>\n",
       "      <td>460.893023</td>\n",
       "      <td>190.000000</td>\n",
       "      <td>0.454662</td>\n",
       "      <td>217.000000</td>\n",
       "      <td>0.510436</td>\n",
       "      <td>1.000000</td>\n",
       "      <td>119.000000</td>\n",
       "      <td>1.000000</td>\n",
       "      <td>1.000000</td>\n",
       "      <td>15.000000</td>\n",
       "    </tr>\n",
       "    <tr>\n",
       "      <th>50%</th>\n",
       "      <td>584.000000</td>\n",
       "      <td>357.000000</td>\n",
       "      <td>0.618557</td>\n",
       "      <td>178.000000</td>\n",
       "      <td>0.353383</td>\n",
       "      <td>7.000000</td>\n",
       "      <td>0.012500</td>\n",
       "      <td>4.699370e+05</td>\n",
       "      <td>712.662434</td>\n",
       "      <td>274.000000</td>\n",
       "      <td>0.472296</td>\n",
       "      <td>310.000000</td>\n",
       "      <td>0.527174</td>\n",
       "      <td>1.000000</td>\n",
       "      <td>301.000000</td>\n",
       "      <td>1.000000</td>\n",
       "      <td>1.000000</td>\n",
       "      <td>73.000000</td>\n",
       "    </tr>\n",
       "    <tr>\n",
       "      <th>75%</th>\n",
       "      <td>779.000000</td>\n",
       "      <td>486.000000</td>\n",
       "      <td>0.785928</td>\n",
       "      <td>324.000000</td>\n",
       "      <td>0.522600</td>\n",
       "      <td>17.000000</td>\n",
       "      <td>0.030888</td>\n",
       "      <td>8.130405e+05</td>\n",
       "      <td>1452.268650</td>\n",
       "      <td>370.000000</td>\n",
       "      <td>0.488942</td>\n",
       "      <td>411.000000</td>\n",
       "      <td>0.544608</td>\n",
       "      <td>2.000000</td>\n",
       "      <td>792.000000</td>\n",
       "      <td>2.000000</td>\n",
       "      <td>1.000000</td>\n",
       "      <td>164.000000</td>\n",
       "    </tr>\n",
       "    <tr>\n",
       "      <th>max</th>\n",
       "      <td>3252.000000</td>\n",
       "      <td>1834.000000</td>\n",
       "      <td>1.000000</td>\n",
       "      <td>2217.000000</td>\n",
       "      <td>1.000000</td>\n",
       "      <td>599.000000</td>\n",
       "      <td>1.000000</td>\n",
       "      <td>1.348729e+07</td>\n",
       "      <td>26088.791946</td>\n",
       "      <td>1773.000000</td>\n",
       "      <td>1.000000</td>\n",
       "      <td>1678.000000</td>\n",
       "      <td>1.000000</td>\n",
       "      <td>10.000000</td>\n",
       "      <td>47268.000000</td>\n",
       "      <td>17.000000</td>\n",
       "      <td>8.000000</td>\n",
       "      <td>1031.000000</td>\n",
       "    </tr>\n",
       "  </tbody>\n",
       "</table>\n",
       "</div>"
      ],
      "text/plain": [
       "             POP_TT     POP_WHITE    PERC_WHITE     POP_BLACK    PERC_BLACK  \\\n",
       "count  18363.000000  18363.000000  18363.000000  18363.000000  18363.000000   \n",
       "mean     612.835757    371.526820      0.619319    226.937701      0.346997   \n",
       "std      314.424174    191.798473      0.195682    206.294280      0.203736   \n",
       "min        1.000000      0.000000      0.000000      0.000000      0.000000   \n",
       "25%      408.000000    243.000000      0.463293     69.000000      0.160052   \n",
       "50%      584.000000    357.000000      0.618557    178.000000      0.353383   \n",
       "75%      779.000000    486.000000      0.785928    324.000000      0.522600   \n",
       "max     3252.000000   1834.000000      1.000000   2217.000000      1.000000   \n",
       "\n",
       "          POP_OTHER    PERC_OTHER     TT_INCOME  INCOME_PER_CAPTA  \\\n",
       "count  18363.000000  18363.000000  1.836300e+04      18363.000000   \n",
       "mean      14.113108      0.025114  6.878029e+05       1249.694221   \n",
       "std       24.081993      0.041362  7.187901e+05       1349.390121   \n",
       "min        0.000000      0.000000  0.000000e+00          0.000000   \n",
       "25%        2.000000      0.003610  2.789845e+05        460.893023   \n",
       "50%        7.000000      0.012500  4.699370e+05        712.662434   \n",
       "75%       17.000000      0.030888  8.130405e+05       1452.268650   \n",
       "max      599.000000      1.000000  1.348729e+07      26088.791946   \n",
       "\n",
       "                MAN      PERC_MAN         WOMAN    PERC_WOMAN   TT_SCHOOLS  \\\n",
       "count  18363.000000  18363.000000  18363.000000  18363.000000  4727.000000   \n",
       "mean     289.927735      0.468316    322.672276      0.523177     1.462238   \n",
       "std      153.588338      0.054736    163.043408      0.058847     0.846567   \n",
       "min        0.000000      0.000000      0.000000      0.000000     1.000000   \n",
       "25%      190.000000      0.454662    217.000000      0.510436     1.000000   \n",
       "50%      274.000000      0.472296    310.000000      0.527174     1.000000   \n",
       "75%      370.000000      0.488942    411.000000      0.544608     2.000000   \n",
       "max     1773.000000      1.000000   1678.000000      1.000000    10.000000   \n",
       "\n",
       "        TT_STUDENTS  TT_CULTURE_EQUP  TT_HEALTH_EQUIP    TT_LEITOS  \n",
       "count   4727.000000       721.000000       855.000000   235.000000  \n",
       "mean     572.380791         2.327323         1.297076   111.744681  \n",
       "std      965.872058         2.544807         0.757896   147.784069  \n",
       "min        2.000000         1.000000         1.000000     1.000000  \n",
       "25%      119.000000         1.000000         1.000000    15.000000  \n",
       "50%      301.000000         1.000000         1.000000    73.000000  \n",
       "75%      792.000000         2.000000         1.000000   164.000000  \n",
       "max    47268.000000        17.000000         8.000000  1031.000000  "
      ]
     },
     "execution_count": 17,
     "metadata": {},
     "output_type": "execute_result"
    }
   ],
   "source": [
    "Summary_sector.describe()"
   ]
  },
  {
   "cell_type": "markdown",
   "metadata": {},
   "source": [
    "As expected, the variables related to population and income are filled for all 18,363 census sectors.\n",
    "Only 4,727 sectors have schools, 721 cultural facilities and 855 health facilities. Therefore, I will exclude the use of this information for analysis at the scale of the census sector. This information will be better used when the level of scale is the district.\n",
    "Given this, I establish the correlation between the proportional variables of the population in each district and the per-capita income.\n"
   ]
  },
  {
   "cell_type": "code",
   "execution_count": 21,
   "metadata": {},
   "outputs": [
    {
     "data": {
      "text/html": [
       "<div>\n",
       "<style scoped>\n",
       "    .dataframe tbody tr th:only-of-type {\n",
       "        vertical-align: middle;\n",
       "    }\n",
       "\n",
       "    .dataframe tbody tr th {\n",
       "        vertical-align: top;\n",
       "    }\n",
       "\n",
       "    .dataframe thead th {\n",
       "        text-align: right;\n",
       "    }\n",
       "</style>\n",
       "<table border=\"1\" class=\"dataframe\">\n",
       "  <thead>\n",
       "    <tr style=\"text-align: right;\">\n",
       "      <th></th>\n",
       "      <th>PERC_WHITE</th>\n",
       "      <th>PERC_BLACK</th>\n",
       "      <th>PERC_OTHER</th>\n",
       "      <th>PERC_MAN</th>\n",
       "      <th>PERC_WOMAN</th>\n",
       "      <th>INCOME_PER_CAPTA</th>\n",
       "    </tr>\n",
       "  </thead>\n",
       "  <tbody>\n",
       "    <tr>\n",
       "      <th>PERC_WHITE</th>\n",
       "      <td>1.000000</td>\n",
       "      <td>-0.878427</td>\n",
       "      <td>0.250231</td>\n",
       "      <td>0.047822</td>\n",
       "      <td>0.414930</td>\n",
       "      <td>0.662489</td>\n",
       "    </tr>\n",
       "    <tr>\n",
       "      <th>PERC_BLACK</th>\n",
       "      <td>-0.878427</td>\n",
       "      <td>1.000000</td>\n",
       "      <td>-0.417850</td>\n",
       "      <td>0.320795</td>\n",
       "      <td>-0.050454</td>\n",
       "      <td>-0.660883</td>\n",
       "    </tr>\n",
       "    <tr>\n",
       "      <th>PERC_OTHER</th>\n",
       "      <td>0.250231</td>\n",
       "      <td>-0.417850</td>\n",
       "      <td>1.000000</td>\n",
       "      <td>-0.038468</td>\n",
       "      <td>0.123963</td>\n",
       "      <td>0.312490</td>\n",
       "    </tr>\n",
       "    <tr>\n",
       "      <th>PERC_MAN</th>\n",
       "      <td>0.047822</td>\n",
       "      <td>0.320795</td>\n",
       "      <td>-0.038468</td>\n",
       "      <td>1.000000</td>\n",
       "      <td>0.313626</td>\n",
       "      <td>-0.079512</td>\n",
       "    </tr>\n",
       "    <tr>\n",
       "      <th>PERC_WOMAN</th>\n",
       "      <td>0.414930</td>\n",
       "      <td>-0.050454</td>\n",
       "      <td>0.123963</td>\n",
       "      <td>0.313626</td>\n",
       "      <td>1.000000</td>\n",
       "      <td>0.208240</td>\n",
       "    </tr>\n",
       "    <tr>\n",
       "      <th>INCOME_PER_CAPTA</th>\n",
       "      <td>0.662489</td>\n",
       "      <td>-0.660883</td>\n",
       "      <td>0.312490</td>\n",
       "      <td>-0.079512</td>\n",
       "      <td>0.208240</td>\n",
       "      <td>1.000000</td>\n",
       "    </tr>\n",
       "  </tbody>\n",
       "</table>\n",
       "</div>"
      ],
      "text/plain": [
       "                  PERC_WHITE  PERC_BLACK  PERC_OTHER  PERC_MAN  PERC_WOMAN  \\\n",
       "PERC_WHITE          1.000000   -0.878427    0.250231  0.047822    0.414930   \n",
       "PERC_BLACK         -0.878427    1.000000   -0.417850  0.320795   -0.050454   \n",
       "PERC_OTHER          0.250231   -0.417850    1.000000 -0.038468    0.123963   \n",
       "PERC_MAN            0.047822    0.320795   -0.038468  1.000000    0.313626   \n",
       "PERC_WOMAN          0.414930   -0.050454    0.123963  0.313626    1.000000   \n",
       "INCOME_PER_CAPTA    0.662489   -0.660883    0.312490 -0.079512    0.208240   \n",
       "\n",
       "                  INCOME_PER_CAPTA  \n",
       "PERC_WHITE                0.662489  \n",
       "PERC_BLACK               -0.660883  \n",
       "PERC_OTHER                0.312490  \n",
       "PERC_MAN                 -0.079512  \n",
       "PERC_WOMAN                0.208240  \n",
       "INCOME_PER_CAPTA          1.000000  "
      ]
     },
     "execution_count": 21,
     "metadata": {},
     "output_type": "execute_result"
    }
   ],
   "source": [
    "Summary_sector[['PERC_WHITE','PERC_BLACK','PERC_OTHER','PERC_MAN', 'PERC_WOMAN', 'INCOME_PER_CAPTA']].corr()"
   ]
  },
  {
   "cell_type": "markdown",
   "metadata": {},
   "source": [
    "By the Pearson correlation index, a moderate / strong correlation was identified between income and percentages of white and black people, however the correlation at the level of the census sector was weak in relation to gender. There is also a strong correlation between the percentages of whites and blacks, which may indicate that there may be spatial segregation."
   ]
  },
  {
   "cell_type": "code",
   "execution_count": null,
   "metadata": {},
   "outputs": [],
   "source": [
    "Summary_sector[['POP_TT','POP_WHITE','POP_BLACK','POP_OTHER','MAN', 'WOMAN', 'INCOME_PER_CAPTA','TT_SCHOOLS', 'TT_STUDENTS', 'TT_CULTURE_EQUP', 'TT_HEALTH_EQUIP', 'TT_LEITOS']].corr()"
   ]
  },
  {
   "cell_type": "markdown",
   "metadata": {},
   "source": [
    "WHITE PEOPLE\n",
    "\n",
    "The white population of the city represents 60.6% of the total declared to the IBGE. When constructing the dispersion graph of the census areas, we can observe that there is a growth correlation between the percentage of white people in the sector and the income per capita."
   ]
  },
  {
   "cell_type": "code",
   "execution_count": 28,
   "metadata": {},
   "outputs": [
    {
     "data": {
      "text/plain": [
       "POP_TT       11253503\n",
       "POP_WHITE     6822347\n",
       "dtype: int64"
      ]
     },
     "execution_count": 28,
     "metadata": {},
     "output_type": "execute_result"
    }
   ],
   "source": [
    "Summary_sector[['POP_TT', 'POP_WHITE']].sum()"
   ]
  },
  {
   "cell_type": "code",
   "execution_count": 29,
   "metadata": {},
   "outputs": [
    {
     "data": {
      "text/plain": [
       "0.6062420741346051"
      ]
     },
     "execution_count": 29,
     "metadata": {},
     "output_type": "execute_result"
    }
   ],
   "source": [
    "6822347/11253503"
   ]
  },
  {
   "cell_type": "code",
   "execution_count": 24,
   "metadata": {},
   "outputs": [
    {
     "data": {
      "text/plain": [
       "(0, 27488.921936962033)"
      ]
     },
     "execution_count": 24,
     "metadata": {},
     "output_type": "execute_result"
    },
    {
     "data": {
      "image/png": "[encoded data removed]",
      "text/plain": [
       "<Figure size 432x288 with 1 Axes>"
      ]
     },
     "metadata": {
      "needs_background": "light"
     },
     "output_type": "display_data"
    }
   ],
   "source": [
    "sns.regplot(x='PERC_WHITE', y='INCOME_PER_CAPTA', data=Summary_sector)\n",
    "plt.ylim(0,)"
   ]
  },
  {
   "cell_type": "code",
   "execution_count": 25,
   "metadata": {},
   "outputs": [
    {
     "data": {
      "text/html": [
       "<div>\n",
       "<style scoped>\n",
       "    .dataframe tbody tr th:only-of-type {\n",
       "        vertical-align: middle;\n",
       "    }\n",
       "\n",
       "    .dataframe tbody tr th {\n",
       "        vertical-align: top;\n",
       "    }\n",
       "\n",
       "    .dataframe thead th {\n",
       "        text-align: right;\n",
       "    }\n",
       "</style>\n",
       "<table border=\"1\" class=\"dataframe\">\n",
       "  <thead>\n",
       "    <tr style=\"text-align: right;\">\n",
       "      <th></th>\n",
       "      <th>PERC_WHITE</th>\n",
       "      <th>INCOME_PER_CAPTA</th>\n",
       "    </tr>\n",
       "  </thead>\n",
       "  <tbody>\n",
       "    <tr>\n",
       "      <th>PERC_WHITE</th>\n",
       "      <td>1.000000</td>\n",
       "      <td>0.662489</td>\n",
       "    </tr>\n",
       "    <tr>\n",
       "      <th>INCOME_PER_CAPTA</th>\n",
       "      <td>0.662489</td>\n",
       "      <td>1.000000</td>\n",
       "    </tr>\n",
       "  </tbody>\n",
       "</table>\n",
       "</div>"
      ],
      "text/plain": [
       "                  PERC_WHITE  INCOME_PER_CAPTA\n",
       "PERC_WHITE          1.000000          0.662489\n",
       "INCOME_PER_CAPTA    0.662489          1.000000"
      ]
     },
     "execution_count": 25,
     "metadata": {},
     "output_type": "execute_result"
    }
   ],
   "source": [
    "Summary_sector[[\"PERC_WHITE\", \"INCOME_PER_CAPTA\"]].corr()"
   ]
  },
  {
   "cell_type": "code",
   "execution_count": 45,
   "metadata": {},
   "outputs": [
    {
     "name": "stdout",
     "output_type": "stream",
     "text": [
      "The Pearson Correlation Coefficient is 0.6624886961070122  with a P-value of P = 0.0\n"
     ]
    }
   ],
   "source": [
    "pearson_coef, p_value = stats.pearsonr(Summary_sector['PERC_WHITE'], Summary_sector['INCOME_PER_CAPTA'])\n",
    "print(\"The Pearson Correlation Coefficient is\", pearson_coef, \" with a P-value of P =\", p_value)"
   ]
  },
  {
   "cell_type": "markdown",
   "metadata": {},
   "source": [
    "BLACK PEOPLE\n",
    "\n",
    "The city's black population represents 37% of the total declared to the IBGE. When constructing the dispersion graph of the census areas, we can observe that there is a decreasing correlation between the percentage of black people in the sector and the income per capita."
   ]
  },
  {
   "cell_type": "code",
   "execution_count": 30,
   "metadata": {},
   "outputs": [
    {
     "data": {
      "text/plain": [
       "POP_TT       11253503\n",
       "POP_BLACK     4167257\n",
       "dtype: int64"
      ]
     },
     "execution_count": 30,
     "metadata": {},
     "output_type": "execute_result"
    }
   ],
   "source": [
    "Summary_sector[['POP_TT', 'POP_BLACK']].sum()"
   ]
  },
  {
   "cell_type": "code",
   "execution_count": 31,
   "metadata": {},
   "outputs": [
    {
     "data": {
      "text/plain": [
       "0.3703075389058856"
      ]
     },
     "execution_count": 31,
     "metadata": {},
     "output_type": "execute_result"
    }
   ],
   "source": [
    "4167257/11253503"
   ]
  },
  {
   "cell_type": "code",
   "execution_count": 26,
   "metadata": {},
   "outputs": [
    {
     "data": {
      "text/plain": [
       "(0, 27489.645882087167)"
      ]
     },
     "execution_count": 26,
     "metadata": {},
     "output_type": "execute_result"
    },
    {
     "data": {
      "image/png": "[encoded data removed]",
      "text/plain": [
       "<Figure size 432x288 with 1 Axes>"
      ]
     },
     "metadata": {
      "needs_background": "light"
     },
     "output_type": "display_data"
    }
   ],
   "source": [
    "sns.regplot(x='PERC_BLACK', y='INCOME_PER_CAPTA', data=Summary_sector)\n",
    "plt.ylim(0,)"
   ]
  },
  {
   "cell_type": "code",
   "execution_count": 27,
   "metadata": {},
   "outputs": [
    {
     "data": {
      "text/html": [
       "<div>\n",
       "<style scoped>\n",
       "    .dataframe tbody tr th:only-of-type {\n",
       "        vertical-align: middle;\n",
       "    }\n",
       "\n",
       "    .dataframe tbody tr th {\n",
       "        vertical-align: top;\n",
       "    }\n",
       "\n",
       "    .dataframe thead th {\n",
       "        text-align: right;\n",
       "    }\n",
       "</style>\n",
       "<table border=\"1\" class=\"dataframe\">\n",
       "  <thead>\n",
       "    <tr style=\"text-align: right;\">\n",
       "      <th></th>\n",
       "      <th>PERC_BLACK</th>\n",
       "      <th>INCOME_PER_CAPTA</th>\n",
       "    </tr>\n",
       "  </thead>\n",
       "  <tbody>\n",
       "    <tr>\n",
       "      <th>PERC_BLACK</th>\n",
       "      <td>1.000000</td>\n",
       "      <td>-0.660883</td>\n",
       "    </tr>\n",
       "    <tr>\n",
       "      <th>INCOME_PER_CAPTA</th>\n",
       "      <td>-0.660883</td>\n",
       "      <td>1.000000</td>\n",
       "    </tr>\n",
       "  </tbody>\n",
       "</table>\n",
       "</div>"
      ],
      "text/plain": [
       "                  PERC_BLACK  INCOME_PER_CAPTA\n",
       "PERC_BLACK          1.000000         -0.660883\n",
       "INCOME_PER_CAPTA   -0.660883          1.000000"
      ]
     },
     "execution_count": 27,
     "metadata": {},
     "output_type": "execute_result"
    }
   ],
   "source": [
    "Summary_sector[[\"PERC_BLACK\", \"INCOME_PER_CAPTA\"]].corr()"
   ]
  },
  {
   "cell_type": "code",
   "execution_count": 46,
   "metadata": {},
   "outputs": [
    {
     "name": "stdout",
     "output_type": "stream",
     "text": [
      "The Pearson Correlation Coefficient is -0.6608830124388987  with a P-value of P = 0.0\n"
     ]
    }
   ],
   "source": [
    "pearson_coef, p_value = stats.pearsonr(Summary_sector['PERC_BLACK'], Summary_sector['INCOME_PER_CAPTA'])\n",
    "print(\"The Pearson Correlation Coefficient is\", pearson_coef, \" with a P-value of P =\", p_value)"
   ]
  },
  {
   "cell_type": "code",
   "execution_count": null,
   "metadata": {},
   "outputs": [],
   "source": []
  },
  {
   "cell_type": "markdown",
   "metadata": {},
   "source": [
    "MEN"
   ]
  },
  {
   "cell_type": "code",
   "execution_count": 32,
   "metadata": {},
   "outputs": [
    {
     "data": {
      "text/plain": [
       "POP_TT    11253503\n",
       "MAN        5323943\n",
       "dtype: int64"
      ]
     },
     "execution_count": 32,
     "metadata": {},
     "output_type": "execute_result"
    }
   ],
   "source": [
    "Summary_sector[['POP_TT', 'MAN']].sum()"
   ]
  },
  {
   "cell_type": "code",
   "execution_count": 33,
   "metadata": {},
   "outputs": [
    {
     "data": {
      "text/plain": [
       "0.4730920674211399"
      ]
     },
     "execution_count": 33,
     "metadata": {},
     "output_type": "execute_result"
    }
   ],
   "source": [
    "5323943/11253503"
   ]
  },
  {
   "cell_type": "code",
   "execution_count": 36,
   "metadata": {},
   "outputs": [
    {
     "data": {
      "text/plain": [
       "(0, 27404.01179022513)"
      ]
     },
     "execution_count": 36,
     "metadata": {},
     "output_type": "execute_result"
    },
    {
     "data": {
      "image/png": "[encoded data removed]",
      "text/plain": [
       "<Figure size 432x288 with 1 Axes>"
      ]
     },
     "metadata": {
      "needs_background": "light"
     },
     "output_type": "display_data"
    }
   ],
   "source": [
    "sns.regplot(x='PERC_MAN', y='INCOME_PER_CAPTA', data=Summary_sector)\n",
    "plt.ylim(0,)"
   ]
  },
  {
   "cell_type": "code",
   "execution_count": 37,
   "metadata": {},
   "outputs": [
    {
     "data": {
      "text/html": [
       "<div>\n",
       "<style scoped>\n",
       "    .dataframe tbody tr th:only-of-type {\n",
       "        vertical-align: middle;\n",
       "    }\n",
       "\n",
       "    .dataframe tbody tr th {\n",
       "        vertical-align: top;\n",
       "    }\n",
       "\n",
       "    .dataframe thead th {\n",
       "        text-align: right;\n",
       "    }\n",
       "</style>\n",
       "<table border=\"1\" class=\"dataframe\">\n",
       "  <thead>\n",
       "    <tr style=\"text-align: right;\">\n",
       "      <th></th>\n",
       "      <th>PERC_MAN</th>\n",
       "      <th>INCOME_PER_CAPTA</th>\n",
       "    </tr>\n",
       "  </thead>\n",
       "  <tbody>\n",
       "    <tr>\n",
       "      <th>PERC_MAN</th>\n",
       "      <td>1.000000</td>\n",
       "      <td>-0.079512</td>\n",
       "    </tr>\n",
       "    <tr>\n",
       "      <th>INCOME_PER_CAPTA</th>\n",
       "      <td>-0.079512</td>\n",
       "      <td>1.000000</td>\n",
       "    </tr>\n",
       "  </tbody>\n",
       "</table>\n",
       "</div>"
      ],
      "text/plain": [
       "                  PERC_MAN  INCOME_PER_CAPTA\n",
       "PERC_MAN          1.000000         -0.079512\n",
       "INCOME_PER_CAPTA -0.079512          1.000000"
      ]
     },
     "execution_count": 37,
     "metadata": {},
     "output_type": "execute_result"
    }
   ],
   "source": [
    "Summary_sector[[\"PERC_MAN\", \"INCOME_PER_CAPTA\"]].corr()"
   ]
  },
  {
   "cell_type": "code",
   "execution_count": 47,
   "metadata": {},
   "outputs": [
    {
     "name": "stdout",
     "output_type": "stream",
     "text": [
      "The Pearson Correlation Coefficient is -0.07951240563479849  with a P-value of P = 3.7925656303285465e-27\n"
     ]
    }
   ],
   "source": [
    "pearson_coef, p_value = stats.pearsonr(Summary_sector['PERC_MAN'], Summary_sector['INCOME_PER_CAPTA'])\n",
    "print(\"The Pearson Correlation Coefficient is\", pearson_coef, \" with a P-value of P =\", p_value)"
   ]
  },
  {
   "cell_type": "markdown",
   "metadata": {},
   "source": [
    "WOMEN"
   ]
  },
  {
   "cell_type": "code",
   "execution_count": 38,
   "metadata": {},
   "outputs": [
    {
     "data": {
      "text/plain": [
       "POP_TT    11253503\n",
       "WOMAN      5925231\n",
       "dtype: int64"
      ]
     },
     "execution_count": 38,
     "metadata": {},
     "output_type": "execute_result"
    }
   ],
   "source": [
    "Summary_sector[['POP_TT', 'WOMAN']].sum()"
   ]
  },
  {
   "cell_type": "code",
   "execution_count": 39,
   "metadata": {},
   "outputs": [
    {
     "data": {
      "text/plain": [
       "0.5265232523597319"
      ]
     },
     "execution_count": 39,
     "metadata": {},
     "output_type": "execute_result"
    }
   ],
   "source": [
    "5925231/11253503"
   ]
  },
  {
   "cell_type": "code",
   "execution_count": 41,
   "metadata": {},
   "outputs": [
    {
     "data": {
      "text/plain": [
       "(0, 27479.81085337852)"
      ]
     },
     "execution_count": 41,
     "metadata": {},
     "output_type": "execute_result"
    },
    {
     "data": {
      "image/png": "[encoded data removed]",
      "text/plain": [
       "<Figure size 432x288 with 1 Axes>"
      ]
     },
     "metadata": {
      "needs_background": "light"
     },
     "output_type": "display_data"
    }
   ],
   "source": [
    "sns.regplot(x='PERC_WOMAN', y='INCOME_PER_CAPTA', data=Summary_sector)\n",
    "plt.ylim(0,)"
   ]
  },
  {
   "cell_type": "code",
   "execution_count": 42,
   "metadata": {},
   "outputs": [
    {
     "data": {
      "text/html": [
       "<div>\n",
       "<style scoped>\n",
       "    .dataframe tbody tr th:only-of-type {\n",
       "        vertical-align: middle;\n",
       "    }\n",
       "\n",
       "    .dataframe tbody tr th {\n",
       "        vertical-align: top;\n",
       "    }\n",
       "\n",
       "    .dataframe thead th {\n",
       "        text-align: right;\n",
       "    }\n",
       "</style>\n",
       "<table border=\"1\" class=\"dataframe\">\n",
       "  <thead>\n",
       "    <tr style=\"text-align: right;\">\n",
       "      <th></th>\n",
       "      <th>PERC_WOMAN</th>\n",
       "      <th>INCOME_PER_CAPTA</th>\n",
       "    </tr>\n",
       "  </thead>\n",
       "  <tbody>\n",
       "    <tr>\n",
       "      <th>PERC_WOMAN</th>\n",
       "      <td>1.00000</td>\n",
       "      <td>0.20824</td>\n",
       "    </tr>\n",
       "    <tr>\n",
       "      <th>INCOME_PER_CAPTA</th>\n",
       "      <td>0.20824</td>\n",
       "      <td>1.00000</td>\n",
       "    </tr>\n",
       "  </tbody>\n",
       "</table>\n",
       "</div>"
      ],
      "text/plain": [
       "                  PERC_WOMAN  INCOME_PER_CAPTA\n",
       "PERC_WOMAN           1.00000           0.20824\n",
       "INCOME_PER_CAPTA     0.20824           1.00000"
      ]
     },
     "execution_count": 42,
     "metadata": {},
     "output_type": "execute_result"
    }
   ],
   "source": [
    "Summary_sector[[\"PERC_WOMAN\", \"INCOME_PER_CAPTA\"]].corr()"
   ]
  },
  {
   "cell_type": "code",
   "execution_count": 48,
   "metadata": {},
   "outputs": [
    {
     "name": "stdout",
     "output_type": "stream",
     "text": [
      "The Pearson Correlation Coefficient is 0.20824026521970707  with a P-value of P = 4.967431589549382e-179\n"
     ]
    }
   ],
   "source": [
    "pearson_coef, p_value = stats.pearsonr(Summary_sector['PERC_WOMAN'], Summary_sector['INCOME_PER_CAPTA'])\n",
    "print(\"The Pearson Correlation Coefficient is\", pearson_coef, \" with a P-value of P =\", p_value)"
   ]
  },
  {
   "cell_type": "markdown",
   "metadata": {},
   "source": [
    "### By Districts"
   ]
  },
  {
   "cell_type": "markdown",
   "metadata": {},
   "source": [
    "Districts are territories in which municipalities are subdivided into which administrative, judicial, fiscal, police or health authority is exercised. Each census sector is spatially contained in a district of the city. All 18,363 census sector areas can be grouped into 96 city districts.\n",
    "The first 9 digits of the sector ID form the district ID.\n",
    "The first step was to group the CD_DIST column using the groupby function and sum the variables with absolute values. Then, all variables were proportional to the total number of the population for us to compare, including information on health equipment, culture and schools.\n"
   ]
  },
  {
   "cell_type": "code",
   "execution_count": 22,
   "metadata": {},
   "outputs": [
    {
     "data": {
      "text/html": [
       "<div>\n",
       "<style scoped>\n",
       "    .dataframe tbody tr th:only-of-type {\n",
       "        vertical-align: middle;\n",
       "    }\n",
       "\n",
       "    .dataframe tbody tr th {\n",
       "        vertical-align: top;\n",
       "    }\n",
       "\n",
       "    .dataframe thead th {\n",
       "        text-align: right;\n",
       "    }\n",
       "</style>\n",
       "<table border=\"1\" class=\"dataframe\">\n",
       "  <thead>\n",
       "    <tr style=\"text-align: right;\">\n",
       "      <th></th>\n",
       "      <th>CD_DIST</th>\n",
       "      <th>POP_TT</th>\n",
       "      <th>POP_WHITE</th>\n",
       "      <th>PERC_WHITE</th>\n",
       "      <th>POP_BLACK</th>\n",
       "      <th>PERC_BLACK</th>\n",
       "      <th>POP_OTHER</th>\n",
       "      <th>PERC_OTHER</th>\n",
       "      <th>TT_INCOME</th>\n",
       "      <th>INCOME_PER_CAPTA</th>\n",
       "      <th>MAN</th>\n",
       "      <th>PERC_MAN</th>\n",
       "      <th>WOMAN</th>\n",
       "      <th>PERC_WOMAN</th>\n",
       "      <th>TT_SCHOOLS</th>\n",
       "      <th>TT_STUDENTS</th>\n",
       "      <th>TT_CULTURE_EQUP</th>\n",
       "      <th>TT_HEALTH_EQUIP</th>\n",
       "      <th>TT_LEITOS</th>\n",
       "    </tr>\n",
       "  </thead>\n",
       "  <tbody>\n",
       "    <tr>\n",
       "      <th>0</th>\n",
       "      <td>355030801</td>\n",
       "      <td>84963</td>\n",
       "      <td>71095</td>\n",
       "      <td>108.540400</td>\n",
       "      <td>11719</td>\n",
       "      <td>18.083233</td>\n",
       "      <td>2149</td>\n",
       "      <td>3.376367</td>\n",
       "      <td>114911602</td>\n",
       "      <td>169282.585750</td>\n",
       "      <td>39100</td>\n",
       "      <td>59.810002</td>\n",
       "      <td>45863</td>\n",
       "      <td>70.189998</td>\n",
       "      <td>53.0</td>\n",
       "      <td>14417.0</td>\n",
       "      <td>2.0</td>\n",
       "      <td>5.0</td>\n",
       "      <td>6.0</td>\n",
       "    </tr>\n",
       "    <tr>\n",
       "      <th>1</th>\n",
       "      <td>355030802</td>\n",
       "      <td>43117</td>\n",
       "      <td>38262</td>\n",
       "      <td>69.130447</td>\n",
       "      <td>3475</td>\n",
       "      <td>6.275676</td>\n",
       "      <td>1380</td>\n",
       "      <td>2.593877</td>\n",
       "      <td>170039733</td>\n",
       "      <td>305055.767286</td>\n",
       "      <td>19420</td>\n",
       "      <td>35.132418</td>\n",
       "      <td>23697</td>\n",
       "      <td>42.867582</td>\n",
       "      <td>26.0</td>\n",
       "      <td>10563.0</td>\n",
       "      <td>16.0</td>\n",
       "      <td>5.0</td>\n",
       "      <td>6.0</td>\n",
       "    </tr>\n",
       "    <tr>\n",
       "      <th>2</th>\n",
       "      <td>355030803</td>\n",
       "      <td>65859</td>\n",
       "      <td>32321</td>\n",
       "      <td>50.148544</td>\n",
       "      <td>33065</td>\n",
       "      <td>48.169491</td>\n",
       "      <td>403</td>\n",
       "      <td>0.681965</td>\n",
       "      <td>34768395</td>\n",
       "      <td>51512.735382</td>\n",
       "      <td>32389</td>\n",
       "      <td>48.852230</td>\n",
       "      <td>33403</td>\n",
       "      <td>50.197727</td>\n",
       "      <td>41.0</td>\n",
       "      <td>16865.0</td>\n",
       "      <td>4.0</td>\n",
       "      <td>4.0</td>\n",
       "      <td>0.0</td>\n",
       "    </tr>\n",
       "    <tr>\n",
       "      <th>3</th>\n",
       "      <td>355030804</td>\n",
       "      <td>89622</td>\n",
       "      <td>62365</td>\n",
       "      <td>86.430951</td>\n",
       "      <td>24676</td>\n",
       "      <td>34.034914</td>\n",
       "      <td>2581</td>\n",
       "      <td>3.534135</td>\n",
       "      <td>71198307</td>\n",
       "      <td>96937.964210</td>\n",
       "      <td>42481</td>\n",
       "      <td>58.723329</td>\n",
       "      <td>47141</td>\n",
       "      <td>65.276671</td>\n",
       "      <td>54.0</td>\n",
       "      <td>19778.0</td>\n",
       "      <td>2.0</td>\n",
       "      <td>3.0</td>\n",
       "      <td>0.0</td>\n",
       "    </tr>\n",
       "    <tr>\n",
       "      <th>4</th>\n",
       "      <td>355030805</td>\n",
       "      <td>105269</td>\n",
       "      <td>64722</td>\n",
       "      <td>92.374812</td>\n",
       "      <td>39028</td>\n",
       "      <td>54.280654</td>\n",
       "      <td>1519</td>\n",
       "      <td>2.344534</td>\n",
       "      <td>77883540</td>\n",
       "      <td>112511.750498</td>\n",
       "      <td>49139</td>\n",
       "      <td>69.442076</td>\n",
       "      <td>56130</td>\n",
       "      <td>79.557924</td>\n",
       "      <td>66.0</td>\n",
       "      <td>24360.0</td>\n",
       "      <td>2.0</td>\n",
       "      <td>8.0</td>\n",
       "      <td>0.0</td>\n",
       "    </tr>\n",
       "  </tbody>\n",
       "</table>\n",
       "</div>"
      ],
      "text/plain": [
       "     CD_DIST  POP_TT  POP_WHITE  PERC_WHITE  POP_BLACK  PERC_BLACK  POP_OTHER  \\\n",
       "0  355030801   84963      71095  108.540400      11719   18.083233       2149   \n",
       "1  355030802   43117      38262   69.130447       3475    6.275676       1380   \n",
       "2  355030803   65859      32321   50.148544      33065   48.169491        403   \n",
       "3  355030804   89622      62365   86.430951      24676   34.034914       2581   \n",
       "4  355030805  105269      64722   92.374812      39028   54.280654       1519   \n",
       "\n",
       "   PERC_OTHER  TT_INCOME  INCOME_PER_CAPTA    MAN   PERC_MAN  WOMAN  \\\n",
       "0    3.376367  114911602     169282.585750  39100  59.810002  45863   \n",
       "1    2.593877  170039733     305055.767286  19420  35.132418  23697   \n",
       "2    0.681965   34768395      51512.735382  32389  48.852230  33403   \n",
       "3    3.534135   71198307      96937.964210  42481  58.723329  47141   \n",
       "4    2.344534   77883540     112511.750498  49139  69.442076  56130   \n",
       "\n",
       "   PERC_WOMAN  TT_SCHOOLS  TT_STUDENTS  TT_CULTURE_EQUP  TT_HEALTH_EQUIP  \\\n",
       "0   70.189998        53.0      14417.0              2.0              5.0   \n",
       "1   42.867582        26.0      10563.0             16.0              5.0   \n",
       "2   50.197727        41.0      16865.0              4.0              4.0   \n",
       "3   65.276671        54.0      19778.0              2.0              3.0   \n",
       "4   79.557924        66.0      24360.0              2.0              8.0   \n",
       "\n",
       "   TT_LEITOS  \n",
       "0        6.0  \n",
       "1        6.0  \n",
       "2        0.0  \n",
       "3        0.0  \n",
       "4        0.0  "
      ]
     },
     "execution_count": 22,
     "metadata": {},
     "output_type": "execute_result"
    }
   ],
   "source": [
    "District = Summary_sector.groupby(['CD_DIST'],as_index=False).sum()\n",
    "District.head()"
   ]
  },
  {
   "cell_type": "code",
   "execution_count": 23,
   "metadata": {},
   "outputs": [],
   "source": [
    "District['PERC_WHITE']=District['POP_WHITE']/District['POP_TT']"
   ]
  },
  {
   "cell_type": "code",
   "execution_count": 24,
   "metadata": {},
   "outputs": [],
   "source": [
    "District['PERC_BLACK']=District['POP_BLACK']/District['POP_TT']"
   ]
  },
  {
   "cell_type": "code",
   "execution_count": 25,
   "metadata": {},
   "outputs": [],
   "source": [
    "District['PERC_OTHER']=District['POP_OTHER']/District['POP_TT']"
   ]
  },
  {
   "cell_type": "code",
   "execution_count": 26,
   "metadata": {},
   "outputs": [],
   "source": [
    "District['INCOME_PER_CAPTA']=District['TT_INCOME']/District['POP_TT']"
   ]
  },
  {
   "cell_type": "code",
   "execution_count": 27,
   "metadata": {},
   "outputs": [],
   "source": [
    "District['PERC_MAN']=District['MAN']/District['POP_TT']"
   ]
  },
  {
   "cell_type": "code",
   "execution_count": 28,
   "metadata": {},
   "outputs": [],
   "source": [
    "District['PERC_WOMAN']=District['WOMAN']/District['POP_TT']"
   ]
  },
  {
   "cell_type": "code",
   "execution_count": 29,
   "metadata": {},
   "outputs": [],
   "source": [
    "District['PERC_SCHOOLS']=District['TT_SCHOOLS']/District['POP_TT']"
   ]
  },
  {
   "cell_type": "code",
   "execution_count": 30,
   "metadata": {},
   "outputs": [],
   "source": [
    "District['PERC_STUDENTS']=District['TT_STUDENTS']/District['POP_TT']"
   ]
  },
  {
   "cell_type": "code",
   "execution_count": 31,
   "metadata": {},
   "outputs": [],
   "source": [
    "District['PERC_CULTURE_EQUP']=District['TT_CULTURE_EQUP']/District['POP_TT']"
   ]
  },
  {
   "cell_type": "code",
   "execution_count": 32,
   "metadata": {},
   "outputs": [],
   "source": [
    "District['PERC_HEALTH_EQUIP']=District['TT_HEALTH_EQUIP']/District['POP_TT']"
   ]
  },
  {
   "cell_type": "code",
   "execution_count": 33,
   "metadata": {},
   "outputs": [],
   "source": [
    "District['PERC_LEITOS']=District['TT_LEITOS']/District['POP_TT']"
   ]
  },
  {
   "cell_type": "code",
   "execution_count": 102,
   "metadata": {},
   "outputs": [
    {
     "data": {
      "text/html": [
       "<div>\n",
       "<style scoped>\n",
       "    .dataframe tbody tr th:only-of-type {\n",
       "        vertical-align: middle;\n",
       "    }\n",
       "\n",
       "    .dataframe tbody tr th {\n",
       "        vertical-align: top;\n",
       "    }\n",
       "\n",
       "    .dataframe thead th {\n",
       "        text-align: right;\n",
       "    }\n",
       "</style>\n",
       "<table border=\"1\" class=\"dataframe\">\n",
       "  <thead>\n",
       "    <tr style=\"text-align: right;\">\n",
       "      <th></th>\n",
       "      <th>CD_DIST</th>\n",
       "      <th>POP_TT</th>\n",
       "      <th>POP_WHITE</th>\n",
       "      <th>PERC_WHITE</th>\n",
       "      <th>POP_BLACK</th>\n",
       "      <th>PERC_BLACK</th>\n",
       "      <th>POP_OTHER</th>\n",
       "      <th>PERC_OTHER</th>\n",
       "      <th>TT_INCOME</th>\n",
       "      <th>INCOME_PER_CAPTA</th>\n",
       "      <th>...</th>\n",
       "      <th>TT_SCHOOLS</th>\n",
       "      <th>TT_STUDENTS</th>\n",
       "      <th>TT_CULTURE_EQUP</th>\n",
       "      <th>TT_HEALTH_EQUIP</th>\n",
       "      <th>TT_LEITOS</th>\n",
       "      <th>PERC_SCHOOLS</th>\n",
       "      <th>PERC_STUDENTS</th>\n",
       "      <th>PERC_CULTURE_EQUP</th>\n",
       "      <th>PERC_HEALTH_EQUIP</th>\n",
       "      <th>PERC_LEITOS</th>\n",
       "    </tr>\n",
       "  </thead>\n",
       "  <tbody>\n",
       "    <tr>\n",
       "      <th>0</th>\n",
       "      <td>355030801</td>\n",
       "      <td>84963</td>\n",
       "      <td>71095</td>\n",
       "      <td>0.836776</td>\n",
       "      <td>11719</td>\n",
       "      <td>0.137931</td>\n",
       "      <td>2149</td>\n",
       "      <td>0.025293</td>\n",
       "      <td>114911602</td>\n",
       "      <td>1352.489931</td>\n",
       "      <td>...</td>\n",
       "      <td>53.0</td>\n",
       "      <td>14417.0</td>\n",
       "      <td>2.0</td>\n",
       "      <td>5.0</td>\n",
       "      <td>6.0</td>\n",
       "      <td>0.000624</td>\n",
       "      <td>0.169686</td>\n",
       "      <td>0.000024</td>\n",
       "      <td>0.000059</td>\n",
       "      <td>0.000071</td>\n",
       "    </tr>\n",
       "    <tr>\n",
       "      <th>1</th>\n",
       "      <td>355030802</td>\n",
       "      <td>43117</td>\n",
       "      <td>38262</td>\n",
       "      <td>0.887399</td>\n",
       "      <td>3475</td>\n",
       "      <td>0.080595</td>\n",
       "      <td>1380</td>\n",
       "      <td>0.032006</td>\n",
       "      <td>170039733</td>\n",
       "      <td>3943.681912</td>\n",
       "      <td>...</td>\n",
       "      <td>26.0</td>\n",
       "      <td>10563.0</td>\n",
       "      <td>16.0</td>\n",
       "      <td>5.0</td>\n",
       "      <td>6.0</td>\n",
       "      <td>0.000603</td>\n",
       "      <td>0.244985</td>\n",
       "      <td>0.000371</td>\n",
       "      <td>0.000116</td>\n",
       "      <td>0.000139</td>\n",
       "    </tr>\n",
       "    <tr>\n",
       "      <th>2</th>\n",
       "      <td>355030803</td>\n",
       "      <td>65859</td>\n",
       "      <td>32321</td>\n",
       "      <td>0.490761</td>\n",
       "      <td>33065</td>\n",
       "      <td>0.502057</td>\n",
       "      <td>403</td>\n",
       "      <td>0.006119</td>\n",
       "      <td>34768395</td>\n",
       "      <td>527.921696</td>\n",
       "      <td>...</td>\n",
       "      <td>41.0</td>\n",
       "      <td>16865.0</td>\n",
       "      <td>4.0</td>\n",
       "      <td>4.0</td>\n",
       "      <td>0.0</td>\n",
       "      <td>0.000623</td>\n",
       "      <td>0.256077</td>\n",
       "      <td>0.000061</td>\n",
       "      <td>0.000061</td>\n",
       "      <td>0.000000</td>\n",
       "    </tr>\n",
       "    <tr>\n",
       "      <th>3</th>\n",
       "      <td>355030804</td>\n",
       "      <td>89622</td>\n",
       "      <td>62365</td>\n",
       "      <td>0.695867</td>\n",
       "      <td>24676</td>\n",
       "      <td>0.275334</td>\n",
       "      <td>2581</td>\n",
       "      <td>0.028799</td>\n",
       "      <td>71198307</td>\n",
       "      <td>794.428901</td>\n",
       "      <td>...</td>\n",
       "      <td>54.0</td>\n",
       "      <td>19778.0</td>\n",
       "      <td>2.0</td>\n",
       "      <td>3.0</td>\n",
       "      <td>0.0</td>\n",
       "      <td>0.000603</td>\n",
       "      <td>0.220682</td>\n",
       "      <td>0.000022</td>\n",
       "      <td>0.000033</td>\n",
       "      <td>0.000000</td>\n",
       "    </tr>\n",
       "    <tr>\n",
       "      <th>4</th>\n",
       "      <td>355030805</td>\n",
       "      <td>105269</td>\n",
       "      <td>64722</td>\n",
       "      <td>0.614825</td>\n",
       "      <td>39028</td>\n",
       "      <td>0.370745</td>\n",
       "      <td>1519</td>\n",
       "      <td>0.014430</td>\n",
       "      <td>77883540</td>\n",
       "      <td>739.852568</td>\n",
       "      <td>...</td>\n",
       "      <td>66.0</td>\n",
       "      <td>24360.0</td>\n",
       "      <td>2.0</td>\n",
       "      <td>8.0</td>\n",
       "      <td>0.0</td>\n",
       "      <td>0.000627</td>\n",
       "      <td>0.231407</td>\n",
       "      <td>0.000019</td>\n",
       "      <td>0.000076</td>\n",
       "      <td>0.000000</td>\n",
       "    </tr>\n",
       "  </tbody>\n",
       "</table>\n",
       "<p>5 rows × 24 columns</p>\n",
       "</div>"
      ],
      "text/plain": [
       "     CD_DIST  POP_TT  POP_WHITE  PERC_WHITE  POP_BLACK  PERC_BLACK  POP_OTHER  \\\n",
       "0  355030801   84963      71095    0.836776      11719    0.137931       2149   \n",
       "1  355030802   43117      38262    0.887399       3475    0.080595       1380   \n",
       "2  355030803   65859      32321    0.490761      33065    0.502057        403   \n",
       "3  355030804   89622      62365    0.695867      24676    0.275334       2581   \n",
       "4  355030805  105269      64722    0.614825      39028    0.370745       1519   \n",
       "\n",
       "   PERC_OTHER  TT_INCOME  INCOME_PER_CAPTA  ...  TT_SCHOOLS  TT_STUDENTS  \\\n",
       "0    0.025293  114911602       1352.489931  ...        53.0      14417.0   \n",
       "1    0.032006  170039733       3943.681912  ...        26.0      10563.0   \n",
       "2    0.006119   34768395        527.921696  ...        41.0      16865.0   \n",
       "3    0.028799   71198307        794.428901  ...        54.0      19778.0   \n",
       "4    0.014430   77883540        739.852568  ...        66.0      24360.0   \n",
       "\n",
       "   TT_CULTURE_EQUP  TT_HEALTH_EQUIP  TT_LEITOS  PERC_SCHOOLS  PERC_STUDENTS  \\\n",
       "0              2.0              5.0        6.0      0.000624       0.169686   \n",
       "1             16.0              5.0        6.0      0.000603       0.244985   \n",
       "2              4.0              4.0        0.0      0.000623       0.256077   \n",
       "3              2.0              3.0        0.0      0.000603       0.220682   \n",
       "4              2.0              8.0        0.0      0.000627       0.231407   \n",
       "\n",
       "   PERC_CULTURE_EQUP  PERC_HEALTH_EQUIP  PERC_LEITOS  \n",
       "0           0.000024           0.000059     0.000071  \n",
       "1           0.000371           0.000116     0.000139  \n",
       "2           0.000061           0.000061     0.000000  \n",
       "3           0.000022           0.000033     0.000000  \n",
       "4           0.000019           0.000076     0.000000  \n",
       "\n",
       "[5 rows x 24 columns]"
      ]
     },
     "execution_count": 102,
     "metadata": {},
     "output_type": "execute_result"
    }
   ],
   "source": [
    "District.head()"
   ]
  },
  {
   "cell_type": "code",
   "execution_count": 110,
   "metadata": {},
   "outputs": [
    {
     "data": {
      "text/plain": [
       "CD_DIST               object\n",
       "POP_TT                 int64\n",
       "POP_WHITE              int64\n",
       "PERC_WHITE           float64\n",
       "POP_BLACK              int64\n",
       "PERC_BLACK           float64\n",
       "POP_OTHER              int64\n",
       "PERC_OTHER           float64\n",
       "TT_INCOME              int64\n",
       "INCOME_PER_CAPTA     float64\n",
       "MAN                    int64\n",
       "PERC_MAN             float64\n",
       "WOMAN                  int64\n",
       "PERC_WOMAN           float64\n",
       "TT_SCHOOLS           float64\n",
       "TT_STUDENTS          float64\n",
       "TT_CULTURE_EQUP      float64\n",
       "TT_HEALTH_EQUIP      float64\n",
       "TT_LEITOS            float64\n",
       "PERC_SCHOOLS         float64\n",
       "PERC_STUDENTS        float64\n",
       "PERC_CULTURE_EQUP    float64\n",
       "PERC_HEALTH_EQUIP    float64\n",
       "PERC_LEITOS          float64\n",
       "dtype: object"
      ]
     },
     "execution_count": 110,
     "metadata": {},
     "output_type": "execute_result"
    }
   ],
   "source": [
    "District.dtypes"
   ]
  },
  {
   "cell_type": "code",
   "execution_count": 111,
   "metadata": {},
   "outputs": [
    {
     "data": {
      "text/html": [
       "<div>\n",
       "<style scoped>\n",
       "    .dataframe tbody tr th:only-of-type {\n",
       "        vertical-align: middle;\n",
       "    }\n",
       "\n",
       "    .dataframe tbody tr th {\n",
       "        vertical-align: top;\n",
       "    }\n",
       "\n",
       "    .dataframe thead th {\n",
       "        text-align: right;\n",
       "    }\n",
       "</style>\n",
       "<table border=\"1\" class=\"dataframe\">\n",
       "  <thead>\n",
       "    <tr style=\"text-align: right;\">\n",
       "      <th></th>\n",
       "      <th>PERC_WHITE</th>\n",
       "      <th>PERC_BLACK</th>\n",
       "      <th>PERC_OTHER</th>\n",
       "      <th>INCOME_PER_CAPTA</th>\n",
       "      <th>PERC_MAN</th>\n",
       "      <th>PERC_WOMAN</th>\n",
       "      <th>PERC_SCHOOLS</th>\n",
       "      <th>PERC_STUDENTS</th>\n",
       "      <th>PERC_CULTURE_EQUP</th>\n",
       "      <th>PERC_HEALTH_EQUIP</th>\n",
       "      <th>PERC_LEITOS</th>\n",
       "    </tr>\n",
       "  </thead>\n",
       "  <tbody>\n",
       "    <tr>\n",
       "      <th>PERC_WHITE</th>\n",
       "      <td>1.000000</td>\n",
       "      <td>-0.983400</td>\n",
       "      <td>0.329063</td>\n",
       "      <td>0.807056</td>\n",
       "      <td>-0.740542</td>\n",
       "      <td>0.731193</td>\n",
       "      <td>0.224965</td>\n",
       "      <td>-0.079322</td>\n",
       "      <td>0.390675</td>\n",
       "      <td>0.262626</td>\n",
       "      <td>0.369144</td>\n",
       "    </tr>\n",
       "    <tr>\n",
       "      <th>PERC_BLACK</th>\n",
       "      <td>-0.983400</td>\n",
       "      <td>1.000000</td>\n",
       "      <td>-0.494449</td>\n",
       "      <td>-0.817089</td>\n",
       "      <td>0.738238</td>\n",
       "      <td>-0.725960</td>\n",
       "      <td>-0.228928</td>\n",
       "      <td>0.080994</td>\n",
       "      <td>-0.414930</td>\n",
       "      <td>-0.296519</td>\n",
       "      <td>-0.393078</td>\n",
       "    </tr>\n",
       "    <tr>\n",
       "      <th>PERC_OTHER</th>\n",
       "      <td>0.329063</td>\n",
       "      <td>-0.494449</td>\n",
       "      <td>1.000000</td>\n",
       "      <td>0.388200</td>\n",
       "      <td>-0.296766</td>\n",
       "      <td>0.288825</td>\n",
       "      <td>0.108017</td>\n",
       "      <td>-0.044070</td>\n",
       "      <td>0.281626</td>\n",
       "      <td>0.263930</td>\n",
       "      <td>0.277910</td>\n",
       "    </tr>\n",
       "    <tr>\n",
       "      <th>INCOME_PER_CAPTA</th>\n",
       "      <td>0.807056</td>\n",
       "      <td>-0.817089</td>\n",
       "      <td>0.388200</td>\n",
       "      <td>1.000000</td>\n",
       "      <td>-0.694296</td>\n",
       "      <td>0.687670</td>\n",
       "      <td>0.127596</td>\n",
       "      <td>-0.111076</td>\n",
       "      <td>0.547970</td>\n",
       "      <td>0.327550</td>\n",
       "      <td>0.499374</td>\n",
       "    </tr>\n",
       "    <tr>\n",
       "      <th>PERC_MAN</th>\n",
       "      <td>-0.740542</td>\n",
       "      <td>0.738238</td>\n",
       "      <td>-0.296766</td>\n",
       "      <td>-0.694296</td>\n",
       "      <td>1.000000</td>\n",
       "      <td>-0.987627</td>\n",
       "      <td>-0.232531</td>\n",
       "      <td>0.246694</td>\n",
       "      <td>-0.326024</td>\n",
       "      <td>-0.154810</td>\n",
       "      <td>-0.300708</td>\n",
       "    </tr>\n",
       "    <tr>\n",
       "      <th>PERC_WOMAN</th>\n",
       "      <td>0.731193</td>\n",
       "      <td>-0.725960</td>\n",
       "      <td>0.288825</td>\n",
       "      <td>0.687670</td>\n",
       "      <td>-0.987627</td>\n",
       "      <td>1.000000</td>\n",
       "      <td>0.218595</td>\n",
       "      <td>-0.248826</td>\n",
       "      <td>0.304381</td>\n",
       "      <td>0.102645</td>\n",
       "      <td>0.294154</td>\n",
       "    </tr>\n",
       "    <tr>\n",
       "      <th>PERC_SCHOOLS</th>\n",
       "      <td>0.224965</td>\n",
       "      <td>-0.228928</td>\n",
       "      <td>0.108017</td>\n",
       "      <td>0.127596</td>\n",
       "      <td>-0.232531</td>\n",
       "      <td>0.218595</td>\n",
       "      <td>1.000000</td>\n",
       "      <td>0.267439</td>\n",
       "      <td>0.224442</td>\n",
       "      <td>0.266273</td>\n",
       "      <td>-0.022279</td>\n",
       "    </tr>\n",
       "    <tr>\n",
       "      <th>PERC_STUDENTS</th>\n",
       "      <td>-0.079322</td>\n",
       "      <td>0.080994</td>\n",
       "      <td>-0.044070</td>\n",
       "      <td>-0.111076</td>\n",
       "      <td>0.246694</td>\n",
       "      <td>-0.248826</td>\n",
       "      <td>0.267439</td>\n",
       "      <td>1.000000</td>\n",
       "      <td>-0.042286</td>\n",
       "      <td>0.015622</td>\n",
       "      <td>-0.000168</td>\n",
       "    </tr>\n",
       "    <tr>\n",
       "      <th>PERC_CULTURE_EQUP</th>\n",
       "      <td>0.390675</td>\n",
       "      <td>-0.414930</td>\n",
       "      <td>0.281626</td>\n",
       "      <td>0.547970</td>\n",
       "      <td>-0.326024</td>\n",
       "      <td>0.304381</td>\n",
       "      <td>0.224442</td>\n",
       "      <td>-0.042286</td>\n",
       "      <td>1.000000</td>\n",
       "      <td>0.476163</td>\n",
       "      <td>0.300367</td>\n",
       "    </tr>\n",
       "    <tr>\n",
       "      <th>PERC_HEALTH_EQUIP</th>\n",
       "      <td>0.262626</td>\n",
       "      <td>-0.296519</td>\n",
       "      <td>0.263930</td>\n",
       "      <td>0.327550</td>\n",
       "      <td>-0.154810</td>\n",
       "      <td>0.102645</td>\n",
       "      <td>0.266273</td>\n",
       "      <td>0.015622</td>\n",
       "      <td>0.476163</td>\n",
       "      <td>1.000000</td>\n",
       "      <td>0.578499</td>\n",
       "    </tr>\n",
       "    <tr>\n",
       "      <th>PERC_LEITOS</th>\n",
       "      <td>0.369144</td>\n",
       "      <td>-0.393078</td>\n",
       "      <td>0.277910</td>\n",
       "      <td>0.499374</td>\n",
       "      <td>-0.300708</td>\n",
       "      <td>0.294154</td>\n",
       "      <td>-0.022279</td>\n",
       "      <td>-0.000168</td>\n",
       "      <td>0.300367</td>\n",
       "      <td>0.578499</td>\n",
       "      <td>1.000000</td>\n",
       "    </tr>\n",
       "  </tbody>\n",
       "</table>\n",
       "</div>"
      ],
      "text/plain": [
       "                   PERC_WHITE  PERC_BLACK  PERC_OTHER  INCOME_PER_CAPTA  \\\n",
       "PERC_WHITE           1.000000   -0.983400    0.329063          0.807056   \n",
       "PERC_BLACK          -0.983400    1.000000   -0.494449         -0.817089   \n",
       "PERC_OTHER           0.329063   -0.494449    1.000000          0.388200   \n",
       "INCOME_PER_CAPTA     0.807056   -0.817089    0.388200          1.000000   \n",
       "PERC_MAN            -0.740542    0.738238   -0.296766         -0.694296   \n",
       "PERC_WOMAN           0.731193   -0.725960    0.288825          0.687670   \n",
       "PERC_SCHOOLS         0.224965   -0.228928    0.108017          0.127596   \n",
       "PERC_STUDENTS       -0.079322    0.080994   -0.044070         -0.111076   \n",
       "PERC_CULTURE_EQUP    0.390675   -0.414930    0.281626          0.547970   \n",
       "PERC_HEALTH_EQUIP    0.262626   -0.296519    0.263930          0.327550   \n",
       "PERC_LEITOS          0.369144   -0.393078    0.277910          0.499374   \n",
       "\n",
       "                   PERC_MAN  PERC_WOMAN  PERC_SCHOOLS  PERC_STUDENTS  \\\n",
       "PERC_WHITE        -0.740542    0.731193      0.224965      -0.079322   \n",
       "PERC_BLACK         0.738238   -0.725960     -0.228928       0.080994   \n",
       "PERC_OTHER        -0.296766    0.288825      0.108017      -0.044070   \n",
       "INCOME_PER_CAPTA  -0.694296    0.687670      0.127596      -0.111076   \n",
       "PERC_MAN           1.000000   -0.987627     -0.232531       0.246694   \n",
       "PERC_WOMAN        -0.987627    1.000000      0.218595      -0.248826   \n",
       "PERC_SCHOOLS      -0.232531    0.218595      1.000000       0.267439   \n",
       "PERC_STUDENTS      0.246694   -0.248826      0.267439       1.000000   \n",
       "PERC_CULTURE_EQUP -0.326024    0.304381      0.224442      -0.042286   \n",
       "PERC_HEALTH_EQUIP -0.154810    0.102645      0.266273       0.015622   \n",
       "PERC_LEITOS       -0.300708    0.294154     -0.022279      -0.000168   \n",
       "\n",
       "                   PERC_CULTURE_EQUP  PERC_HEALTH_EQUIP  PERC_LEITOS  \n",
       "PERC_WHITE                  0.390675           0.262626     0.369144  \n",
       "PERC_BLACK                 -0.414930          -0.296519    -0.393078  \n",
       "PERC_OTHER                  0.281626           0.263930     0.277910  \n",
       "INCOME_PER_CAPTA            0.547970           0.327550     0.499374  \n",
       "PERC_MAN                   -0.326024          -0.154810    -0.300708  \n",
       "PERC_WOMAN                  0.304381           0.102645     0.294154  \n",
       "PERC_SCHOOLS                0.224442           0.266273    -0.022279  \n",
       "PERC_STUDENTS              -0.042286           0.015622    -0.000168  \n",
       "PERC_CULTURE_EQUP           1.000000           0.476163     0.300367  \n",
       "PERC_HEALTH_EQUIP           0.476163           1.000000     0.578499  \n",
       "PERC_LEITOS                 0.300367           0.578499     1.000000  "
      ]
     },
     "execution_count": 111,
     "metadata": {},
     "output_type": "execute_result"
    }
   ],
   "source": [
    "District[['PERC_WHITE', 'PERC_BLACK', 'PERC_OTHER', 'INCOME_PER_CAPTA', 'PERC_MAN', 'PERC_WOMAN', 'PERC_SCHOOLS', 'PERC_STUDENTS', 'PERC_CULTURE_EQUP', 'PERC_HEALTH_EQUIP', 'PERC_LEITOS']].corr()"
   ]
  },
  {
   "cell_type": "markdown",
   "metadata": {},
   "source": [
    "BLACK PEOPLE"
   ]
  },
  {
   "cell_type": "code",
   "execution_count": 112,
   "metadata": {},
   "outputs": [
    {
     "data": {
      "text/plain": [
       "(0, 5224.234501036448)"
      ]
     },
     "execution_count": 112,
     "metadata": {},
     "output_type": "execute_result"
    },
    {
     "data": {
      "image/png": "[encoded data removed]",
      "text/plain": [
       "<Figure size 432x288 with 1 Axes>"
      ]
     },
     "metadata": {
      "needs_background": "light"
     },
     "output_type": "display_data"
    }
   ],
   "source": [
    "sns.regplot(x='PERC_BLACK', y='INCOME_PER_CAPTA', data=District)\n",
    "plt.ylim(0,)"
   ]
  },
  {
   "cell_type": "code",
   "execution_count": 113,
   "metadata": {},
   "outputs": [
    {
     "name": "stdout",
     "output_type": "stream",
     "text": [
      "The Pearson Correlation Coefficient is -0.8170894312959299  with a P-value of P = 3.278212047348941e-24\n"
     ]
    }
   ],
   "source": [
    "pearson_coef, p_value = stats.pearsonr(District['PERC_BLACK'], District['INCOME_PER_CAPTA'])\n",
    "print(\"The Pearson Correlation Coefficient is\", pearson_coef, \" with a P-value of P =\", p_value)"
   ]
  },
  {
   "cell_type": "code",
   "execution_count": 114,
   "metadata": {},
   "outputs": [
    {
     "data": {
      "text/plain": [
       "(0, 0.0027961294623558355)"
      ]
     },
     "execution_count": 114,
     "metadata": {},
     "output_type": "execute_result"
    },
    {
     "data": {
      "image/png": "[encoded data removed]",
      "text/plain": [
       "<Figure size 432x288 with 1 Axes>"
      ]
     },
     "metadata": {
      "needs_background": "light"
     },
     "output_type": "display_data"
    }
   ],
   "source": [
    "sns.regplot(x='PERC_BLACK', y='PERC_CULTURE_EQUP', data=District)\n",
    "plt.ylim(0,)"
   ]
  },
  {
   "cell_type": "code",
   "execution_count": 115,
   "metadata": {},
   "outputs": [
    {
     "name": "stdout",
     "output_type": "stream",
     "text": [
      "The Pearson Correlation Coefficient is -0.4149303403542528  with a P-value of P = 2.6301309434569084e-05\n"
     ]
    }
   ],
   "source": [
    "pearson_coef, p_value = stats.pearsonr(District['PERC_BLACK'], District['PERC_CULTURE_EQUP'])\n",
    "print(\"The Pearson Correlation Coefficient is\", pearson_coef, \" with a P-value of P =\", p_value)"
   ]
  },
  {
   "cell_type": "code",
   "execution_count": 116,
   "metadata": {},
   "outputs": [
    {
     "data": {
      "text/plain": [
       "(0, 0.001742619680415351)"
      ]
     },
     "execution_count": 116,
     "metadata": {},
     "output_type": "execute_result"
    },
    {
     "data": {
      "image/png": "[encoded data removed]",
      "text/plain": [
       "<Figure size 432x288 with 1 Axes>"
      ]
     },
     "metadata": {
      "needs_background": "light"
     },
     "output_type": "display_data"
    }
   ],
   "source": [
    "sns.regplot(x='PERC_BLACK', y='PERC_SCHOOLS', data=District)\n",
    "plt.ylim(0,)"
   ]
  },
  {
   "cell_type": "code",
   "execution_count": 117,
   "metadata": {},
   "outputs": [
    {
     "name": "stdout",
     "output_type": "stream",
     "text": [
      "The Pearson Correlation Coefficient is -0.22892761686205754  with a P-value of P = 0.024863042345446253\n"
     ]
    }
   ],
   "source": [
    "pearson_coef, p_value = stats.pearsonr(District['PERC_BLACK'], District['PERC_SCHOOLS'])\n",
    "print(\"The Pearson Correlation Coefficient is\", pearson_coef, \" with a P-value of P =\", p_value)"
   ]
  },
  {
   "cell_type": "code",
   "execution_count": 118,
   "metadata": {},
   "outputs": [
    {
     "data": {
      "text/plain": [
       "(0, 0.00044314177996977657)"
      ]
     },
     "execution_count": 118,
     "metadata": {},
     "output_type": "execute_result"
    },
    {
     "data": {
      "image/png": "[encoded data removed]",
      "text/plain": [
       "<Figure size 432x288 with 1 Axes>"
      ]
     },
     "metadata": {
      "needs_background": "light"
     },
     "output_type": "display_data"
    }
   ],
   "source": [
    "sns.regplot(x='PERC_BLACK', y='PERC_HEALTH_EQUIP', data=District)\n",
    "plt.ylim(0,)"
   ]
  },
  {
   "cell_type": "code",
   "execution_count": 119,
   "metadata": {},
   "outputs": [
    {
     "name": "stdout",
     "output_type": "stream",
     "text": [
      "The Pearson Correlation Coefficient is -0.2965190544759442  with a P-value of P = 0.0033516445854855567\n"
     ]
    }
   ],
   "source": [
    "pearson_coef, p_value = stats.pearsonr(District['PERC_BLACK'], District['PERC_HEALTH_EQUIP'])\n",
    "print(\"The Pearson Correlation Coefficient is\", pearson_coef, \" with a P-value of P =\", p_value)"
   ]
  },
  {
   "cell_type": "code",
   "execution_count": 120,
   "metadata": {},
   "outputs": [
    {
     "data": {
      "text/plain": [
       "(0, 0.042583262355726785)"
      ]
     },
     "execution_count": 120,
     "metadata": {},
     "output_type": "execute_result"
    },
    {
     "data": {
      "image/png": "[encoded data removed]",
      "text/plain": [
       "<Figure size 432x288 with 1 Axes>"
      ]
     },
     "metadata": {
      "needs_background": "light"
     },
     "output_type": "display_data"
    }
   ],
   "source": [
    "sns.regplot(x='PERC_BLACK', y='PERC_LEITOS', data=District)\n",
    "plt.ylim(0,)"
   ]
  },
  {
   "cell_type": "code",
   "execution_count": 121,
   "metadata": {},
   "outputs": [
    {
     "name": "stdout",
     "output_type": "stream",
     "text": [
      "The Pearson Correlation Coefficient is -0.39307811546210625  with a P-value of P = 7.444491517151547e-05\n"
     ]
    }
   ],
   "source": [
    "pearson_coef, p_value = stats.pearsonr(District['PERC_BLACK'], District['PERC_LEITOS'])\n",
    "print(\"The Pearson Correlation Coefficient is\", pearson_coef, \" with a P-value of P =\", p_value)"
   ]
  },
  {
   "cell_type": "markdown",
   "metadata": {},
   "source": [
    "WHITE PEOPLE"
   ]
  },
  {
   "cell_type": "code",
   "execution_count": 122,
   "metadata": {},
   "outputs": [
    {
     "data": {
      "text/plain": [
       "(0, 5222.135345323904)"
      ]
     },
     "execution_count": 122,
     "metadata": {},
     "output_type": "execute_result"
    },
    {
     "data": {
      "image/png": "[encoded data removed]",
      "text/plain": [
       "<Figure size 432x288 with 1 Axes>"
      ]
     },
     "metadata": {
      "needs_background": "light"
     },
     "output_type": "display_data"
    }
   ],
   "source": [
    "sns.regplot(x='PERC_WHITE', y='INCOME_PER_CAPTA', data=District)\n",
    "plt.ylim(0,)"
   ]
  },
  {
   "cell_type": "code",
   "execution_count": 123,
   "metadata": {},
   "outputs": [
    {
     "name": "stdout",
     "output_type": "stream",
     "text": [
      "The Pearson Correlation Coefficient is 0.8070564754629121  with a P-value of P = 3.1464332612695534e-23\n"
     ]
    }
   ],
   "source": [
    "pearson_coef, p_value = stats.pearsonr(District['PERC_WHITE'], District['INCOME_PER_CAPTA'])\n",
    "print(\"The Pearson Correlation Coefficient is\", pearson_coef, \" with a P-value of P =\", p_value)"
   ]
  },
  {
   "cell_type": "code",
   "execution_count": 124,
   "metadata": {},
   "outputs": [
    {
     "data": {
      "text/plain": [
       "(0, 0.0027956007085672245)"
      ]
     },
     "execution_count": 124,
     "metadata": {},
     "output_type": "execute_result"
    },
    {
     "data": {
      "image/png": "[encoded data removed]",
      "text/plain": [
       "<Figure size 432x288 with 1 Axes>"
      ]
     },
     "metadata": {
      "needs_background": "light"
     },
     "output_type": "display_data"
    }
   ],
   "source": [
    "sns.regplot(x='PERC_WHITE', y='PERC_CULTURE_EQUP', data=District)\n",
    "plt.ylim(0,)"
   ]
  },
  {
   "cell_type": "code",
   "execution_count": 125,
   "metadata": {},
   "outputs": [
    {
     "name": "stdout",
     "output_type": "stream",
     "text": [
      "The Pearson Correlation Coefficient is 0.39067480552196565  with a P-value of P = 8.310631495373544e-05\n"
     ]
    }
   ],
   "source": [
    "pearson_coef, p_value = stats.pearsonr(District['PERC_WHITE'], District['PERC_CULTURE_EQUP'])\n",
    "print(\"The Pearson Correlation Coefficient is\", pearson_coef, \" with a P-value of P =\", p_value)"
   ]
  },
  {
   "cell_type": "code",
   "execution_count": 128,
   "metadata": {},
   "outputs": [
    {
     "data": {
      "text/plain": [
       "(0, 0.001742619680415351)"
      ]
     },
     "execution_count": 128,
     "metadata": {},
     "output_type": "execute_result"
    },
    {
     "data": {
      "image/png": "[encoded data removed]",
      "text/plain": [
       "<Figure size 432x288 with 1 Axes>"
      ]
     },
     "metadata": {
      "needs_background": "light"
     },
     "output_type": "display_data"
    }
   ],
   "source": [
    "sns.regplot(x='PERC_WHITE', y='PERC_SCHOOLS', data=District)\n",
    "plt.ylim(0,)"
   ]
  },
  {
   "cell_type": "code",
   "execution_count": 127,
   "metadata": {},
   "outputs": [
    {
     "name": "stdout",
     "output_type": "stream",
     "text": [
      "The Pearson Correlation Coefficient is 0.22496464720879644  with a P-value of P = 0.027548995953717785\n"
     ]
    }
   ],
   "source": [
    "pearson_coef, p_value = stats.pearsonr(District['PERC_WHITE'], District['PERC_SCHOOLS'])\n",
    "print(\"The Pearson Correlation Coefficient is\", pearson_coef, \" with a P-value of P =\", p_value)"
   ]
  },
  {
   "cell_type": "code",
   "execution_count": 129,
   "metadata": {},
   "outputs": [
    {
     "data": {
      "text/plain": [
       "(0, 0.00044314177996977657)"
      ]
     },
     "execution_count": 129,
     "metadata": {},
     "output_type": "execute_result"
    },
    {
     "data": {
      "image/png": "[encoded data removed]",
      "text/plain": [
       "<Figure size 432x288 with 1 Axes>"
      ]
     },
     "metadata": {
      "needs_background": "light"
     },
     "output_type": "display_data"
    }
   ],
   "source": [
    "sns.regplot(x='PERC_WHITE', y='PERC_HEALTH_EQUIP', data=District)\n",
    "plt.ylim(0,)"
   ]
  },
  {
   "cell_type": "code",
   "execution_count": 130,
   "metadata": {},
   "outputs": [
    {
     "name": "stdout",
     "output_type": "stream",
     "text": [
      "The Pearson Correlation Coefficient is 0.262626233881216  with a P-value of P = 0.009736798524530946\n"
     ]
    }
   ],
   "source": [
    "pearson_coef, p_value = stats.pearsonr(District['PERC_WHITE'], District['PERC_HEALTH_EQUIP'])\n",
    "print(\"The Pearson Correlation Coefficient is\", pearson_coef, \" with a P-value of P =\", p_value)"
   ]
  },
  {
   "cell_type": "code",
   "execution_count": 131,
   "metadata": {},
   "outputs": [
    {
     "data": {
      "text/plain": [
       "(0, 0.04256565443714446)"
      ]
     },
     "execution_count": 131,
     "metadata": {},
     "output_type": "execute_result"
    },
    {
     "data": {
      "image/png": "[encoded data removed]",
      "text/plain": [
       "<Figure size 432x288 with 1 Axes>"
      ]
     },
     "metadata": {
      "needs_background": "light"
     },
     "output_type": "display_data"
    }
   ],
   "source": [
    "sns.regplot(x='PERC_WHITE', y='PERC_LEITOS', data=District)\n",
    "plt.ylim(0,)"
   ]
  },
  {
   "cell_type": "code",
   "execution_count": 132,
   "metadata": {},
   "outputs": [
    {
     "name": "stdout",
     "output_type": "stream",
     "text": [
      "The Pearson Correlation Coefficient is 0.36914449022611084  with a P-value of P = 0.00021466883451653064\n"
     ]
    }
   ],
   "source": [
    "pearson_coef, p_value = stats.pearsonr(District['PERC_WHITE'], District['PERC_LEITOS'])\n",
    "print(\"The Pearson Correlation Coefficient is\", pearson_coef, \" with a P-value of P =\", p_value)"
   ]
  },
  {
   "cell_type": "markdown",
   "metadata": {},
   "source": [
    "MEN AND WOMEN"
   ]
  },
  {
   "cell_type": "code",
   "execution_count": 133,
   "metadata": {},
   "outputs": [
    {
     "data": {
      "text/plain": [
       "(0, 5277.992899816032)"
      ]
     },
     "execution_count": 133,
     "metadata": {},
     "output_type": "execute_result"
    },
    {
     "data": {
      "image/png": "[encoded data removed]",
      "text/plain": [
       "<Figure size 432x288 with 1 Axes>"
      ]
     },
     "metadata": {
      "needs_background": "light"
     },
     "output_type": "display_data"
    }
   ],
   "source": [
    "sns.regplot(x='PERC_MAN', y='INCOME_PER_CAPTA', data=District)\n",
    "plt.ylim(0,)"
   ]
  },
  {
   "cell_type": "code",
   "execution_count": 134,
   "metadata": {},
   "outputs": [
    {
     "name": "stdout",
     "output_type": "stream",
     "text": [
      "The Pearson Correlation Coefficient is -0.6942955688734946  with a P-value of P = 4.361287499926767e-15\n"
     ]
    }
   ],
   "source": [
    "pearson_coef, p_value = stats.pearsonr(District['PERC_MAN'], District['INCOME_PER_CAPTA'])\n",
    "print(\"The Pearson Correlation Coefficient is\", pearson_coef, \" with a P-value of P =\", p_value)"
   ]
  },
  {
   "cell_type": "code",
   "execution_count": 135,
   "metadata": {},
   "outputs": [
    {
     "data": {
      "text/plain": [
       "(0, 5317.626712512326)"
      ]
     },
     "execution_count": 135,
     "metadata": {},
     "output_type": "execute_result"
    },
    {
     "data": {
      "image/png": "[encoded data removed]",
      "text/plain": [
       "<Figure size 432x288 with 1 Axes>"
      ]
     },
     "metadata": {
      "needs_background": "light"
     },
     "output_type": "display_data"
    }
   ],
   "source": [
    "sns.regplot(x='PERC_WOMAN', y='INCOME_PER_CAPTA', data=District)\n",
    "plt.ylim(0,)"
   ]
  },
  {
   "cell_type": "code",
   "execution_count": 136,
   "metadata": {},
   "outputs": [
    {
     "name": "stdout",
     "output_type": "stream",
     "text": [
      "The Pearson Correlation Coefficient is 0.6876696602137802  with a P-value of P = 1.0030213089943034e-14\n"
     ]
    }
   ],
   "source": [
    "pearson_coef, p_value = stats.pearsonr(District['PERC_WOMAN'], District['INCOME_PER_CAPTA'])\n",
    "print(\"The Pearson Correlation Coefficient is\", pearson_coef, \" with a P-value of P =\", p_value)"
   ]
  },
  {
   "cell_type": "markdown",
   "metadata": {},
   "source": [
    "### 3.5 Clustering using k-means"
   ]
  },
  {
   "cell_type": "markdown",
   "metadata": {},
   "source": [
    "K-means is vastly used for clustering in many data science applications, especially useful if you need to quickly discover insights from unlabeled data. In this study, I used k-Means for segmentation."
   ]
  },
  {
   "cell_type": "markdown",
   "metadata": {},
   "source": [
    "##### CENSUS SECTOR"
   ]
  },
  {
   "cell_type": "markdown",
   "metadata": {},
   "source": [
    "Based on the exploratory analysis of the data, the percentages of white population, percentages of black population and per capita income of the sector were used to compose this model."
   ]
  },
  {
   "cell_type": "code",
   "execution_count": 7,
   "metadata": {},
   "outputs": [],
   "source": [
    "base= Summary_sector[['CD_SETOR','LAT', 'LONG', 'PERC_BLACK', 'PERC_WHITE', 'INCOME_PER_CAPTA']]"
   ]
  },
  {
   "cell_type": "code",
   "execution_count": 8,
   "metadata": {},
   "outputs": [],
   "source": [
    "import random \n",
    "import numpy as np \n",
    "import matplotlib.pyplot as plt \n",
    "from sklearn.cluster import KMeans \n",
    "from sklearn.datasets.samples_generator import make_blobs \n",
    "%matplotlib inline"
   ]
  },
  {
   "cell_type": "markdown",
   "metadata": {},
   "source": [
    "The data were normalized on the standard deviation due to the different magnitude of the per capita income data with the population proportions. The method used to normalize was StandardScaler ().\n",
    "The centroid initialization method chosen was “k-means ++”, which intelligently selects the initial centers for the cluster to accelerate convergence. The number of defined clusters was 5. The number of times the algorithm was run with different centroid seeds was 12.\n"
   ]
  },
  {
   "cell_type": "code",
   "execution_count": 9,
   "metadata": {},
   "outputs": [
    {
     "name": "stderr",
     "output_type": "stream",
     "text": [
      "/home/jupyterlab/conda/envs/python/lib/python3.6/site-packages/sklearn/utils/validation.py:595: DataConversionWarning: Data with input dtype object was converted to float64 by StandardScaler.\n",
      "  warnings.warn(msg, DataConversionWarning)\n",
      "/home/jupyterlab/conda/envs/python/lib/python3.6/site-packages/sklearn/utils/validation.py:595: DataConversionWarning: Data with input dtype object was converted to float64 by StandardScaler.\n",
      "  warnings.warn(msg, DataConversionWarning)\n"
     ]
    },
    {
     "data": {
      "text/plain": [
       "array([[ 0.45189206, -0.85461708, -1.46137573,  1.46984909,  2.85177763],\n",
       "       [ 0.10718537,  0.40478047, -0.83845187,  1.02608096, -0.09146605],\n",
       "       [ 0.12206531,  0.4277173 , -0.74088035,  0.92112529, -0.23900606],\n",
       "       ...,\n",
       "       [ 0.64838353,  1.70981102,  0.8451222 , -0.7680664 , -0.71641075],\n",
       "       [ 0.6435489 ,  1.71821624,  1.12742199, -1.09574259, -0.68923792],\n",
       "       [ 0.3679917 ,  1.94383777,  1.62902678, -1.53494915, -0.66543546]])"
      ]
     },
     "execution_count": 9,
     "metadata": {},
     "output_type": "execute_result"
    }
   ],
   "source": [
    "from sklearn.preprocessing import StandardScaler\n",
    "X = base.values[:,1:]\n",
    "X = np.nan_to_num(X)\n",
    "Clus_dataSet = StandardScaler().fit_transform(X)\n",
    "Clus_dataSet"
   ]
  },
  {
   "cell_type": "code",
   "execution_count": 10,
   "metadata": {},
   "outputs": [
    {
     "name": "stdout",
     "output_type": "stream",
     "text": [
      "[2 0 1 ... 1 1 1]\n"
     ]
    }
   ],
   "source": [
    "clusterNum = 5\n",
    "k_means = KMeans(init = \"k-means++\", n_clusters = clusterNum, n_init = 12)\n",
    "k_means.fit(X)\n",
    "labels = k_means.labels_\n",
    "print(labels)"
   ]
  },
  {
   "cell_type": "code",
   "execution_count": 12,
   "metadata": {},
   "outputs": [
    {
     "name": "stderr",
     "output_type": "stream",
     "text": [
      "/home/jupyterlab/conda/envs/python/lib/python3.6/site-packages/ipykernel_launcher.py:1: SettingWithCopyWarning: \n",
      "A value is trying to be set on a copy of a slice from a DataFrame.\n",
      "Try using .loc[row_indexer,col_indexer] = value instead\n",
      "\n",
      "See the caveats in the documentation: https://pandas.pydata.org/pandas-docs/stable/user_guide/indexing.html#returning-a-view-versus-a-copy\n",
      "  \"\"\"Entry point for launching an IPython kernel.\n"
     ]
    },
    {
     "data": {
      "text/html": [
       "<div>\n",
       "<style scoped>\n",
       "    .dataframe tbody tr th:only-of-type {\n",
       "        vertical-align: middle;\n",
       "    }\n",
       "\n",
       "    .dataframe tbody tr th {\n",
       "        vertical-align: top;\n",
       "    }\n",
       "\n",
       "    .dataframe thead th {\n",
       "        text-align: right;\n",
       "    }\n",
       "</style>\n",
       "<table border=\"1\" class=\"dataframe\">\n",
       "  <thead>\n",
       "    <tr style=\"text-align: right;\">\n",
       "      <th></th>\n",
       "      <th>CD_SETOR</th>\n",
       "      <th>LAT</th>\n",
       "      <th>LONG</th>\n",
       "      <th>PERC_BLACK</th>\n",
       "      <th>PERC_WHITE</th>\n",
       "      <th>INCOME_PER_CAPTA</th>\n",
       "      <th>Clus</th>\n",
       "    </tr>\n",
       "  </thead>\n",
       "  <tbody>\n",
       "    <tr>\n",
       "      <th>0</th>\n",
       "      <td>355030802000076</td>\n",
       "      <td>-23.53822883899994</td>\n",
       "      <td>-46.71332882699994</td>\n",
       "      <td>0.049270</td>\n",
       "      <td>0.906934</td>\n",
       "      <td>5097.750000</td>\n",
       "      <td>2</td>\n",
       "    </tr>\n",
       "    <tr>\n",
       "      <th>1</th>\n",
       "      <td>355030801000001</td>\n",
       "      <td>-23.567837779999934</td>\n",
       "      <td>-46.570826168999986</td>\n",
       "      <td>0.176179</td>\n",
       "      <td>0.820099</td>\n",
       "      <td>1126.274194</td>\n",
       "      <td>0</td>\n",
       "    </tr>\n",
       "    <tr>\n",
       "      <th>2</th>\n",
       "      <td>355030801000002</td>\n",
       "      <td>-23.566559651999967</td>\n",
       "      <td>-46.56823083399996</td>\n",
       "      <td>0.196057</td>\n",
       "      <td>0.799562</td>\n",
       "      <td>927.190581</td>\n",
       "      <td>1</td>\n",
       "    </tr>\n",
       "    <tr>\n",
       "      <th>3</th>\n",
       "      <td>355030801000003</td>\n",
       "      <td>-23.56859691899996</td>\n",
       "      <td>-46.56752940999996</td>\n",
       "      <td>0.153600</td>\n",
       "      <td>0.833600</td>\n",
       "      <td>809.059200</td>\n",
       "      <td>1</td>\n",
       "    </tr>\n",
       "    <tr>\n",
       "      <th>4</th>\n",
       "      <td>355030801000004</td>\n",
       "      <td>-23.570316633999937</td>\n",
       "      <td>-46.56888325999995</td>\n",
       "      <td>0.234266</td>\n",
       "      <td>0.751748</td>\n",
       "      <td>779.739510</td>\n",
       "      <td>1</td>\n",
       "    </tr>\n",
       "  </tbody>\n",
       "</table>\n",
       "</div>"
      ],
      "text/plain": [
       "          CD_SETOR                  LAT                 LONG  PERC_BLACK  \\\n",
       "0  355030802000076   -23.53822883899994   -46.71332882699994    0.049270   \n",
       "1  355030801000001  -23.567837779999934  -46.570826168999986    0.176179   \n",
       "2  355030801000002  -23.566559651999967   -46.56823083399996    0.196057   \n",
       "3  355030801000003   -23.56859691899996   -46.56752940999996    0.153600   \n",
       "4  355030801000004  -23.570316633999937   -46.56888325999995    0.234266   \n",
       "\n",
       "   PERC_WHITE  INCOME_PER_CAPTA  Clus  \n",
       "0    0.906934       5097.750000     2  \n",
       "1    0.820099       1126.274194     0  \n",
       "2    0.799562        927.190581     1  \n",
       "3    0.833600        809.059200     1  \n",
       "4    0.751748        779.739510     1  "
      ]
     },
     "execution_count": 12,
     "metadata": {},
     "output_type": "execute_result"
    }
   ],
   "source": [
    "base[\"Clus\"] = labels\n",
    "base.head(5)"
   ]
  },
  {
   "cell_type": "code",
   "execution_count": 13,
   "metadata": {},
   "outputs": [
    {
     "data": {
      "text/html": [
       "<div>\n",
       "<style scoped>\n",
       "    .dataframe tbody tr th:only-of-type {\n",
       "        vertical-align: middle;\n",
       "    }\n",
       "\n",
       "    .dataframe tbody tr th {\n",
       "        vertical-align: top;\n",
       "    }\n",
       "\n",
       "    .dataframe thead th {\n",
       "        text-align: right;\n",
       "    }\n",
       "</style>\n",
       "<table border=\"1\" class=\"dataframe\">\n",
       "  <thead>\n",
       "    <tr style=\"text-align: right;\">\n",
       "      <th></th>\n",
       "      <th>PERC_BLACK</th>\n",
       "      <th>PERC_WHITE</th>\n",
       "      <th>INCOME_PER_CAPTA</th>\n",
       "    </tr>\n",
       "    <tr>\n",
       "      <th>Clus</th>\n",
       "      <th></th>\n",
       "      <th></th>\n",
       "      <th></th>\n",
       "    </tr>\n",
       "  </thead>\n",
       "  <tbody>\n",
       "    <tr>\n",
       "      <th>0</th>\n",
       "      <td>0.187144</td>\n",
       "      <td>0.768065</td>\n",
       "      <td>1508.495264</td>\n",
       "    </tr>\n",
       "    <tr>\n",
       "      <th>1</th>\n",
       "      <td>0.456644</td>\n",
       "      <td>0.517439</td>\n",
       "      <td>549.916204</td>\n",
       "    </tr>\n",
       "    <tr>\n",
       "      <th>2</th>\n",
       "      <td>0.070113</td>\n",
       "      <td>0.887692</td>\n",
       "      <td>5057.181457</td>\n",
       "    </tr>\n",
       "    <tr>\n",
       "      <th>3</th>\n",
       "      <td>0.073244</td>\n",
       "      <td>0.888083</td>\n",
       "      <td>10074.686626</td>\n",
       "    </tr>\n",
       "    <tr>\n",
       "      <th>4</th>\n",
       "      <td>0.091343</td>\n",
       "      <td>0.850705</td>\n",
       "      <td>3068.022920</td>\n",
       "    </tr>\n",
       "  </tbody>\n",
       "</table>\n",
       "</div>"
      ],
      "text/plain": [
       "      PERC_BLACK  PERC_WHITE  INCOME_PER_CAPTA\n",
       "Clus                                          \n",
       "0       0.187144    0.768065       1508.495264\n",
       "1       0.456644    0.517439        549.916204\n",
       "2       0.070113    0.887692       5057.181457\n",
       "3       0.073244    0.888083      10074.686626\n",
       "4       0.091343    0.850705       3068.022920"
      ]
     },
     "execution_count": 13,
     "metadata": {},
     "output_type": "execute_result"
    }
   ],
   "source": [
    "base.groupby('Clus').mean()"
   ]
  },
  {
   "cell_type": "code",
   "execution_count": 15,
   "metadata": {},
   "outputs": [
    {
     "data": {
      "text/html": [
       "<div>\n",
       "<style scoped>\n",
       "    .dataframe tbody tr th:only-of-type {\n",
       "        vertical-align: middle;\n",
       "    }\n",
       "\n",
       "    .dataframe tbody tr th {\n",
       "        vertical-align: top;\n",
       "    }\n",
       "\n",
       "    .dataframe thead th {\n",
       "        text-align: right;\n",
       "    }\n",
       "</style>\n",
       "<table border=\"1\" class=\"dataframe\">\n",
       "  <thead>\n",
       "    <tr style=\"text-align: right;\">\n",
       "      <th></th>\n",
       "      <th>CD_SETOR</th>\n",
       "      <th>LAT</th>\n",
       "      <th>LONG</th>\n",
       "      <th>PERC_BLACK</th>\n",
       "      <th>PERC_WHITE</th>\n",
       "      <th>INCOME_PER_CAPTA</th>\n",
       "    </tr>\n",
       "    <tr>\n",
       "      <th>Clus</th>\n",
       "      <th></th>\n",
       "      <th></th>\n",
       "      <th></th>\n",
       "      <th></th>\n",
       "      <th></th>\n",
       "      <th></th>\n",
       "    </tr>\n",
       "  </thead>\n",
       "  <tbody>\n",
       "    <tr>\n",
       "      <th>0</th>\n",
       "      <td>3504</td>\n",
       "      <td>3504</td>\n",
       "      <td>3504</td>\n",
       "      <td>3504</td>\n",
       "      <td>3504</td>\n",
       "      <td>3504</td>\n",
       "    </tr>\n",
       "    <tr>\n",
       "      <th>1</th>\n",
       "      <td>11988</td>\n",
       "      <td>11988</td>\n",
       "      <td>11988</td>\n",
       "      <td>11988</td>\n",
       "      <td>11988</td>\n",
       "      <td>11988</td>\n",
       "    </tr>\n",
       "    <tr>\n",
       "      <th>2</th>\n",
       "      <td>901</td>\n",
       "      <td>901</td>\n",
       "      <td>901</td>\n",
       "      <td>901</td>\n",
       "      <td>901</td>\n",
       "      <td>901</td>\n",
       "    </tr>\n",
       "    <tr>\n",
       "      <th>3</th>\n",
       "      <td>67</td>\n",
       "      <td>67</td>\n",
       "      <td>67</td>\n",
       "      <td>67</td>\n",
       "      <td>67</td>\n",
       "      <td>67</td>\n",
       "    </tr>\n",
       "    <tr>\n",
       "      <th>4</th>\n",
       "      <td>1903</td>\n",
       "      <td>1903</td>\n",
       "      <td>1903</td>\n",
       "      <td>1903</td>\n",
       "      <td>1903</td>\n",
       "      <td>1903</td>\n",
       "    </tr>\n",
       "  </tbody>\n",
       "</table>\n",
       "</div>"
      ],
      "text/plain": [
       "      CD_SETOR    LAT   LONG  PERC_BLACK  PERC_WHITE  INCOME_PER_CAPTA\n",
       "Clus                                                                  \n",
       "0         3504   3504   3504        3504        3504              3504\n",
       "1        11988  11988  11988       11988       11988             11988\n",
       "2          901    901    901         901         901               901\n",
       "3           67     67     67          67          67                67\n",
       "4         1903   1903   1903        1903        1903              1903"
      ]
     },
     "execution_count": 15,
     "metadata": {},
     "output_type": "execute_result"
    }
   ],
   "source": [
    "base.groupby('Clus').count()"
   ]
  },
  {
   "cell_type": "code",
   "execution_count": 49,
   "metadata": {},
   "outputs": [
    {
     "data": {
      "text/plain": [
       "LAT    -23.388459\n",
       "LONG   -46.365686\n",
       "dtype: float64"
      ]
     },
     "execution_count": 49,
     "metadata": {},
     "output_type": "execute_result"
    }
   ],
   "source": [
    "base[['LAT', 'LONG']].min()"
   ]
  },
  {
   "cell_type": "code",
   "execution_count": 50,
   "metadata": {},
   "outputs": [
    {
     "data": {
      "text/plain": [
       "LAT    -23.987357\n",
       "LONG   -46.820327\n",
       "dtype: float64"
      ]
     },
     "execution_count": 50,
     "metadata": {},
     "output_type": "execute_result"
    }
   ],
   "source": [
    "base[['LAT', 'LONG']].max()"
   ]
  },
  {
   "cell_type": "code",
   "execution_count": 48,
   "metadata": {},
   "outputs": [
    {
     "data": {
      "text/plain": [
       "CD_SETOR             object\n",
       "LAT                 float64\n",
       "LONG                float64\n",
       "PERC_BLACK          float64\n",
       "PERC_WHITE          float64\n",
       "INCOME_PER_CAPTA    float64\n",
       "Clus                 object\n",
       "dtype: object"
      ]
     },
     "execution_count": 48,
     "metadata": {},
     "output_type": "execute_result"
    }
   ],
   "source": [
    "base.dtypes"
   ]
  },
  {
   "cell_type": "markdown",
   "metadata": {},
   "source": [
    "DISTRICT"
   ]
  },
  {
   "cell_type": "markdown",
   "metadata": {},
   "source": [
    "Based on the exploratory analysis of the data, the following were used to compose this model: the percentages of the white population, the percentages of the black population, the per capita income of the sector, the percentage of men and women, the number of schools per inhabitant, the number of students per inhabitant, the number of cultural facilities per inhabitant, the amount of health facilities per inhabitant and the number of hospital beds per district."
   ]
  },
  {
   "cell_type": "code",
   "execution_count": 58,
   "metadata": {},
   "outputs": [],
   "source": [
    "base_dist= District[['CD_DIST', 'PERC_WHITE', 'PERC_BLACK','PERC_MAN', 'PERC_WOMAN', 'INCOME_PER_CAPTA', 'PERC_SCHOOLS', 'PERC_STUDENTS', 'PERC_CULTURE_EQUP', 'PERC_HEALTH_EQUIP', 'PERC_LEITOS']]"
   ]
  },
  {
   "cell_type": "code",
   "execution_count": 35,
   "metadata": {},
   "outputs": [
    {
     "data": {
      "text/html": [
       "<div>\n",
       "<style scoped>\n",
       "    .dataframe tbody tr th:only-of-type {\n",
       "        vertical-align: middle;\n",
       "    }\n",
       "\n",
       "    .dataframe tbody tr th {\n",
       "        vertical-align: top;\n",
       "    }\n",
       "\n",
       "    .dataframe thead th {\n",
       "        text-align: right;\n",
       "    }\n",
       "</style>\n",
       "<table border=\"1\" class=\"dataframe\">\n",
       "  <thead>\n",
       "    <tr style=\"text-align: right;\">\n",
       "      <th></th>\n",
       "      <th>CD_DIST</th>\n",
       "      <th>PERC_WHITE</th>\n",
       "      <th>PERC_BLACK</th>\n",
       "      <th>PERC_MAN</th>\n",
       "      <th>PERC_WOMAN</th>\n",
       "      <th>INCOME_PER_CAPTA</th>\n",
       "      <th>PERC_SCHOOLS</th>\n",
       "      <th>PERC_STUDENTS</th>\n",
       "      <th>PERC_CULTURE_EQUP</th>\n",
       "      <th>PERC_HEALTH_EQUIP</th>\n",
       "      <th>PERC_LEITOS</th>\n",
       "    </tr>\n",
       "  </thead>\n",
       "  <tbody>\n",
       "    <tr>\n",
       "      <th>0</th>\n",
       "      <td>355030801</td>\n",
       "      <td>0.836776</td>\n",
       "      <td>0.137931</td>\n",
       "      <td>0.460200</td>\n",
       "      <td>0.539800</td>\n",
       "      <td>1352.489931</td>\n",
       "      <td>0.000624</td>\n",
       "      <td>0.169686</td>\n",
       "      <td>0.000024</td>\n",
       "      <td>0.000059</td>\n",
       "      <td>0.000071</td>\n",
       "    </tr>\n",
       "    <tr>\n",
       "      <th>1</th>\n",
       "      <td>355030802</td>\n",
       "      <td>0.887399</td>\n",
       "      <td>0.080595</td>\n",
       "      <td>0.450402</td>\n",
       "      <td>0.549598</td>\n",
       "      <td>3943.681912</td>\n",
       "      <td>0.000603</td>\n",
       "      <td>0.244985</td>\n",
       "      <td>0.000371</td>\n",
       "      <td>0.000116</td>\n",
       "      <td>0.000139</td>\n",
       "    </tr>\n",
       "    <tr>\n",
       "      <th>2</th>\n",
       "      <td>355030803</td>\n",
       "      <td>0.490761</td>\n",
       "      <td>0.502057</td>\n",
       "      <td>0.491793</td>\n",
       "      <td>0.507190</td>\n",
       "      <td>527.921696</td>\n",
       "      <td>0.000623</td>\n",
       "      <td>0.256077</td>\n",
       "      <td>0.000061</td>\n",
       "      <td>0.000061</td>\n",
       "      <td>0.000000</td>\n",
       "    </tr>\n",
       "    <tr>\n",
       "      <th>3</th>\n",
       "      <td>355030804</td>\n",
       "      <td>0.695867</td>\n",
       "      <td>0.275334</td>\n",
       "      <td>0.474002</td>\n",
       "      <td>0.525998</td>\n",
       "      <td>794.428901</td>\n",
       "      <td>0.000603</td>\n",
       "      <td>0.220682</td>\n",
       "      <td>0.000022</td>\n",
       "      <td>0.000033</td>\n",
       "      <td>0.000000</td>\n",
       "    </tr>\n",
       "    <tr>\n",
       "      <th>4</th>\n",
       "      <td>355030805</td>\n",
       "      <td>0.614825</td>\n",
       "      <td>0.370745</td>\n",
       "      <td>0.466795</td>\n",
       "      <td>0.533205</td>\n",
       "      <td>739.852568</td>\n",
       "      <td>0.000627</td>\n",
       "      <td>0.231407</td>\n",
       "      <td>0.000019</td>\n",
       "      <td>0.000076</td>\n",
       "      <td>0.000000</td>\n",
       "    </tr>\n",
       "  </tbody>\n",
       "</table>\n",
       "</div>"
      ],
      "text/plain": [
       "     CD_DIST  PERC_WHITE  PERC_BLACK  PERC_MAN  PERC_WOMAN  INCOME_PER_CAPTA  \\\n",
       "0  355030801    0.836776    0.137931  0.460200    0.539800       1352.489931   \n",
       "1  355030802    0.887399    0.080595  0.450402    0.549598       3943.681912   \n",
       "2  355030803    0.490761    0.502057  0.491793    0.507190        527.921696   \n",
       "3  355030804    0.695867    0.275334  0.474002    0.525998        794.428901   \n",
       "4  355030805    0.614825    0.370745  0.466795    0.533205        739.852568   \n",
       "\n",
       "   PERC_SCHOOLS  PERC_STUDENTS  PERC_CULTURE_EQUP  PERC_HEALTH_EQUIP  \\\n",
       "0      0.000624       0.169686           0.000024           0.000059   \n",
       "1      0.000603       0.244985           0.000371           0.000116   \n",
       "2      0.000623       0.256077           0.000061           0.000061   \n",
       "3      0.000603       0.220682           0.000022           0.000033   \n",
       "4      0.000627       0.231407           0.000019           0.000076   \n",
       "\n",
       "   PERC_LEITOS  \n",
       "0     0.000071  \n",
       "1     0.000139  \n",
       "2     0.000000  \n",
       "3     0.000000  \n",
       "4     0.000000  "
      ]
     },
     "execution_count": 35,
     "metadata": {},
     "output_type": "execute_result"
    }
   ],
   "source": [
    "base_dist.head()"
   ]
  },
  {
   "cell_type": "markdown",
   "metadata": {},
   "source": [
    "The centroid initialization method chosen was “k-means ++”, which intelligently selects the initial centers for the cluster to accelerate convergence. The number of defined clusters was 5. The number of times the algorithm was run with different centroid seeds was 12."
   ]
  },
  {
   "cell_type": "code",
   "execution_count": 59,
   "metadata": {},
   "outputs": [
    {
     "name": "stderr",
     "output_type": "stream",
     "text": [
      "/home/jupyterlab/conda/envs/python/lib/python3.6/site-packages/sklearn/utils/validation.py:595: DataConversionWarning: Data with input dtype object was converted to float64 by StandardScaler.\n",
      "  warnings.warn(msg, DataConversionWarning)\n",
      "/home/jupyterlab/conda/envs/python/lib/python3.6/site-packages/sklearn/utils/validation.py:595: DataConversionWarning: Data with input dtype object was converted to float64 by StandardScaler.\n",
      "  warnings.warn(msg, DataConversionWarning)\n"
     ]
    },
    {
     "data": {
      "text/plain": [
       "array([[ 1.35443797e+00, -1.21666772e+00, -8.76356439e-01,\n",
       "         9.13179788e-01, -2.79712192e-02, -1.35151080e-01,\n",
       "        -4.64958107e-01, -4.67170344e-01, -7.28939665e-01,\n",
       "        -5.08694053e-01],\n",
       "       [ 1.72141477e+00, -1.59902556e+00, -1.62494695e+00,\n",
       "         1.65700769e+00,  2.37340427e+00, -2.53301314e-01,\n",
       "        -6.02414039e-02,  2.02844875e-01,  3.96868537e-02,\n",
       "        -4.97163389e-01],\n",
       "       [-1.15388148e+00,  1.21159400e+00,  1.53742236e+00,\n",
       "        -1.56247442e+00, -7.92136115e-01, -1.42304987e-01,\n",
       "        -6.19832306e-04, -3.95461398e-01, -7.03549511e-01,\n",
       "        -5.20574941e-01],\n",
       "       [ 3.32967408e-01, -3.00361117e-01,  1.78126026e-01,\n",
       "        -1.34593958e-01, -5.45151764e-01, -2.56027877e-01,\n",
       "        -1.90860599e-01, -4.69529483e-01, -1.07043096e+00,\n",
       "        -5.20574941e-01],\n",
       "       [-2.54520092e-01,  3.35910285e-01, -3.72534839e-01,\n",
       "         4.12563550e-01, -5.95730135e-01, -1.17168982e-01,\n",
       "        -1.33217305e-01, -4.75924198e-01, -4.98185943e-01,\n",
       "        -5.20574941e-01]])"
      ]
     },
     "execution_count": 59,
     "metadata": {},
     "output_type": "execute_result"
    }
   ],
   "source": [
    "from sklearn.preprocessing import StandardScaler\n",
    "X = base_dist.values[:,1:]\n",
    "X = np.nan_to_num(X)\n",
    "Clus_dataSet = StandardScaler().fit_transform(X)\n",
    "Clus_dataSet[0:5]"
   ]
  },
  {
   "cell_type": "code",
   "execution_count": 60,
   "metadata": {},
   "outputs": [
    {
     "name": "stdout",
     "output_type": "stream",
     "text": [
      "[3 1 0 0 0 4 4 3 3 3 0 2 0 2 4 2 0 0 0 3 3 0 0 0 0 1 3 0 3 0 0 1 0 3 1 0 0\n",
      " 3 0 3 3 0 0 0 1 0 0 4 2 3 3 0 2 1 0 3 0 0 3 4 0 1 3 0 0 3 3 3 2 2 4 3 0 0\n",
      " 0 0 4 3 2 2 0 3 2 0 3 3 0 4 0 1 3 0 3 2 3 0]\n"
     ]
    }
   ],
   "source": [
    "clusterNum = 5\n",
    "k_means = KMeans(init = \"k-means++\", n_clusters = clusterNum, n_init = 12)\n",
    "k_means.fit(X)\n",
    "labels = k_means.labels_\n",
    "print(labels)"
   ]
  },
  {
   "cell_type": "code",
   "execution_count": 61,
   "metadata": {},
   "outputs": [
    {
     "name": "stderr",
     "output_type": "stream",
     "text": [
      "/home/jupyterlab/conda/envs/python/lib/python3.6/site-packages/ipykernel_launcher.py:1: SettingWithCopyWarning: \n",
      "A value is trying to be set on a copy of a slice from a DataFrame.\n",
      "Try using .loc[row_indexer,col_indexer] = value instead\n",
      "\n",
      "See the caveats in the documentation: https://pandas.pydata.org/pandas-docs/stable/user_guide/indexing.html#returning-a-view-versus-a-copy\n",
      "  \"\"\"Entry point for launching an IPython kernel.\n"
     ]
    },
    {
     "data": {
      "text/html": [
       "<div>\n",
       "<style scoped>\n",
       "    .dataframe tbody tr th:only-of-type {\n",
       "        vertical-align: middle;\n",
       "    }\n",
       "\n",
       "    .dataframe tbody tr th {\n",
       "        vertical-align: top;\n",
       "    }\n",
       "\n",
       "    .dataframe thead th {\n",
       "        text-align: right;\n",
       "    }\n",
       "</style>\n",
       "<table border=\"1\" class=\"dataframe\">\n",
       "  <thead>\n",
       "    <tr style=\"text-align: right;\">\n",
       "      <th></th>\n",
       "      <th>CD_DIST</th>\n",
       "      <th>PERC_WHITE</th>\n",
       "      <th>PERC_BLACK</th>\n",
       "      <th>PERC_MAN</th>\n",
       "      <th>PERC_WOMAN</th>\n",
       "      <th>INCOME_PER_CAPTA</th>\n",
       "      <th>PERC_SCHOOLS</th>\n",
       "      <th>PERC_STUDENTS</th>\n",
       "      <th>PERC_CULTURE_EQUP</th>\n",
       "      <th>PERC_HEALTH_EQUIP</th>\n",
       "      <th>PERC_LEITOS</th>\n",
       "      <th>Clus</th>\n",
       "    </tr>\n",
       "  </thead>\n",
       "  <tbody>\n",
       "    <tr>\n",
       "      <th>0</th>\n",
       "      <td>355030801</td>\n",
       "      <td>0.836776</td>\n",
       "      <td>0.137931</td>\n",
       "      <td>0.460200</td>\n",
       "      <td>0.539800</td>\n",
       "      <td>1352.489931</td>\n",
       "      <td>0.000624</td>\n",
       "      <td>0.169686</td>\n",
       "      <td>0.000024</td>\n",
       "      <td>0.000059</td>\n",
       "      <td>0.000071</td>\n",
       "      <td>3</td>\n",
       "    </tr>\n",
       "    <tr>\n",
       "      <th>1</th>\n",
       "      <td>355030802</td>\n",
       "      <td>0.887399</td>\n",
       "      <td>0.080595</td>\n",
       "      <td>0.450402</td>\n",
       "      <td>0.549598</td>\n",
       "      <td>3943.681912</td>\n",
       "      <td>0.000603</td>\n",
       "      <td>0.244985</td>\n",
       "      <td>0.000371</td>\n",
       "      <td>0.000116</td>\n",
       "      <td>0.000139</td>\n",
       "      <td>1</td>\n",
       "    </tr>\n",
       "    <tr>\n",
       "      <th>2</th>\n",
       "      <td>355030803</td>\n",
       "      <td>0.490761</td>\n",
       "      <td>0.502057</td>\n",
       "      <td>0.491793</td>\n",
       "      <td>0.507190</td>\n",
       "      <td>527.921696</td>\n",
       "      <td>0.000623</td>\n",
       "      <td>0.256077</td>\n",
       "      <td>0.000061</td>\n",
       "      <td>0.000061</td>\n",
       "      <td>0.000000</td>\n",
       "      <td>0</td>\n",
       "    </tr>\n",
       "    <tr>\n",
       "      <th>3</th>\n",
       "      <td>355030804</td>\n",
       "      <td>0.695867</td>\n",
       "      <td>0.275334</td>\n",
       "      <td>0.474002</td>\n",
       "      <td>0.525998</td>\n",
       "      <td>794.428901</td>\n",
       "      <td>0.000603</td>\n",
       "      <td>0.220682</td>\n",
       "      <td>0.000022</td>\n",
       "      <td>0.000033</td>\n",
       "      <td>0.000000</td>\n",
       "      <td>0</td>\n",
       "    </tr>\n",
       "    <tr>\n",
       "      <th>4</th>\n",
       "      <td>355030805</td>\n",
       "      <td>0.614825</td>\n",
       "      <td>0.370745</td>\n",
       "      <td>0.466795</td>\n",
       "      <td>0.533205</td>\n",
       "      <td>739.852568</td>\n",
       "      <td>0.000627</td>\n",
       "      <td>0.231407</td>\n",
       "      <td>0.000019</td>\n",
       "      <td>0.000076</td>\n",
       "      <td>0.000000</td>\n",
       "      <td>0</td>\n",
       "    </tr>\n",
       "  </tbody>\n",
       "</table>\n",
       "</div>"
      ],
      "text/plain": [
       "     CD_DIST  PERC_WHITE  PERC_BLACK  PERC_MAN  PERC_WOMAN  INCOME_PER_CAPTA  \\\n",
       "0  355030801    0.836776    0.137931  0.460200    0.539800       1352.489931   \n",
       "1  355030802    0.887399    0.080595  0.450402    0.549598       3943.681912   \n",
       "2  355030803    0.490761    0.502057  0.491793    0.507190        527.921696   \n",
       "3  355030804    0.695867    0.275334  0.474002    0.525998        794.428901   \n",
       "4  355030805    0.614825    0.370745  0.466795    0.533205        739.852568   \n",
       "\n",
       "   PERC_SCHOOLS  PERC_STUDENTS  PERC_CULTURE_EQUP  PERC_HEALTH_EQUIP  \\\n",
       "0      0.000624       0.169686           0.000024           0.000059   \n",
       "1      0.000603       0.244985           0.000371           0.000116   \n",
       "2      0.000623       0.256077           0.000061           0.000061   \n",
       "3      0.000603       0.220682           0.000022           0.000033   \n",
       "4      0.000627       0.231407           0.000019           0.000076   \n",
       "\n",
       "   PERC_LEITOS  Clus  \n",
       "0     0.000071     3  \n",
       "1     0.000139     1  \n",
       "2     0.000000     0  \n",
       "3     0.000000     0  \n",
       "4     0.000000     0  "
      ]
     },
     "execution_count": 61,
     "metadata": {},
     "output_type": "execute_result"
    }
   ],
   "source": [
    "base_dist[\"Clus\"] = labels\n",
    "base_dist.head(5)"
   ]
  },
  {
   "cell_type": "code",
   "execution_count": 62,
   "metadata": {},
   "outputs": [
    {
     "data": {
      "text/html": [
       "<div>\n",
       "<style scoped>\n",
       "    .dataframe tbody tr th:only-of-type {\n",
       "        vertical-align: middle;\n",
       "    }\n",
       "\n",
       "    .dataframe tbody tr th {\n",
       "        vertical-align: top;\n",
       "    }\n",
       "\n",
       "    .dataframe thead th {\n",
       "        text-align: right;\n",
       "    }\n",
       "</style>\n",
       "<table border=\"1\" class=\"dataframe\">\n",
       "  <thead>\n",
       "    <tr style=\"text-align: right;\">\n",
       "      <th></th>\n",
       "      <th>PERC_WHITE</th>\n",
       "      <th>PERC_BLACK</th>\n",
       "      <th>PERC_MAN</th>\n",
       "      <th>PERC_WOMAN</th>\n",
       "      <th>INCOME_PER_CAPTA</th>\n",
       "      <th>PERC_SCHOOLS</th>\n",
       "      <th>PERC_STUDENTS</th>\n",
       "      <th>PERC_CULTURE_EQUP</th>\n",
       "      <th>PERC_HEALTH_EQUIP</th>\n",
       "      <th>PERC_LEITOS</th>\n",
       "    </tr>\n",
       "    <tr>\n",
       "      <th>Clus</th>\n",
       "      <th></th>\n",
       "      <th></th>\n",
       "      <th></th>\n",
       "      <th></th>\n",
       "      <th></th>\n",
       "      <th></th>\n",
       "      <th></th>\n",
       "      <th></th>\n",
       "      <th></th>\n",
       "      <th></th>\n",
       "    </tr>\n",
       "  </thead>\n",
       "  <tbody>\n",
       "    <tr>\n",
       "      <th>0</th>\n",
       "      <td>0.524219</td>\n",
       "      <td>0.463949</td>\n",
       "      <td>0.479619</td>\n",
       "      <td>0.519911</td>\n",
       "      <td>582.759468</td>\n",
       "      <td>0.000605</td>\n",
       "      <td>0.249912</td>\n",
       "      <td>0.000029</td>\n",
       "      <td>0.000091</td>\n",
       "      <td>0.001135</td>\n",
       "    </tr>\n",
       "    <tr>\n",
       "      <th>1</th>\n",
       "      <td>0.856998</td>\n",
       "      <td>0.100675</td>\n",
       "      <td>0.450219</td>\n",
       "      <td>0.549441</td>\n",
       "      <td>4103.439963</td>\n",
       "      <td>0.000599</td>\n",
       "      <td>0.197199</td>\n",
       "      <td>0.001066</td>\n",
       "      <td>0.000160</td>\n",
       "      <td>0.010987</td>\n",
       "    </tr>\n",
       "    <tr>\n",
       "      <th>2</th>\n",
       "      <td>0.743171</td>\n",
       "      <td>0.204339</td>\n",
       "      <td>0.463927</td>\n",
       "      <td>0.534534</td>\n",
       "      <td>1952.836897</td>\n",
       "      <td>0.000687</td>\n",
       "      <td>0.245077</td>\n",
       "      <td>0.000304</td>\n",
       "      <td>0.000133</td>\n",
       "      <td>0.005620</td>\n",
       "    </tr>\n",
       "    <tr>\n",
       "      <th>3</th>\n",
       "      <td>0.689956</td>\n",
       "      <td>0.272490</td>\n",
       "      <td>0.472186</td>\n",
       "      <td>0.527465</td>\n",
       "      <td>1138.416927</td>\n",
       "      <td>0.000652</td>\n",
       "      <td>0.290862</td>\n",
       "      <td>0.000248</td>\n",
       "      <td>0.000106</td>\n",
       "      <td>0.001762</td>\n",
       "    </tr>\n",
       "    <tr>\n",
       "      <th>4</th>\n",
       "      <td>0.818893</td>\n",
       "      <td>0.131400</td>\n",
       "      <td>0.461232</td>\n",
       "      <td>0.538157</td>\n",
       "      <td>2832.373376</td>\n",
       "      <td>0.000847</td>\n",
       "      <td>0.241316</td>\n",
       "      <td>0.000694</td>\n",
       "      <td>0.000178</td>\n",
       "      <td>0.006430</td>\n",
       "    </tr>\n",
       "  </tbody>\n",
       "</table>\n",
       "</div>"
      ],
      "text/plain": [
       "      PERC_WHITE  PERC_BLACK  PERC_MAN  PERC_WOMAN  INCOME_PER_CAPTA  \\\n",
       "Clus                                                                   \n",
       "0       0.524219    0.463949  0.479619    0.519911        582.759468   \n",
       "1       0.856998    0.100675  0.450219    0.549441       4103.439963   \n",
       "2       0.743171    0.204339  0.463927    0.534534       1952.836897   \n",
       "3       0.689956    0.272490  0.472186    0.527465       1138.416927   \n",
       "4       0.818893    0.131400  0.461232    0.538157       2832.373376   \n",
       "\n",
       "      PERC_SCHOOLS  PERC_STUDENTS  PERC_CULTURE_EQUP  PERC_HEALTH_EQUIP  \\\n",
       "Clus                                                                      \n",
       "0         0.000605       0.249912           0.000029           0.000091   \n",
       "1         0.000599       0.197199           0.001066           0.000160   \n",
       "2         0.000687       0.245077           0.000304           0.000133   \n",
       "3         0.000652       0.290862           0.000248           0.000106   \n",
       "4         0.000847       0.241316           0.000694           0.000178   \n",
       "\n",
       "      PERC_LEITOS  \n",
       "Clus               \n",
       "0        0.001135  \n",
       "1        0.010987  \n",
       "2        0.005620  \n",
       "3        0.001762  \n",
       "4        0.006430  "
      ]
     },
     "execution_count": 62,
     "metadata": {},
     "output_type": "execute_result"
    }
   ],
   "source": [
    "base_dist.groupby('Clus').mean()"
   ]
  },
  {
   "cell_type": "code",
   "execution_count": 63,
   "metadata": {},
   "outputs": [
    {
     "data": {
      "text/html": [
       "<div>\n",
       "<style scoped>\n",
       "    .dataframe tbody tr th:only-of-type {\n",
       "        vertical-align: middle;\n",
       "    }\n",
       "\n",
       "    .dataframe tbody tr th {\n",
       "        vertical-align: top;\n",
       "    }\n",
       "\n",
       "    .dataframe thead th {\n",
       "        text-align: right;\n",
       "    }\n",
       "</style>\n",
       "<table border=\"1\" class=\"dataframe\">\n",
       "  <thead>\n",
       "    <tr style=\"text-align: right;\">\n",
       "      <th></th>\n",
       "      <th>CD_DIST</th>\n",
       "      <th>PERC_WHITE</th>\n",
       "      <th>PERC_BLACK</th>\n",
       "      <th>PERC_MAN</th>\n",
       "      <th>PERC_WOMAN</th>\n",
       "      <th>INCOME_PER_CAPTA</th>\n",
       "      <th>PERC_SCHOOLS</th>\n",
       "      <th>PERC_STUDENTS</th>\n",
       "      <th>PERC_CULTURE_EQUP</th>\n",
       "      <th>PERC_HEALTH_EQUIP</th>\n",
       "      <th>PERC_LEITOS</th>\n",
       "    </tr>\n",
       "    <tr>\n",
       "      <th>Clus</th>\n",
       "      <th></th>\n",
       "      <th></th>\n",
       "      <th></th>\n",
       "      <th></th>\n",
       "      <th></th>\n",
       "      <th></th>\n",
       "      <th></th>\n",
       "      <th></th>\n",
       "      <th></th>\n",
       "      <th></th>\n",
       "      <th></th>\n",
       "    </tr>\n",
       "  </thead>\n",
       "  <tbody>\n",
       "    <tr>\n",
       "      <th>0</th>\n",
       "      <td>41</td>\n",
       "      <td>41</td>\n",
       "      <td>41</td>\n",
       "      <td>41</td>\n",
       "      <td>41</td>\n",
       "      <td>41</td>\n",
       "      <td>41</td>\n",
       "      <td>41</td>\n",
       "      <td>41</td>\n",
       "      <td>41</td>\n",
       "      <td>41</td>\n",
       "    </tr>\n",
       "    <tr>\n",
       "      <th>1</th>\n",
       "      <td>8</td>\n",
       "      <td>8</td>\n",
       "      <td>8</td>\n",
       "      <td>8</td>\n",
       "      <td>8</td>\n",
       "      <td>8</td>\n",
       "      <td>8</td>\n",
       "      <td>8</td>\n",
       "      <td>8</td>\n",
       "      <td>8</td>\n",
       "      <td>8</td>\n",
       "    </tr>\n",
       "    <tr>\n",
       "      <th>2</th>\n",
       "      <td>11</td>\n",
       "      <td>11</td>\n",
       "      <td>11</td>\n",
       "      <td>11</td>\n",
       "      <td>11</td>\n",
       "      <td>11</td>\n",
       "      <td>11</td>\n",
       "      <td>11</td>\n",
       "      <td>11</td>\n",
       "      <td>11</td>\n",
       "      <td>11</td>\n",
       "    </tr>\n",
       "    <tr>\n",
       "      <th>3</th>\n",
       "      <td>28</td>\n",
       "      <td>28</td>\n",
       "      <td>28</td>\n",
       "      <td>28</td>\n",
       "      <td>28</td>\n",
       "      <td>28</td>\n",
       "      <td>28</td>\n",
       "      <td>28</td>\n",
       "      <td>28</td>\n",
       "      <td>28</td>\n",
       "      <td>28</td>\n",
       "    </tr>\n",
       "    <tr>\n",
       "      <th>4</th>\n",
       "      <td>8</td>\n",
       "      <td>8</td>\n",
       "      <td>8</td>\n",
       "      <td>8</td>\n",
       "      <td>8</td>\n",
       "      <td>8</td>\n",
       "      <td>8</td>\n",
       "      <td>8</td>\n",
       "      <td>8</td>\n",
       "      <td>8</td>\n",
       "      <td>8</td>\n",
       "    </tr>\n",
       "  </tbody>\n",
       "</table>\n",
       "</div>"
      ],
      "text/plain": [
       "      CD_DIST  PERC_WHITE  PERC_BLACK  PERC_MAN  PERC_WOMAN  INCOME_PER_CAPTA  \\\n",
       "Clus                                                                            \n",
       "0          41          41          41        41          41                41   \n",
       "1           8           8           8         8           8                 8   \n",
       "2          11          11          11        11          11                11   \n",
       "3          28          28          28        28          28                28   \n",
       "4           8           8           8         8           8                 8   \n",
       "\n",
       "      PERC_SCHOOLS  PERC_STUDENTS  PERC_CULTURE_EQUP  PERC_HEALTH_EQUIP  \\\n",
       "Clus                                                                      \n",
       "0               41             41                 41                 41   \n",
       "1                8              8                  8                  8   \n",
       "2               11             11                 11                 11   \n",
       "3               28             28                 28                 28   \n",
       "4                8              8                  8                  8   \n",
       "\n",
       "      PERC_LEITOS  \n",
       "Clus               \n",
       "0              41  \n",
       "1               8  \n",
       "2              11  \n",
       "3              28  \n",
       "4               8  "
      ]
     },
     "execution_count": 63,
     "metadata": {},
     "output_type": "execute_result"
    }
   ],
   "source": [
    "base_dist.groupby('Clus').count()"
   ]
  },
  {
   "cell_type": "code",
   "execution_count": 86,
   "metadata": {},
   "outputs": [
    {
     "data": {
      "text/html": [
       "<div>\n",
       "<style scoped>\n",
       "    .dataframe tbody tr th:only-of-type {\n",
       "        vertical-align: middle;\n",
       "    }\n",
       "\n",
       "    .dataframe tbody tr th {\n",
       "        vertical-align: top;\n",
       "    }\n",
       "\n",
       "    .dataframe thead th {\n",
       "        text-align: right;\n",
       "    }\n",
       "</style>\n",
       "<table border=\"1\" class=\"dataframe\">\n",
       "  <thead>\n",
       "    <tr style=\"text-align: right;\">\n",
       "      <th></th>\n",
       "      <th>CD_DIST</th>\n",
       "      <th>PERC_WHITE</th>\n",
       "      <th>PERC_BLACK</th>\n",
       "      <th>PERC_MAN</th>\n",
       "      <th>PERC_WOMAN</th>\n",
       "      <th>INCOME_PER_CAPTA</th>\n",
       "      <th>PERC_SCHOOLS</th>\n",
       "      <th>PERC_STUDENTS</th>\n",
       "      <th>PERC_CULTURE_EQUP</th>\n",
       "      <th>PERC_HEALTH_EQUIP</th>\n",
       "      <th>PERC_LEITOS</th>\n",
       "      <th>Clus</th>\n",
       "    </tr>\n",
       "  </thead>\n",
       "  <tbody>\n",
       "    <tr>\n",
       "      <th>0</th>\n",
       "      <td>355030801</td>\n",
       "      <td>0.836776</td>\n",
       "      <td>0.137931</td>\n",
       "      <td>0.460200</td>\n",
       "      <td>0.539800</td>\n",
       "      <td>1352.489931</td>\n",
       "      <td>0.000624</td>\n",
       "      <td>0.169686</td>\n",
       "      <td>0.000024</td>\n",
       "      <td>0.000059</td>\n",
       "      <td>0.000071</td>\n",
       "      <td>4</td>\n",
       "    </tr>\n",
       "    <tr>\n",
       "      <th>1</th>\n",
       "      <td>355030802</td>\n",
       "      <td>0.887399</td>\n",
       "      <td>0.080595</td>\n",
       "      <td>0.450402</td>\n",
       "      <td>0.549598</td>\n",
       "      <td>3943.681912</td>\n",
       "      <td>0.000603</td>\n",
       "      <td>0.244985</td>\n",
       "      <td>0.000371</td>\n",
       "      <td>0.000116</td>\n",
       "      <td>0.000139</td>\n",
       "      <td>2</td>\n",
       "    </tr>\n",
       "    <tr>\n",
       "      <th>2</th>\n",
       "      <td>355030803</td>\n",
       "      <td>0.490761</td>\n",
       "      <td>0.502057</td>\n",
       "      <td>0.491793</td>\n",
       "      <td>0.507190</td>\n",
       "      <td>527.921696</td>\n",
       "      <td>0.000623</td>\n",
       "      <td>0.256077</td>\n",
       "      <td>0.000061</td>\n",
       "      <td>0.000061</td>\n",
       "      <td>0.000000</td>\n",
       "      <td>1</td>\n",
       "    </tr>\n",
       "    <tr>\n",
       "      <th>3</th>\n",
       "      <td>355030804</td>\n",
       "      <td>0.695867</td>\n",
       "      <td>0.275334</td>\n",
       "      <td>0.474002</td>\n",
       "      <td>0.525998</td>\n",
       "      <td>794.428901</td>\n",
       "      <td>0.000603</td>\n",
       "      <td>0.220682</td>\n",
       "      <td>0.000022</td>\n",
       "      <td>0.000033</td>\n",
       "      <td>0.000000</td>\n",
       "      <td>1</td>\n",
       "    </tr>\n",
       "    <tr>\n",
       "      <th>4</th>\n",
       "      <td>355030805</td>\n",
       "      <td>0.614825</td>\n",
       "      <td>0.370745</td>\n",
       "      <td>0.466795</td>\n",
       "      <td>0.533205</td>\n",
       "      <td>739.852568</td>\n",
       "      <td>0.000627</td>\n",
       "      <td>0.231407</td>\n",
       "      <td>0.000019</td>\n",
       "      <td>0.000076</td>\n",
       "      <td>0.000000</td>\n",
       "      <td>1</td>\n",
       "    </tr>\n",
       "    <tr>\n",
       "      <th>...</th>\n",
       "      <td>...</td>\n",
       "      <td>...</td>\n",
       "      <td>...</td>\n",
       "      <td>...</td>\n",
       "      <td>...</td>\n",
       "      <td>...</td>\n",
       "      <td>...</td>\n",
       "      <td>...</td>\n",
       "      <td>...</td>\n",
       "      <td>...</td>\n",
       "      <td>...</td>\n",
       "      <td>...</td>\n",
       "    </tr>\n",
       "    <tr>\n",
       "      <th>91</th>\n",
       "      <td>355030892</td>\n",
       "      <td>0.644625</td>\n",
       "      <td>0.340197</td>\n",
       "      <td>0.466791</td>\n",
       "      <td>0.532478</td>\n",
       "      <td>723.293314</td>\n",
       "      <td>0.000477</td>\n",
       "      <td>0.198662</td>\n",
       "      <td>0.000000</td>\n",
       "      <td>0.000062</td>\n",
       "      <td>0.000038</td>\n",
       "      <td>1</td>\n",
       "    </tr>\n",
       "    <tr>\n",
       "      <th>92</th>\n",
       "      <td>355030893</td>\n",
       "      <td>0.786583</td>\n",
       "      <td>0.189684</td>\n",
       "      <td>0.469341</td>\n",
       "      <td>0.530659</td>\n",
       "      <td>1186.577157</td>\n",
       "      <td>0.000700</td>\n",
       "      <td>0.211354</td>\n",
       "      <td>0.000115</td>\n",
       "      <td>0.000106</td>\n",
       "      <td>0.001631</td>\n",
       "      <td>4</td>\n",
       "    </tr>\n",
       "    <tr>\n",
       "      <th>93</th>\n",
       "      <td>355030894</td>\n",
       "      <td>0.670051</td>\n",
       "      <td>0.279147</td>\n",
       "      <td>0.470818</td>\n",
       "      <td>0.528859</td>\n",
       "      <td>1755.592516</td>\n",
       "      <td>0.000765</td>\n",
       "      <td>0.207809</td>\n",
       "      <td>0.000111</td>\n",
       "      <td>0.000028</td>\n",
       "      <td>0.000000</td>\n",
       "      <td>0</td>\n",
       "    </tr>\n",
       "    <tr>\n",
       "      <th>94</th>\n",
       "      <td>355030895</td>\n",
       "      <td>0.668859</td>\n",
       "      <td>0.320026</td>\n",
       "      <td>0.475136</td>\n",
       "      <td>0.524734</td>\n",
       "      <td>929.922292</td>\n",
       "      <td>0.000542</td>\n",
       "      <td>0.189857</td>\n",
       "      <td>0.000047</td>\n",
       "      <td>0.000083</td>\n",
       "      <td>0.002239</td>\n",
       "      <td>4</td>\n",
       "    </tr>\n",
       "    <tr>\n",
       "      <th>95</th>\n",
       "      <td>355030896</td>\n",
       "      <td>0.432674</td>\n",
       "      <td>0.561503</td>\n",
       "      <td>0.483211</td>\n",
       "      <td>0.516807</td>\n",
       "      <td>412.287499</td>\n",
       "      <td>0.000729</td>\n",
       "      <td>0.255361</td>\n",
       "      <td>0.000036</td>\n",
       "      <td>0.000073</td>\n",
       "      <td>0.000498</td>\n",
       "      <td>1</td>\n",
       "    </tr>\n",
       "  </tbody>\n",
       "</table>\n",
       "<p>96 rows × 12 columns</p>\n",
       "</div>"
      ],
      "text/plain": [
       "      CD_DIST  PERC_WHITE  PERC_BLACK  PERC_MAN  PERC_WOMAN  INCOME_PER_CAPTA  \\\n",
       "0   355030801    0.836776    0.137931  0.460200    0.539800       1352.489931   \n",
       "1   355030802    0.887399    0.080595  0.450402    0.549598       3943.681912   \n",
       "2   355030803    0.490761    0.502057  0.491793    0.507190        527.921696   \n",
       "3   355030804    0.695867    0.275334  0.474002    0.525998        794.428901   \n",
       "4   355030805    0.614825    0.370745  0.466795    0.533205        739.852568   \n",
       "..        ...         ...         ...       ...         ...               ...   \n",
       "91  355030892    0.644625    0.340197  0.466791    0.532478        723.293314   \n",
       "92  355030893    0.786583    0.189684  0.469341    0.530659       1186.577157   \n",
       "93  355030894    0.670051    0.279147  0.470818    0.528859       1755.592516   \n",
       "94  355030895    0.668859    0.320026  0.475136    0.524734        929.922292   \n",
       "95  355030896    0.432674    0.561503  0.483211    0.516807        412.287499   \n",
       "\n",
       "    PERC_SCHOOLS  PERC_STUDENTS  PERC_CULTURE_EQUP  PERC_HEALTH_EQUIP  \\\n",
       "0       0.000624       0.169686           0.000024           0.000059   \n",
       "1       0.000603       0.244985           0.000371           0.000116   \n",
       "2       0.000623       0.256077           0.000061           0.000061   \n",
       "3       0.000603       0.220682           0.000022           0.000033   \n",
       "4       0.000627       0.231407           0.000019           0.000076   \n",
       "..           ...            ...                ...                ...   \n",
       "91      0.000477       0.198662           0.000000           0.000062   \n",
       "92      0.000700       0.211354           0.000115           0.000106   \n",
       "93      0.000765       0.207809           0.000111           0.000028   \n",
       "94      0.000542       0.189857           0.000047           0.000083   \n",
       "95      0.000729       0.255361           0.000036           0.000073   \n",
       "\n",
       "    PERC_LEITOS  Clus  \n",
       "0      0.000071     4  \n",
       "1      0.000139     2  \n",
       "2      0.000000     1  \n",
       "3      0.000000     1  \n",
       "4      0.000000     1  \n",
       "..          ...   ...  \n",
       "91     0.000038     1  \n",
       "92     0.001631     4  \n",
       "93     0.000000     0  \n",
       "94     0.002239     4  \n",
       "95     0.000498     1  \n",
       "\n",
       "[96 rows x 12 columns]"
      ]
     },
     "execution_count": 86,
     "metadata": {},
     "output_type": "execute_result"
    }
   ],
   "source": [
    "base_dist"
   ]
  },
  {
   "cell_type": "markdown",
   "metadata": {},
   "source": [
    "#### Predictive model SVM."
   ]
  },
  {
   "cell_type": "markdown",
   "metadata": {},
   "source": [
    "SVM works by mapping data to a large-sized resource space, so that data points can be categorized, even when data is not linearly separable. A separator between the categories is found and the data is transformed so that the separator can be drawn as a hyperplane. After that, the characteristics of the new data can be used to predict the group to which a new record should belong."
   ]
  },
  {
   "cell_type": "markdown",
   "metadata": {},
   "source": [
    "District"
   ]
  },
  {
   "cell_type": "code",
   "execution_count": 42,
   "metadata": {},
   "outputs": [],
   "source": [
    "from sklearn import preprocessing"
   ]
  },
  {
   "cell_type": "markdown",
   "metadata": {},
   "source": [
    "Given the 5 groups created based on data from the city of São Paulo, this model aims to classify a district in another city based on information on the percentages of white population, the percentages of black population, the per capita income of the sector, the percentage of men and women, the number of schools per capita, the number of students per capita, the amount of cultural facilities per capita, the amount of health facilities per capita and the number of hospital beds per district."
   ]
  },
  {
   "cell_type": "code",
   "execution_count": 43,
   "metadata": {},
   "outputs": [
    {
     "data": {
      "text/plain": [
       "array([1, 2, 3, 3, 3], dtype=int32)"
      ]
     },
     "execution_count": 43,
     "metadata": {},
     "output_type": "execute_result"
    }
   ],
   "source": [
    "y = base_dist['Clus'].values\n",
    "y[0:5]"
   ]
  },
  {
   "cell_type": "code",
   "execution_count": 44,
   "metadata": {},
   "outputs": [],
   "source": [
    "X = base_dist[['PERC_WHITE', 'PERC_BLACK','PERC_MAN', 'PERC_WOMAN', 'INCOME_PER_CAPTA', 'PERC_SCHOOLS', 'PERC_STUDENTS', 'PERC_CULTURE_EQUP', 'PERC_HEALTH_EQUIP', 'PERC_LEITOS']]"
   ]
  },
  {
   "cell_type": "markdown",
   "metadata": {},
   "source": [
    "The data were normalized on the standard deviation due. The method used to normalize was StandardScaler (). Then they are divided into training and test data in the proportion of 80% for training and 20% for testing. The training sample had 76 sectors and the test sample had 20."
   ]
  },
  {
   "cell_type": "code",
   "execution_count": 45,
   "metadata": {},
   "outputs": [
    {
     "data": {
      "text/plain": [
       "array([[ 1.35443797e+00, -1.21666772e+00, -8.76356439e-01,\n",
       "         9.13179788e-01, -2.79712192e-02, -1.35151080e-01,\n",
       "        -4.64958107e-01, -4.67170344e-01, -7.28939665e-01,\n",
       "        -5.08694053e-01],\n",
       "       [ 1.72141477e+00, -1.59902556e+00, -1.62494695e+00,\n",
       "         1.65700769e+00,  2.37340427e+00, -2.53301314e-01,\n",
       "        -6.02414039e-02,  2.02844875e-01,  3.96868537e-02,\n",
       "        -4.97163389e-01],\n",
       "       [-1.15388148e+00,  1.21159400e+00,  1.53742236e+00,\n",
       "        -1.56247442e+00, -7.92136115e-01, -1.42304987e-01,\n",
       "        -6.19832306e-04, -3.95461398e-01, -7.03549511e-01,\n",
       "        -5.20574941e-01],\n",
       "       [ 3.32967408e-01, -3.00361117e-01,  1.78126026e-01,\n",
       "        -1.34593958e-01, -5.45151764e-01, -2.56027877e-01,\n",
       "        -1.90860599e-01, -4.69529483e-01, -1.07043096e+00,\n",
       "        -5.20574941e-01],\n",
       "       [-2.54520092e-01,  3.35910285e-01, -3.72534839e-01,\n",
       "         4.12563550e-01, -5.95730135e-01, -1.17168982e-01,\n",
       "        -1.33217305e-01, -4.75924198e-01, -4.98185943e-01,\n",
       "        -5.20574941e-01]])"
      ]
     },
     "execution_count": 45,
     "metadata": {},
     "output_type": "execute_result"
    }
   ],
   "source": [
    "X= preprocessing.StandardScaler().fit(X).transform(X)\n",
    "X[0:5]"
   ]
  },
  {
   "cell_type": "code",
   "execution_count": 46,
   "metadata": {},
   "outputs": [
    {
     "name": "stdout",
     "output_type": "stream",
     "text": [
      "Train set: (76, 10) (76,)\n",
      "Test set: (20, 10) (20,)\n"
     ]
    }
   ],
   "source": [
    "from sklearn.model_selection import train_test_split\n",
    "X_train, X_test, y_train, y_test = train_test_split( X, y, test_size=0.2, random_state=4)\n",
    "print ('Train set:', X_train.shape,  y_train.shape)\n",
    "print ('Test set:', X_test.shape,  y_test.shape)"
   ]
  },
  {
   "cell_type": "markdown",
   "metadata": {},
   "source": [
    "Then SVM functionality was imported from the sklearn library. The SVM algorithm offers a choice of kernel functions to perform its processing. Basically, mapping data in a higher dimensional space is called kernelling. The mathematical function used for the transformation is known as the kernel function and can be of different types. In this case, the linear function was chosen."
   ]
  },
  {
   "cell_type": "code",
   "execution_count": 47,
   "metadata": {},
   "outputs": [
    {
     "data": {
      "text/plain": [
       "array([1, 4, 0, 4, 2], dtype=int32)"
      ]
     },
     "execution_count": 47,
     "metadata": {},
     "output_type": "execute_result"
    }
   ],
   "source": [
    "from sklearn import svm\n",
    "clf = svm.SVC(kernel='linear')\n",
    "clf.fit(X_train, y_train)\n",
    "yhat = clf.predict(X_test)\n",
    "yhat [0:5]"
   ]
  },
  {
   "cell_type": "code",
   "execution_count": 48,
   "metadata": {},
   "outputs": [],
   "source": [
    "from sklearn.metrics import jaccard_similarity_score\n",
    "from sklearn.metrics import f1_score\n",
    "from sklearn.metrics import log_loss"
   ]
  },
  {
   "cell_type": "markdown",
   "metadata": {},
   "source": [
    "**EVALUATION MODEL**"
   ]
  },
  {
   "cell_type": "code",
   "execution_count": 49,
   "metadata": {},
   "outputs": [
    {
     "name": "stdout",
     "output_type": "stream",
     "text": [
      "SVM F1-score: 0.93\n",
      "SVM Jaccard score: 0.93\n"
     ]
    }
   ],
   "source": [
    "yhat=clf.predict(X)\n",
    "SVMJaccard = jaccard_similarity_score(y, yhat)\n",
    "SVMF1 = f1_score(y, yhat, average='weighted')\n",
    "print(\"SVM F1-score: %.2f\" % SVMF1)\n",
    "print(\"SVM Jaccard score: %.2f\" % SVMJaccard)"
   ]
  },
  {
   "cell_type": "markdown",
   "metadata": {},
   "source": [
    "CENSUS SECTOR"
   ]
  },
  {
   "cell_type": "code",
   "execution_count": 50,
   "metadata": {},
   "outputs": [
    {
     "data": {
      "text/plain": [
       "array([2, 0, 1, 1, 1], dtype=int32)"
      ]
     },
     "execution_count": 50,
     "metadata": {},
     "output_type": "execute_result"
    }
   ],
   "source": [
    "y = base['Clus'].values\n",
    "y[0:5]"
   ]
  },
  {
   "cell_type": "code",
   "execution_count": 51,
   "metadata": {},
   "outputs": [],
   "source": [
    "X = base[['PERC_WHITE', 'PERC_BLACK','INCOME_PER_CAPTA']]"
   ]
  },
  {
   "cell_type": "code",
   "execution_count": 52,
   "metadata": {},
   "outputs": [
    {
     "data": {
      "text/plain": [
       "array([[ 1.46984909, -1.46137573,  2.85177763],\n",
       "       [ 1.02608096, -0.83845187, -0.09146605],\n",
       "       [ 0.92112529, -0.74088035, -0.23900606],\n",
       "       [ 1.09507614, -0.94927799, -0.32655272],\n",
       "       [ 0.67677505, -0.55333464, -0.34828142]])"
      ]
     },
     "execution_count": 52,
     "metadata": {},
     "output_type": "execute_result"
    }
   ],
   "source": [
    "X= preprocessing.StandardScaler().fit(X).transform(X)\n",
    "X[0:5]"
   ]
  },
  {
   "cell_type": "code",
   "execution_count": 54,
   "metadata": {},
   "outputs": [
    {
     "name": "stdout",
     "output_type": "stream",
     "text": [
      "Train set: (14690, 3) (14690,)\n",
      "Test set: (3673, 3) (3673,)\n"
     ]
    }
   ],
   "source": [
    "from sklearn.model_selection import train_test_split\n",
    "X_train, X_test, y_train, y_test = train_test_split( X, y, test_size=0.2, random_state=4)\n",
    "print ('Train set:', X_train.shape,  y_train.shape)\n",
    "print ('Test set:', X_test.shape,  y_test.shape)"
   ]
  },
  {
   "cell_type": "code",
   "execution_count": 55,
   "metadata": {},
   "outputs": [
    {
     "data": {
      "text/plain": [
       "array([1, 2, 0, 1, 1], dtype=int32)"
      ]
     },
     "execution_count": 55,
     "metadata": {},
     "output_type": "execute_result"
    }
   ],
   "source": [
    "from sklearn import svm\n",
    "clf = svm.SVC(kernel='linear')\n",
    "clf.fit(X_train, y_train)\n",
    "yhat = clf.predict(X_test)\n",
    "yhat [0:5]"
   ]
  },
  {
   "cell_type": "markdown",
   "metadata": {},
   "source": [
    "**EVALUATION MODEL**"
   ]
  },
  {
   "cell_type": "code",
   "execution_count": 56,
   "metadata": {},
   "outputs": [
    {
     "name": "stdout",
     "output_type": "stream",
     "text": [
      "SVM F1-score: 1.00\n",
      "SVM Jaccard score: 1.00\n"
     ]
    }
   ],
   "source": [
    "yhat=clf.predict(X)\n",
    "SVMJaccard = jaccard_similarity_score(y, yhat)\n",
    "SVMF1 = f1_score(y, yhat, average='weighted')\n",
    "print(\"SVM F1-score: %.2f\" % SVMF1)\n",
    "print(\"SVM Jaccard score: %.2f\" % SVMJaccard)"
   ]
  },
  {
   "cell_type": "markdown",
   "metadata": {},
   "source": [
    "## 4. RESULTS"
   ]
  },
  {
   "cell_type": "markdown",
   "metadata": {},
   "source": [
    "With the sectors clustered and with the prediction model created, the first step is to place the information on the map to visualize the spatial distribution and understand if there is a spatial continuity of the clusters.\n",
    "To do this we used the folium library and the following configuration:"
   ]
  },
  {
   "cell_type": "code",
   "execution_count": null,
   "metadata": {},
   "outputs": [],
   "source": [
    "setor_polygon = r'setor_polygons2.json'\n",
    "\n",
    "\n",
    "# let Folium determine the scale.\n",
    "sp_map_polygon = folium.Map(location=[-23.547152, -46.634934], zoom_start=11, tiles='Mapbox Bright')\n",
    "sp_map_polygon.choropleth(\n",
    "    geo_data=setor_polygon,\n",
    "    data=base,\n",
    "    columns=['CD_SETOR','Clus'],\n",
    "    key_on='feature.properties.CD_SETOR',\n",
    "    fill_color='YlGnBu', \n",
    "    fill_opacity=0.7, \n",
    "    line_opacity=0.2,\n",
    "    legend_name='Clusters',\n",
    "    reset=True\n",
    ")\n",
    "sp_map_polygon"
   ]
  },
  {
   "cell_type": "markdown",
   "metadata": {},
   "source": [
    "Groups 2, 3 and 4 where the average percentage of the black population is below 10% (far below 37% of the total city), with an average income above R $ 3,068 are concentrated in the most central area of the city with minor exceptions of sectors.\n",
    "\n",
    "Group 0, which has an average of 18% blacks, has a lower average income around R $ 1,508 and is spatially on the edge of the central areas.\n",
    "\n",
    "Group 1, which represents the majority of the city's sectors, has an average of 45.6% of the black population and has the lowest average per capita income in the city. These sectors are distributed in the peripheral parts of the city of São Paulo.\n",
    "\n",
    "The SVM predictive model showed a high capacity to classify this same condition in other Brazilian cities to understand whether this spatial phenomenon is repeated.\n",
    "\n",
    "The following model showed the classification of the districts using information other than the percentages of the white population, the percentages of the black population, the per capita income of the sector, the percentage of men and women, the number of schools per inhabitant, the number of students per inhabitant, the amount of cultural equipment per inhabitant, the amount of health equipment per inhabitant and the number of hospital beds per district.\n",
    "\n",
    "As a result we can see the map below:\n"
   ]
  },
  {
   "cell_type": "code",
   "execution_count": null,
   "metadata": {},
   "outputs": [],
   "source": [
    "dist_polygon = r'dist_polygons2.json'\n",
    "\n",
    "\n",
    "# let Folium determine the scale.\n",
    "sp_dist_polygon = folium.Map(location=[-23.547152, -46.634934], zoom_start=11, tiles='Mapbox Bright')\n",
    "sp_dist_polygon.choropleth(\n",
    "    geo_data=dist_polygon,\n",
    "    data=base_dist,\n",
    "    columns=['CD_DIST','Clus'],\n",
    "    key_on='feature.properties.CD_DIST',\n",
    "    fill_color='YlGnBu', \n",
    "    fill_opacity=0.7, \n",
    "    line_opacity=0.2,\n",
    "    legend_name='Clusters',\n",
    "    reset=True\n",
    ")\n",
    "sp_dist_polygon"
   ]
  },
  {
   "cell_type": "markdown",
   "metadata": {},
   "source": [
    "Groups 4 and 1 represent 16 districts of the city and are located in the most central part. The average white population is over 80% and black below 15% (in contrast to the representativeness of 37% of the black population in the city). These clusters have the best average per capita income and group 4 has the best average of schools per inhabitant and the best average of health equipment. Group 1, on the other hand, had the best average of cultural equipment and hospital beds. These groups together show that there is a concentration of structures in areas predominantly occupied by white people.\n",
    "\n",
    "Groups 2 and 3 that are on the edges of groups 1 and 4. They function as a kind of geographical boundary between group 0 and the others. All averages have no specific prominence, they are in the middle both geographically and by population and structure. However, the average black population is still below the city, 20.4% for 2 and 27.2% for 3.\n",
    "\n",
    "Finally, group 0 with the highest average percentage of blacks in the city and with the worst indicators of structure forming the peripheral areas of the city.\n",
    "The SVM predictive model showed a high capacity to classify this same condition in other Brazilian cities to understand whether this spatial phenomenon is repeated.\n"
   ]
  },
  {
   "cell_type": "markdown",
   "metadata": {},
   "source": [
    "## 5. Discussions"
   ]
  },
  {
   "cell_type": "markdown",
   "metadata": {},
   "source": [
    "Income inequality in the city of São Paulo and access to urban equipment showed a strong correlation with color. Places with a higher percentage of whites have higher per capita income and better distribution of cultural, education and health structures.\n",
    "To remedy this inequality, it is necessary to look at the problem in a social way. Brazilians often deny the existence of racism in our society, but it is no coincidence that poverty is concentrated in places where the majority is black.\n",
    "It is necessary for governments to face this problem and adopt policies for the inclusion and distribution of income aimed at the black population. Creating a quota system at universities and encouraging companies to hire more black people through tax incentives may be an option.\n",
    "Another suggestion is to bring more structures to the poorest parts of the city (where the black population is concentrated). Improving transportation, building cultural centers and schools helps to stimulate people in the search for knowledge and capacity. Increasing education increases access to income.\n"
   ]
  },
  {
   "cell_type": "markdown",
   "metadata": {},
   "source": [
    "## 6. Conclusion"
   ]
  },
  {
   "cell_type": "markdown",
   "metadata": {},
   "source": [
    "Racism is related to inequality in the distribution of Brazilian income and is reflected in the occupation of spaces in the city of São Paulo.\n",
    "The data shown in this study of the correlation between the percentage of black residents, lower income, distance from central and more structured parts of the city, show that São Paulo needs inclusion policies that take into account the color / race factor.\n",
    "It is necessary to consider that racism is a structural problem in Brazilian society and to initiate projects that ensure that the black population has more access to education and opportunities to improve their income. Only then can we reduce social inequality in Brazil.\n"
   ]
  },
  {
   "cell_type": "code",
   "execution_count": null,
   "metadata": {},
   "outputs": [],
   "source": []
  }
 ],
 "metadata": {
  "kernelspec": {
   "display_name": "Python",
   "language": "python",
   "name": "conda-env-python-py"
  },
  "language_info": {
   "codemirror_mode": {
    "name": "ipython",
    "version": 3
   },
   "file_extension": ".py",
   "mimetype": "text/x-python",
   "name": "python",
   "nbconvert_exporter": "python",
   "pygments_lexer": "ipython3",
   "version": "3.6.10"
  }
 },
 "nbformat": 4,
 "nbformat_minor": 4
}
